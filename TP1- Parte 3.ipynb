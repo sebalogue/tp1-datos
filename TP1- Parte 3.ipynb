{
 "cells": [
  {
   "cell_type": "code",
   "execution_count": 1,
   "metadata": {
    "collapsed": true
   },
   "outputs": [],
   "source": [
    "# importacion general de librerias y de visualizacion (matplotlib y seaborn)\n",
    "import pandas as pd\n",
    "import numpy as np\n",
    "import matplotlib.pyplot as plt\n",
    "import seaborn as sns\n",
    "\n",
    "%matplotlib inline\n",
    "\n",
    "\n",
    "plt.style.use('default') # haciendo los graficos un poco mas bonitos en matplotlib\n",
    "\n",
    "sns.set(style=\"whitegrid\") # seteando tipo de grid en seaborn\n",
    "\n",
    "pd.options.display.float_format = '{:20,.2f}'.format # suprimimos la notacion cientifica en los outputs"
   ]
  },
  {
   "cell_type": "code",
   "execution_count": null,
   "metadata": {},
   "outputs": [],
   "source": []
  },
  {
   "cell_type": "markdown",
   "metadata": {},
   "source": [
    "# 3) Relaciones entre eventos"
   ]
  },
  {
   "cell_type": "markdown",
   "metadata": {},
   "source": [
    "## 3.1)Relación viewed product y checkout. "
   ]
  },
  {
   "cell_type": "markdown",
   "metadata": {},
   "source": []
  },
  {
   "cell_type": "code",
   "execution_count": 441,
   "metadata": {},
   "outputs": [
    {
     "data": {
      "text/html": [
       "<div>\n",
       "<style scoped>\n",
       "    .dataframe tbody tr th:only-of-type {\n",
       "        vertical-align: middle;\n",
       "    }\n",
       "\n",
       "    .dataframe tbody tr th {\n",
       "        vertical-align: top;\n",
       "    }\n",
       "\n",
       "    .dataframe thead th {\n",
       "        text-align: right;\n",
       "    }\n",
       "</style>\n",
       "<table border=\"1\" class=\"dataframe\">\n",
       "  <thead>\n",
       "    <tr style=\"text-align: right;\">\n",
       "      <th></th>\n",
       "      <th>cantidad de personas</th>\n",
       "    </tr>\n",
       "    <tr>\n",
       "      <th>cantidad de compras</th>\n",
       "      <th></th>\n",
       "    </tr>\n",
       "  </thead>\n",
       "  <tbody>\n",
       "    <tr>\n",
       "      <th>1</th>\n",
       "      <td>372</td>\n",
       "    </tr>\n",
       "    <tr>\n",
       "      <th>2</th>\n",
       "      <td>103</td>\n",
       "    </tr>\n",
       "    <tr>\n",
       "      <th>3</th>\n",
       "      <td>37</td>\n",
       "    </tr>\n",
       "    <tr>\n",
       "      <th>4</th>\n",
       "      <td>19</td>\n",
       "    </tr>\n",
       "    <tr>\n",
       "      <th>5</th>\n",
       "      <td>6</td>\n",
       "    </tr>\n",
       "    <tr>\n",
       "      <th>6</th>\n",
       "      <td>8</td>\n",
       "    </tr>\n",
       "    <tr>\n",
       "      <th>7</th>\n",
       "      <td>5</td>\n",
       "    </tr>\n",
       "    <tr>\n",
       "      <th>8</th>\n",
       "      <td>3</td>\n",
       "    </tr>\n",
       "    <tr>\n",
       "      <th>10</th>\n",
       "      <td>1</td>\n",
       "    </tr>\n",
       "    <tr>\n",
       "      <th>11</th>\n",
       "      <td>1</td>\n",
       "    </tr>\n",
       "    <tr>\n",
       "      <th>12</th>\n",
       "      <td>1</td>\n",
       "    </tr>\n",
       "  </tbody>\n",
       "</table>\n",
       "</div>"
      ],
      "text/plain": [
       "                     cantidad de personas\n",
       "cantidad de compras                      \n",
       "1                                     372\n",
       "2                                     103\n",
       "3                                      37\n",
       "4                                      19\n",
       "5                                       6\n",
       "6                                       8\n",
       "7                                       5\n",
       "8                                       3\n",
       "10                                      1\n",
       "11                                      1\n",
       "12                                      1"
      ]
     },
     "execution_count": 441,
     "metadata": {},
     "output_type": "execute_result"
    }
   ],
   "source": [
    "coincidencias = 0 \n",
    "personas = tf.loc[:,['event','person','sku']]\n",
    "#personas por el evento checkout\n",
    "personas_conv = personas[(personas['event'] == 'conversion')]\n",
    "#personas por el evento viewed\n",
    "personas_viewed = personas[(personas['event'] == 'viewed product')].drop_duplicates()\n",
    "\n",
    "interseccion_de_personas = pd.merge(personas_conv, personas_viewed, on=['person','sku'], how='inner')\n",
    "#CANTIDAD DE  COMPRAS POR PERSONAS QUE COMPRARON EL PRODUCTO QUE MIRARON VARIAS VECES.\n",
    "cantidad_de_compras_iguales = union_de_personas.groupby('person').size().to_frame('cantidad de compras').groupby('cantidad de compras').size().to_frame('cantidad de personas')\n",
    "cantidad_de_compras_iguales"
   ]
  },
  {
   "cell_type": "markdown",
   "metadata": {},
   "source": [
    "**3.1.1)¿Cuántas personas compraron el mismo producto que vieron?**"
   ]
  },
  {
   "cell_type": "code",
   "execution_count": 466,
   "metadata": {},
   "outputs": [
    {
     "data": {
      "text/plain": [
       "viewed product       528931\n",
       "brand listing         98635\n",
       "visited site          87378\n",
       "ad campaign hit       82827\n",
       "generic listing       67534\n",
       "searched products     56073\n",
       "search engine hit     50957\n",
       "checkout              33735\n",
       "staticpage             3598\n",
       "conversion             1172\n",
       "lead                    448\n",
       "Name: event, dtype: int64"
      ]
     },
     "execution_count": 466,
     "metadata": {},
     "output_type": "execute_result"
    }
   ],
   "source": [
    "coincidencias = 0 \n",
    "#personas = tf.loc[:,['event','person','sku']]\n",
    "#personas por el evento checkout\n",
    "personas_conv = personas[(personas['event'] == 'conversion')]\n",
    "#personas por el evento viewed\n",
    "personas_viewed = personas[(personas['event'] == 'viewed product')].drop_duplicates()#\n",
    "#hago un drop por si alguien vio muchas veces el producto antes de comprarlo\n",
    "#si una persona vio muchas veces el producto antes de comprarlo\n",
    "\n",
    "interseccion_de_personas = pd.merge(personas_conv, personas_viewed, on=['person','sku'], how='inner')\n",
    "tf.event.value_counts()"
   ]
  },
  {
   "cell_type": "markdown",
   "metadata": {},
   "source": [
    "** 3.1.2)¿Cuántas personas no compraron el producto que vieron?**"
   ]
  },
  {
   "cell_type": "code",
   "execution_count": 459,
   "metadata": {},
   "outputs": [
    {
     "data": {
      "text/plain": [
       "False    51861\n",
       "True       935\n",
       "Name: compraron el mismo, dtype: int64"
      ]
     },
     "execution_count": 459,
     "metadata": {},
     "output_type": "execute_result"
    }
   ],
   "source": [
    "interseccion_de_personas_2 = pd.merge(personas_conv, personas_viewed, on = ['person'], how = 'inner',copy = False)\n",
    "interseccion_de_personas_2['compraron el mismo'] = (interseccion_de_personas_2['sku_x'] == interseccion_de_personas_2['sku_y'])\n",
    "interseccion_de_personas_2.drop_duplicates()\n",
    "interseccion_de_personas_2['compraron el mismo'].value_counts()"
   ]
  }
 ],
 "metadata": {
  "kernelspec": {
   "display_name": "Python 3",
   "language": "python",
   "name": "python3"
  },
  "language_info": {
   "codemirror_mode": {
    "name": "ipython",
    "version": 3
   },
   "file_extension": ".py",
   "mimetype": "text/x-python",
   "name": "python",
   "nbconvert_exporter": "python",
   "pygments_lexer": "ipython3",
   "version": "3.6.5"
  }
 },
 "nbformat": 4,
 "nbformat_minor": 2
}
