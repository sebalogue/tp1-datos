{
 "cells": [
  {
   "cell_type": "code",
   "execution_count": null,
   "metadata": {},
   "outputs": [],
   "source": [
    "import pandas as pd\n",
    "import numpy as np\n",
    "import matplotlib.pyplot as plt\n",
    "import seaborn as sns"
   ]
  },
  {
   "cell_type": "code",
   "execution_count": null,
   "metadata": {},
   "outputs": [],
   "source": [
    "tf = pd.read_csv('../../data/events.csv', low_memory=False)"
   ]
  },
  {
   "cell_type": "code",
   "execution_count": null,
   "metadata": {
    "scrolled": true
   },
   "outputs": [],
   "source": [
    "tf.columns"
   ]
  },
  {
   "cell_type": "code",
   "execution_count": null,
   "metadata": {
    "scrolled": true
   },
   "outputs": [],
   "source": [
    "tf['staticpage'].value_counts()"
   ]
  },
  {
   "cell_type": "code",
   "execution_count": null,
   "metadata": {
    "scrolled": true
   },
   "outputs": [],
   "source": [
    "tf['channel'].value_counts()"
   ]
  },
  {
   "cell_type": "code",
   "execution_count": null,
   "metadata": {
    "scrolled": true
   },
   "outputs": [],
   "source": [
    "tf.head(10)"
   ]
  },
  {
   "cell_type": "code",
   "execution_count": null,
   "metadata": {
    "scrolled": true
   },
   "outputs": [],
   "source": [
    "tf['campaign_source'].value_counts()"
   ]
  },
  {
   "cell_type": "code",
   "execution_count": null,
   "metadata": {
    "scrolled": true
   },
   "outputs": [],
   "source": [
    "tf['search_engine'].value_counts()"
   ]
  },
  {
   "cell_type": "code",
   "execution_count": null,
   "metadata": {},
   "outputs": [],
   "source": [
    "# to datetime:\n",
    "\n",
    "tf['timestamp'] = pd.to_datetime(tf['timestamp'])"
   ]
  },
  {
   "cell_type": "code",
   "execution_count": null,
   "metadata": {
    "scrolled": true
   },
   "outputs": [],
   "source": [
    "comprados = tf.loc[tf['event'] == 'conversion']\n",
    "\n",
    "# Agrego col con nombre del dia\n",
    "comprados['weekday name'] = tf['timestamp'].dt.weekday_name"
   ]
  },
  {
   "cell_type": "markdown",
   "metadata": {},
   "source": [
    "## Cantidad de compras por dia de la semana"
   ]
  },
  {
   "cell_type": "code",
   "execution_count": null,
   "metadata": {},
   "outputs": [],
   "source": [
    "days = ['Monday', 'Tuesday', 'Wednesday', 'Thursday', 'Friday', 'Saturday', 'Sunday']\n",
    "\n",
    "comprados['weekday name'].value_counts().reindex(days).plot(kind='bar')"
   ]
  },
  {
   "cell_type": "markdown",
   "metadata": {},
   "source": [
    "## Cantidad total de eventos por horario"
   ]
  },
  {
   "cell_type": "code",
   "execution_count": null,
   "metadata": {},
   "outputs": [],
   "source": [
    "df_hr = tf.filter(items = ['country','timestamp', 'event'])\n",
    "\n",
    "df_hr['hour'] = df_hr['timestamp'].dt.hour\n",
    "\n",
    "gr = df_hr['hour'].value_counts(sort=False).plot(kind='line', figsize=(8, 5), grid=True, style=\"-o\")\n",
    "gr.set_xlabel('Hora (24hs)')\n",
    "plt.xticks(range(0, 25));"
   ]
  },
  {
   "cell_type": "markdown",
   "metadata": {},
   "source": [
    "# Analisis de Eventos:"
   ]
  },
  {
   "cell_type": "markdown",
   "metadata": {},
   "source": [
    "## Cantidad de cada tipo de evento:"
   ]
  },
  {
   "cell_type": "code",
   "execution_count": null,
   "metadata": {},
   "outputs": [],
   "source": [
    "# 5 predominantes:\n",
    "eventos = tf['event'].value_counts()\n",
    "eventos.head().plot(kind='bar')"
   ]
  },
  {
   "cell_type": "code",
   "execution_count": null,
   "metadata": {
    "scrolled": true
   },
   "outputs": [],
   "source": [
    "# Sacando evento 'viewed products':\n",
    "\n",
    "tf['event'].loc[tf['event'] != 'viewed product'].value_counts().plot(kind='bar')"
   ]
  },
  {
   "cell_type": "markdown",
   "metadata": {},
   "source": [
    "## Cantidad de eventos totales por pais"
   ]
  },
  {
   "cell_type": "code",
   "execution_count": null,
   "metadata": {
    "scrolled": true
   },
   "outputs": [],
   "source": [
    "# los 4 predominantes:\n",
    "# el grafico es feo\n",
    "\n",
    "df_short = tf.filter(items = ['event', 'country'])\n",
    "df_short['country'].value_counts().head(4).plot(kind='bar')"
   ]
  },
  {
   "cell_type": "markdown",
   "metadata": {},
   "source": [
    "## Cantidad de eventos 'viewed product' por mes"
   ]
  },
  {
   "cell_type": "code",
   "execution_count": null,
   "metadata": {},
   "outputs": [],
   "source": [
    "df_event_vp = tf.loc[tf['event'] == 'viewed product' ]\n",
    "g = df_event_vp.groupby([tf['timestamp'].dt.month, 'event']).size().unstack()\\\n",
    "                        .plot(kind='bar')\n",
    "g.set_xlabel(\"Mes\")\n",
    "g.set_ylabel('Cantidad de eventos')\n",
    "g.legend(['Viewed product'])"
   ]
  },
  {
   "cell_type": "markdown",
   "metadata": {},
   "source": [
    "## cant ckeckouts >>> cant conversions:"
   ]
  },
  {
   "cell_type": "code",
   "execution_count": null,
   "metadata": {},
   "outputs": [],
   "source": [
    "#mal grafico?\n",
    "df_event = tf.filter(items = ['event', 'timestamp'])\n",
    "checkout_vs_conv = df_event.loc[(tf['event'] == 'checkout') | (tf['event'] == 'conversion')]\n",
    "checkout_vs_conv['event'].value_counts(normalize=True).plot(kind='barh')"
   ]
  },
  {
   "cell_type": "markdown",
   "metadata": {},
   "source": [
    "## Modelos mas comprados:"
   ]
  },
  {
   "cell_type": "code",
   "execution_count": null,
   "metadata": {},
   "outputs": [],
   "source": [
    "df_event_mod = tf.filter(items = ['event', 'model'])\n",
    "df_event_mod.loc[df_event_mod['event'] == 'conversion']['model'].value_counts().head().plot(kind='bar')"
   ]
  },
  {
   "cell_type": "markdown",
   "metadata": {},
   "source": [
    "## Cantidad de comprados por condicion del producto"
   ]
  },
  {
   "cell_type": "code",
   "execution_count": null,
   "metadata": {},
   "outputs": [],
   "source": [
    "comprados = tf.loc[tf['event'] == 'conversion']\n",
    "\n",
    "qual = ['Novo', 'Excelente', 'Muito Bom', 'Bom', 'Bom - Sem Touch ID']\n",
    "comprados['condition'].value_counts().reindex(qual).plot(kind='barh')"
   ]
  },
  {
   "cell_type": "code",
   "execution_count": null,
   "metadata": {},
   "outputs": [],
   "source": [
    "# Cantidad de productos (por 'condition') que tenemos en el dataset:\n",
    "\n",
    "tf['condition'].value_counts().plot(kind='bar')"
   ]
  },
  {
   "cell_type": "markdown",
   "metadata": {},
   "source": [
    "## Modelos no disponibles con más pedidos de notificación de stock "
   ]
  },
  {
   "cell_type": "code",
   "execution_count": null,
   "metadata": {},
   "outputs": [],
   "source": [
    "df_event_mod = tf.filter(items = ['event', 'model'])\n",
    "df_event_mod.loc[df_event_mod['event'] == 'lead']['model'].value_counts().head().plot(kind='bar')"
   ]
  },
  {
   "cell_type": "markdown",
   "metadata": {},
   "source": [
    "# 'new vs returning' por mes"
   ]
  },
  {
   "cell_type": "code",
   "execution_count": null,
   "metadata": {},
   "outputs": [],
   "source": [
    "df_new_vs_ret = tf.filter(items = ['event', 'new_vs_returning'])\n",
    "graf = tf.groupby([tf['timestamp'].dt.month, 'new_vs_returning']).size().unstack().plot(kind='bar')\n",
    "graf.set(xlabel='Numero de mes', ylabel='Cantidad')\n",
    "graf.legend(['New', 'Returning'])"
   ]
  },
  {
   "cell_type": "markdown",
   "metadata": {},
   "source": [
    "# Cantidad de visitas por compra de cliente"
   ]
  },
  {
   "cell_type": "markdown",
   "metadata": {},
   "source": [
    "## Solo los clientes que por lo menos realizaron una compra"
   ]
  },
  {
   "cell_type": "code",
   "execution_count": null,
   "metadata": {},
   "outputs": [],
   "source": [
    "person_event = tf.filter(items=['person', 'event'])\n",
    "person_event['cant'] = 1\n",
    "person_event = person_event.loc[(person_event['event'] == 'conversion') | (person_event['event'] == 'viewed product')]\n",
    "\n",
    "person_conv = person_event.groupby(['person', 'event']).agg({'cant': 'sum'}).unstack()\n",
    "person_conv = person_conv.loc[(person_conv['cant']['conversion'].notnull()) & (person_conv['cant']['conversion'] != 0)]"
   ]
  },
  {
   "cell_type": "code",
   "execution_count": null,
   "metadata": {},
   "outputs": [],
   "source": [
    "# Cambio nombre columnas\n",
    "person_conv.columns = ['conversion', 'viewed product']"
   ]
  },
  {
   "cell_type": "code",
   "execution_count": null,
   "metadata": {},
   "outputs": [],
   "source": [
    "person_conv.head()"
   ]
  },
  {
   "cell_type": "code",
   "execution_count": null,
   "metadata": {},
   "outputs": [],
   "source": [
    "fig, ax = plt.subplots()\n",
    "fig.set_size_inches(11, 8)\n",
    "\n",
    "dx = sns.stripplot(x=\"conversion\", y=\"viewed product\", data=person_conv,\\\n",
    "                   jitter=True, linewidth=0.4, alpha=.4, marker=\".\", size=40, ax=ax)\n",
    "\n",
    "dx.set(xlabel='Numero de compras', ylabel='Cantidad de visitas', \\\n",
    "       title='Relacion entre numero de compras y cantidad de visitas por usuario');\n"
   ]
  },
  {
   "cell_type": "markdown",
   "metadata": {},
   "source": [
    "Cada punto es un cliente (identificado a partir de la columna 'person') que posee una cantidad total de visitas al sitio (cantidad de eventos 'viewed product') y un numero total de compras (cantidad de eventos 'conversion'). En el gráfico solo se muestran los usuarios que realizaron más de una compra."
   ]
  },
  {
   "cell_type": "code",
   "execution_count": null,
   "metadata": {},
   "outputs": [],
   "source": [
    "g = person_conv['conversion'].value_counts().plot(kind='bar')\n",
    "\n",
    "g.set(xlabel=\"Numero de compras\", ylabel='Cantidad', title='Cantidad total de compras')\n"
   ]
  },
  {
   "cell_type": "code",
   "execution_count": null,
   "metadata": {},
   "outputs": [],
   "source": [
    "# los de 1 compra\n",
    "\n",
    "person_conv1 = person_event.groupby(['person', 'event']).agg({'cant': 'sum'}).unstack()\n",
    "person_conv1 = person_conv1.loc[(person_conv1['cant']['conversion'].notnull()) & (person_conv1['cant']['conversion'] == 1)]"
   ]
  },
  {
   "cell_type": "code",
   "execution_count": null,
   "metadata": {},
   "outputs": [],
   "source": [
    "person_conv1.columns = ['conversion', 'viewed product']\n",
    "person_conv1.head()"
   ]
  },
  {
   "cell_type": "code",
   "execution_count": null,
   "metadata": {},
   "outputs": [],
   "source": [
    "person_conv1['viewed product'].value_counts().head(10)"
   ]
  },
  {
   "cell_type": "code",
   "execution_count": null,
   "metadata": {},
   "outputs": [],
   "source": [
    "#g = person_conv1['viewed product'].value_counts().plot().hist()\n",
    "person_conv1.hist(column='viewed product', xlabelsize=15, bins=19)"
   ]
  },
  {
   "cell_type": "markdown",
   "metadata": {},
   "source": [
    "- - -"
   ]
  },
  {
   "cell_type": "markdown",
   "metadata": {},
   "source": [
    "# ¿Cuantos usuarios regresan 'x' cantidad de veces al sitio?"
   ]
  },
  {
   "cell_type": "code",
   "execution_count": null,
   "metadata": {},
   "outputs": [],
   "source": [
    "# No hay registros de personas NaN\n",
    "tf['person'].isna().sum()"
   ]
  },
  {
   "cell_type": "code",
   "execution_count": null,
   "metadata": {},
   "outputs": [],
   "source": [
    "# Cantidad de usuarios distintos registrados\n",
    "tf['person'].value_counts().count()"
   ]
  },
  {
   "cell_type": "markdown",
   "metadata": {},
   "source": [
    "- - -"
   ]
  },
  {
   "cell_type": "code",
   "execution_count": 4,
   "metadata": {},
   "outputs": [],
   "source": [
    "new_vs_returning = tf.filter(items=['person', 'new_vs_returning'])\n",
    "\n",
    "\n",
    "# Podemos considerar que todos los valores nulos son registros de usuarios que regresan al sitio ('Returning').\n",
    "# Luego descartaremos los usuarios que no tienen ningun registro de haber ingresado al sitio por primera vez ('New').\n",
    "\n",
    "new_vs_returning.fillna({'new_vs_returning': 'Returning'}, inplace=True)\n",
    "\n",
    "new_vs_returning = new_vs_returning.groupby(['person'])['new_vs_returning'].value_counts(dropna=False)"
   ]
  },
  {
   "cell_type": "code",
   "execution_count": 5,
   "metadata": {},
   "outputs": [
    {
     "data": {
      "text/plain": [
       "person    new_vs_returning\n",
       "0004b0a2  Returning            3\n",
       "          New                  1\n",
       "0006a21a  Returning            3\n",
       "          New                  1\n",
       "000a54b2  Returning           36\n",
       "Name: new_vs_returning, dtype: int64"
      ]
     },
     "execution_count": 5,
     "metadata": {},
     "output_type": "execute_result"
    }
   ],
   "source": [
    "# Obtengo una serie\n",
    "new_vs_returning.head()"
   ]
  },
  {
   "cell_type": "code",
   "execution_count": 6,
   "metadata": {},
   "outputs": [
    {
     "data": {
      "text/html": [
       "<div>\n",
       "<style scoped>\n",
       "    .dataframe tbody tr th:only-of-type {\n",
       "        vertical-align: middle;\n",
       "    }\n",
       "\n",
       "    .dataframe tbody tr th {\n",
       "        vertical-align: top;\n",
       "    }\n",
       "\n",
       "    .dataframe thead th {\n",
       "        text-align: right;\n",
       "    }\n",
       "</style>\n",
       "<table border=\"1\" class=\"dataframe\">\n",
       "  <thead>\n",
       "    <tr style=\"text-align: right;\">\n",
       "      <th>new_vs_returning</th>\n",
       "      <th>New</th>\n",
       "      <th>Returning</th>\n",
       "    </tr>\n",
       "    <tr>\n",
       "      <th>person</th>\n",
       "      <th></th>\n",
       "      <th></th>\n",
       "    </tr>\n",
       "  </thead>\n",
       "  <tbody>\n",
       "    <tr>\n",
       "      <th>0004b0a2</th>\n",
       "      <td>1.0</td>\n",
       "      <td>3.0</td>\n",
       "    </tr>\n",
       "    <tr>\n",
       "      <th>0006a21a</th>\n",
       "      <td>1.0</td>\n",
       "      <td>3.0</td>\n",
       "    </tr>\n",
       "    <tr>\n",
       "      <th>000a54b2</th>\n",
       "      <td>1.0</td>\n",
       "      <td>36.0</td>\n",
       "    </tr>\n",
       "    <tr>\n",
       "      <th>00184bf9</th>\n",
       "      <td>1.0</td>\n",
       "      <td>50.0</td>\n",
       "    </tr>\n",
       "    <tr>\n",
       "      <th>0019c395</th>\n",
       "      <td>1.0</td>\n",
       "      <td>7.0</td>\n",
       "    </tr>\n",
       "  </tbody>\n",
       "</table>\n",
       "</div>"
      ],
      "text/plain": [
       "new_vs_returning  New  Returning\n",
       "person                          \n",
       "0004b0a2          1.0        3.0\n",
       "0006a21a          1.0        3.0\n",
       "000a54b2          1.0       36.0\n",
       "00184bf9          1.0       50.0\n",
       "0019c395          1.0        7.0"
      ]
     },
     "execution_count": 6,
     "metadata": {},
     "output_type": "execute_result"
    }
   ],
   "source": [
    "# Construyo un DataFrame\n",
    "new_vs_returning_df = new_vs_returning.unstack()\n",
    "new_vs_returning_df.head()"
   ]
  },
  {
   "cell_type": "code",
   "execution_count": 7,
   "metadata": {},
   "outputs": [
    {
     "data": {
      "text/plain": [
       " 1.0    26898\n",
       "NaN       726\n",
       "Name: New, dtype: int64"
      ]
     },
     "execution_count": 7,
     "metadata": {},
     "output_type": "execute_result"
    }
   ],
   "source": [
    "# Veo cuantos nulos hay en la columna 'New'. Es decir, cuantos usuarios no fueron detectados por primera vez\n",
    "new_vs_returning_df['New'].value_counts(dropna=False)"
   ]
  },
  {
   "cell_type": "code",
   "execution_count": 8,
   "metadata": {},
   "outputs": [
    {
     "data": {
      "text/plain": [
       "0"
      ]
     },
     "execution_count": 8,
     "metadata": {},
     "output_type": "execute_result"
    }
   ],
   "source": [
    "# Veo cuantos nulos hay en la columna returning\n",
    "new_vs_returning_df['Returning'].isna().sum()"
   ]
  },
  {
   "cell_type": "code",
   "execution_count": 9,
   "metadata": {},
   "outputs": [],
   "source": [
    "# Elimino los usuarios que no fueron detectados por primera vez:\n",
    "new_vs_returning_df.dropna(inplace=True)"
   ]
  },
  {
   "cell_type": "code",
   "execution_count": 10,
   "metadata": {},
   "outputs": [
    {
     "data": {
      "text/plain": [
       "[Text(0,0.5,'Cantidad de usuarios'),\n",
       " Text(0.5,0,'Numero de veces que regresa un usuario a la pagina'),\n",
       " Text(0.5,1,'Cuantos usuarios regresan \"x\" cantidad de veces al sitio')]"
      ]
     },
     "execution_count": 10,
     "metadata": {},
     "output_type": "execute_result"
    },
    {
     "data": {
      "image/png": "[encoded data removed]",
      "text/plain": [
       "<Figure size 432x288 with 1 Axes>"
      ]
     },
     "metadata": {},
     "output_type": "display_data"
    }
   ],
   "source": [
    "new_vs_returning_g = new_vs_returning_df['Returning'].value_counts().head(12).plot(kind='bar')\n",
    "\n",
    "new_vs_returning_g.set(xlabel='Numero de veces que regresa un usuario a la pagina', ylabel='Cantidad de usuarios',\\\n",
    "                      title='Cuantos usuarios regresan \"x\" cantidad de veces al sitio')"
   ]
  },
  {
   "cell_type": "markdown",
   "metadata": {},
   "source": [
    "---"
   ]
  },
  {
   "cell_type": "code",
   "execution_count": 11,
   "metadata": {},
   "outputs": [],
   "source": [
    "new_vs_returning = tf.filter(items=['person', 'new_vs_returning'])\n",
    "\n",
    "\n",
    "# Podemos considerar que todos los valores nulos son registros de usuarios que regresan al sitio ('Returning').\n",
    "# Luego descartaremos los usuarios que no tienen ningun registro de haber ingresado al sitio por primera vez ('New').\n",
    "\n",
    "new_vs_returning.fillna({'new_vs_returning': 'Returning'}, inplace=True)\n",
    "\n",
    "new_vs_returning = new_vs_returning.groupby(['person'])['new_vs_returning'].value_counts(dropna=False)"
   ]
  },
  {
   "cell_type": "code",
   "execution_count": 12,
   "metadata": {},
   "outputs": [
    {
     "data": {
      "text/plain": [
       "person    new_vs_returning\n",
       "0004b0a2  Returning            3\n",
       "          New                  1\n",
       "0006a21a  Returning            3\n",
       "          New                  1\n",
       "000a54b2  Returning           36\n",
       "Name: new_vs_returning, dtype: int64"
      ]
     },
     "execution_count": 12,
     "metadata": {},
     "output_type": "execute_result"
    }
   ],
   "source": [
    "# Obtengo una serie\n",
    "new_vs_returning.head()"
   ]
  },
  {
   "cell_type": "code",
   "execution_count": 13,
   "metadata": {},
   "outputs": [
    {
     "data": {
      "text/html": [
       "<div>\n",
       "<style scoped>\n",
       "    .dataframe tbody tr th:only-of-type {\n",
       "        vertical-align: middle;\n",
       "    }\n",
       "\n",
       "    .dataframe tbody tr th {\n",
       "        vertical-align: top;\n",
       "    }\n",
       "\n",
       "    .dataframe thead th {\n",
       "        text-align: right;\n",
       "    }\n",
       "</style>\n",
       "<table border=\"1\" class=\"dataframe\">\n",
       "  <thead>\n",
       "    <tr style=\"text-align: right;\">\n",
       "      <th>new_vs_returning</th>\n",
       "      <th>New</th>\n",
       "      <th>Returning</th>\n",
       "    </tr>\n",
       "    <tr>\n",
       "      <th>person</th>\n",
       "      <th></th>\n",
       "      <th></th>\n",
       "    </tr>\n",
       "  </thead>\n",
       "  <tbody>\n",
       "    <tr>\n",
       "      <th>0004b0a2</th>\n",
       "      <td>1.0</td>\n",
       "      <td>3.0</td>\n",
       "    </tr>\n",
       "    <tr>\n",
       "      <th>0006a21a</th>\n",
       "      <td>1.0</td>\n",
       "      <td>3.0</td>\n",
       "    </tr>\n",
       "    <tr>\n",
       "      <th>000a54b2</th>\n",
       "      <td>1.0</td>\n",
       "      <td>36.0</td>\n",
       "    </tr>\n",
       "    <tr>\n",
       "      <th>00184bf9</th>\n",
       "      <td>1.0</td>\n",
       "      <td>50.0</td>\n",
       "    </tr>\n",
       "    <tr>\n",
       "      <th>0019c395</th>\n",
       "      <td>1.0</td>\n",
       "      <td>7.0</td>\n",
       "    </tr>\n",
       "  </tbody>\n",
       "</table>\n",
       "</div>"
      ],
      "text/plain": [
       "new_vs_returning  New  Returning\n",
       "person                          \n",
       "0004b0a2          1.0        3.0\n",
       "0006a21a          1.0        3.0\n",
       "000a54b2          1.0       36.0\n",
       "00184bf9          1.0       50.0\n",
       "0019c395          1.0        7.0"
      ]
     },
     "execution_count": 13,
     "metadata": {},
     "output_type": "execute_result"
    }
   ],
   "source": [
    "# Construyo un DataFrame\n",
    "new_vs_returning_df = new_vs_returning.unstack()\n",
    "new_vs_returning_df.head()"
   ]
  },
  {
   "cell_type": "code",
   "execution_count": 14,
   "metadata": {},
   "outputs": [
    {
     "data": {
      "text/plain": [
       " 1.0    26898\n",
       "NaN       726\n",
       "Name: New, dtype: int64"
      ]
     },
     "execution_count": 14,
     "metadata": {},
     "output_type": "execute_result"
    }
   ],
   "source": [
    "# Veo cuantos nulos hay en la columna 'New'. Es decir, cuantos usuarios no fueron detectados por primera vez\n",
    "new_vs_returning_df['New'].value_counts(dropna=False)"
   ]
  },
  {
   "cell_type": "code",
   "execution_count": 15,
   "metadata": {},
   "outputs": [],
   "source": [
    "# Elimino los usuarios que no fueron detectados por primera vez:\n",
    "new_vs_returning_df.dropna(inplace=True)"
   ]
  },
  {
   "cell_type": "code",
   "execution_count": 81,
   "metadata": {},
   "outputs": [
    {
     "data": {
      "image/png": "[encoded data removed]",
      "text/plain": [
       "<Figure size 864x360 with 1 Axes>"
      ]
     },
     "metadata": {},
     "output_type": "display_data"
    }
   ],
   "source": [
    "#Si tomamos Todos los valores registrados:\n",
    "\n",
    "fig, ax = plt.subplots(figsize=(12, 5))\n",
    "\n",
    "x = new_vs_returning_df['Returning']\n",
    "g = ax.hist(x, bins=200);\n",
    "\n",
    "plt.xlabel('Numero de veces que regresa un usuario a una pagina')\n",
    "plt.ylabel('Usuarios')\n",
    "plt.title('Distribucion de usuarios por cantidad de regresos a la pagina');"
   ]
  },
  {
   "cell_type": "code",
   "execution_count": 63,
   "metadata": {},
   "outputs": [
    {
     "data": {
      "image/png": "[encoded data removed]",
      "text/plain": [
       "<Figure size 864x360 with 1 Axes>"
      ]
     },
     "metadata": {},
     "output_type": "display_data"
    }
   ],
   "source": [
    "# Restringiendo los valores para una mejor visualizacion y mas especifica:\n",
    "\n",
    "fig, axs = plt.subplots(figsize=(12, 5))\n",
    "\n",
    "x = new_vs_returning_df['Returning']\n",
    "axs.hist(x, bins=50, range=(0,100));\n",
    "\n",
    "plt.xlabel('Numero de veces que regresa un usuario a una pagina')\n",
    "plt.ylabel('Usuarios')\n",
    "plt.title('Distribucion de usuarios por cantidad de regresos a la pagina');"
   ]
  },
  {
   "cell_type": "code",
   "execution_count": 80,
   "metadata": {},
   "outputs": [
    {
     "data": {
      "image/png": "[encoded data removed]",
      "text/plain": [
       "<Figure size 864x360 with 1 Axes>"
      ]
     },
     "metadata": {},
     "output_type": "display_data"
    }
   ],
   "source": [
    "fig, axs = plt.subplots(figsize=(12, 5))\n",
    "\n",
    "axs.hist(x, bins=30, range=(0,30), label='cfds');\n",
    "\n",
    "plt.xlabel('Numero de veces que regresan a la pagina')\n",
    "plt.ylabel('Usuarios')\n",
    "plt.title('Distribucion de usuarios por cantidad de regresos a la pagina');"
   ]
  },
  {
   "cell_type": "code",
   "execution_count": 83,
   "metadata": {},
   "outputs": [
    {
     "data": {
      "image/png": "[encoded data removed]",
      "text/plain": [
       "<Figure size 864x504 with 1 Axes>"
      ]
     },
     "metadata": {},
     "output_type": "display_data"
    }
   ],
   "source": [
    "# Grafico de barras para ver detalladamente cuantas veces regresa al sitio la mayoria de los usuarios\n",
    "\n",
    "fig, ax = plt.subplots(figsize=(12,7))\n",
    "\n",
    "nums = range(1, 24)\n",
    "\n",
    "relacion = new_vs_returning_df['Returning'].value_counts(sort=True).head(21)\n",
    "\n",
    "g = sns.barplot(x=relacion.index, y=relacion.values, palette=\"Blues_d\", orient='v', ax=ax)\n",
    "\n",
    "g.set(xlabel='Numero de veces que regresa un usuario a la pagina', ylabel='Cantidad de usuarios',\\\n",
    "    title='Cuantos usuarios regresan \"x\" cantidad de veces al sitio');"
   ]
  }
 ],
 "metadata": {
  "kernelspec": {
   "display_name": "Python 3",
   "language": "python",
   "name": "python3"
  },
  "language_info": {
   "codemirror_mode": {
    "name": "ipython",
    "version": 3
   },
   "file_extension": ".py",
   "mimetype": "text/x-python",
   "name": "python",
   "nbconvert_exporter": "python",
   "pygments_lexer": "ipython3",
   "version": "3.6.5"
  }
 },
 "nbformat": 4,
 "nbformat_minor": 2
}
