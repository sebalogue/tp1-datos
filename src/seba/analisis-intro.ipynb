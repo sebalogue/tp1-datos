{
 "cells": [
  {
   "cell_type": "code",
   "execution_count": 1,
   "metadata": {},
   "outputs": [],
   "source": [
    "import pandas as pd\n",
    "import numpy as np\n",
    "import matplotlib.pyplot as plt\n",
    "import seaborn as sns"
   ]
  },
  {
   "cell_type": "code",
   "execution_count": 2,
   "metadata": {},
   "outputs": [],
   "source": [
    "tf = pd.read_csv('../../data/events.csv', low_memory=False)"
   ]
  },
  {
   "cell_type": "code",
   "execution_count": null,
   "metadata": {
    "scrolled": true
   },
   "outputs": [],
   "source": [
    "tf.columns"
   ]
  },
  {
   "cell_type": "code",
   "execution_count": null,
   "metadata": {
    "scrolled": true
   },
   "outputs": [],
   "source": [
    "tf['staticpage'].value_counts()"
   ]
  },
  {
   "cell_type": "code",
   "execution_count": null,
   "metadata": {
    "scrolled": true
   },
   "outputs": [],
   "source": [
    "tf['channel'].value_counts()"
   ]
  },
  {
   "cell_type": "code",
   "execution_count": 414,
   "metadata": {
    "scrolled": true
   },
   "outputs": [
    {
     "data": {
      "text/html": [
       "<div>\n",
       "<style scoped>\n",
       "    .dataframe tbody tr th:only-of-type {\n",
       "        vertical-align: middle;\n",
       "    }\n",
       "\n",
       "    .dataframe tbody tr th {\n",
       "        vertical-align: top;\n",
       "    }\n",
       "\n",
       "    .dataframe thead th {\n",
       "        text-align: right;\n",
       "    }\n",
       "</style>\n",
       "<table border=\"1\" class=\"dataframe\">\n",
       "  <thead>\n",
       "    <tr style=\"text-align: right;\">\n",
       "      <th></th>\n",
       "      <th>timestamp</th>\n",
       "      <th>event</th>\n",
       "      <th>person</th>\n",
       "      <th>url</th>\n",
       "      <th>sku</th>\n",
       "      <th>model</th>\n",
       "      <th>condition</th>\n",
       "      <th>storage</th>\n",
       "      <th>color</th>\n",
       "      <th>skus</th>\n",
       "      <th>...</th>\n",
       "      <th>search_engine</th>\n",
       "      <th>channel</th>\n",
       "      <th>new_vs_returning</th>\n",
       "      <th>city</th>\n",
       "      <th>region</th>\n",
       "      <th>country</th>\n",
       "      <th>device_type</th>\n",
       "      <th>screen_resolution</th>\n",
       "      <th>operating_system_version</th>\n",
       "      <th>browser_version</th>\n",
       "    </tr>\n",
       "  </thead>\n",
       "  <tbody>\n",
       "    <tr>\n",
       "      <th>0</th>\n",
       "      <td>2018-05-31 23:38:05</td>\n",
       "      <td>ad campaign hit</td>\n",
       "      <td>0004b0a2</td>\n",
       "      <td>/comprar/iphone/iphone-5s</td>\n",
       "      <td>NaN</td>\n",
       "      <td>NaN</td>\n",
       "      <td>NaN</td>\n",
       "      <td>NaN</td>\n",
       "      <td>NaN</td>\n",
       "      <td>NaN</td>\n",
       "      <td>...</td>\n",
       "      <td>NaN</td>\n",
       "      <td>NaN</td>\n",
       "      <td>NaN</td>\n",
       "      <td>NaN</td>\n",
       "      <td>NaN</td>\n",
       "      <td>NaN</td>\n",
       "      <td>NaN</td>\n",
       "      <td>NaN</td>\n",
       "      <td>NaN</td>\n",
       "      <td>NaN</td>\n",
       "    </tr>\n",
       "    <tr>\n",
       "      <th>1</th>\n",
       "      <td>2018-05-31 23:38:05</td>\n",
       "      <td>visited site</td>\n",
       "      <td>0004b0a2</td>\n",
       "      <td>NaN</td>\n",
       "      <td>NaN</td>\n",
       "      <td>NaN</td>\n",
       "      <td>NaN</td>\n",
       "      <td>NaN</td>\n",
       "      <td>NaN</td>\n",
       "      <td>NaN</td>\n",
       "      <td>...</td>\n",
       "      <td>NaN</td>\n",
       "      <td>Paid</td>\n",
       "      <td>New</td>\n",
       "      <td>Camaragibe</td>\n",
       "      <td>Pernambuco</td>\n",
       "      <td>Brazil</td>\n",
       "      <td>Smartphone</td>\n",
       "      <td>360x640</td>\n",
       "      <td>Android 6</td>\n",
       "      <td>Chrome Mobile 39</td>\n",
       "    </tr>\n",
       "    <tr>\n",
       "      <th>2</th>\n",
       "      <td>2018-05-31 23:38:09</td>\n",
       "      <td>viewed product</td>\n",
       "      <td>0004b0a2</td>\n",
       "      <td>NaN</td>\n",
       "      <td>2694.0</td>\n",
       "      <td>iPhone 5s</td>\n",
       "      <td>Bom</td>\n",
       "      <td>32GB</td>\n",
       "      <td>Cinza espacial</td>\n",
       "      <td>NaN</td>\n",
       "      <td>...</td>\n",
       "      <td>NaN</td>\n",
       "      <td>NaN</td>\n",
       "      <td>NaN</td>\n",
       "      <td>NaN</td>\n",
       "      <td>NaN</td>\n",
       "      <td>NaN</td>\n",
       "      <td>NaN</td>\n",
       "      <td>NaN</td>\n",
       "      <td>NaN</td>\n",
       "      <td>NaN</td>\n",
       "    </tr>\n",
       "    <tr>\n",
       "      <th>3</th>\n",
       "      <td>2018-05-31 23:38:40</td>\n",
       "      <td>checkout</td>\n",
       "      <td>0004b0a2</td>\n",
       "      <td>NaN</td>\n",
       "      <td>2694.0</td>\n",
       "      <td>iPhone 5s</td>\n",
       "      <td>Bom</td>\n",
       "      <td>32GB</td>\n",
       "      <td>Cinza espacial</td>\n",
       "      <td>NaN</td>\n",
       "      <td>...</td>\n",
       "      <td>NaN</td>\n",
       "      <td>NaN</td>\n",
       "      <td>NaN</td>\n",
       "      <td>NaN</td>\n",
       "      <td>NaN</td>\n",
       "      <td>NaN</td>\n",
       "      <td>NaN</td>\n",
       "      <td>NaN</td>\n",
       "      <td>NaN</td>\n",
       "      <td>NaN</td>\n",
       "    </tr>\n",
       "    <tr>\n",
       "      <th>4</th>\n",
       "      <td>2018-05-29 13:29:25</td>\n",
       "      <td>viewed product</td>\n",
       "      <td>0006a21a</td>\n",
       "      <td>NaN</td>\n",
       "      <td>15338.0</td>\n",
       "      <td>Samsung Galaxy S8</td>\n",
       "      <td>Bom</td>\n",
       "      <td>64GB</td>\n",
       "      <td>Dourado</td>\n",
       "      <td>NaN</td>\n",
       "      <td>...</td>\n",
       "      <td>NaN</td>\n",
       "      <td>NaN</td>\n",
       "      <td>NaN</td>\n",
       "      <td>NaN</td>\n",
       "      <td>NaN</td>\n",
       "      <td>NaN</td>\n",
       "      <td>NaN</td>\n",
       "      <td>NaN</td>\n",
       "      <td>NaN</td>\n",
       "      <td>NaN</td>\n",
       "    </tr>\n",
       "    <tr>\n",
       "      <th>5</th>\n",
       "      <td>2018-05-29 13:29:26</td>\n",
       "      <td>visited site</td>\n",
       "      <td>0006a21a</td>\n",
       "      <td>NaN</td>\n",
       "      <td>NaN</td>\n",
       "      <td>NaN</td>\n",
       "      <td>NaN</td>\n",
       "      <td>NaN</td>\n",
       "      <td>NaN</td>\n",
       "      <td>NaN</td>\n",
       "      <td>...</td>\n",
       "      <td>NaN</td>\n",
       "      <td>Paid</td>\n",
       "      <td>New</td>\n",
       "      <td>Rio de Janeiro</td>\n",
       "      <td>Rio de Janeiro</td>\n",
       "      <td>Brazil</td>\n",
       "      <td>Smartphone</td>\n",
       "      <td>360x640</td>\n",
       "      <td>Android 5.1.1</td>\n",
       "      <td>Android 5.1</td>\n",
       "    </tr>\n",
       "    <tr>\n",
       "      <th>6</th>\n",
       "      <td>2018-05-29 13:29:27</td>\n",
       "      <td>ad campaign hit</td>\n",
       "      <td>0006a21a</td>\n",
       "      <td>/comprar/samsung/galaxy-s8</td>\n",
       "      <td>NaN</td>\n",
       "      <td>NaN</td>\n",
       "      <td>NaN</td>\n",
       "      <td>NaN</td>\n",
       "      <td>NaN</td>\n",
       "      <td>NaN</td>\n",
       "      <td>...</td>\n",
       "      <td>NaN</td>\n",
       "      <td>NaN</td>\n",
       "      <td>NaN</td>\n",
       "      <td>NaN</td>\n",
       "      <td>NaN</td>\n",
       "      <td>NaN</td>\n",
       "      <td>NaN</td>\n",
       "      <td>NaN</td>\n",
       "      <td>NaN</td>\n",
       "      <td>NaN</td>\n",
       "    </tr>\n",
       "    <tr>\n",
       "      <th>7</th>\n",
       "      <td>2018-05-29 13:29:35</td>\n",
       "      <td>checkout</td>\n",
       "      <td>0006a21a</td>\n",
       "      <td>NaN</td>\n",
       "      <td>15338.0</td>\n",
       "      <td>Samsung Galaxy S8</td>\n",
       "      <td>Bom</td>\n",
       "      <td>64GB</td>\n",
       "      <td>Dourado</td>\n",
       "      <td>NaN</td>\n",
       "      <td>...</td>\n",
       "      <td>NaN</td>\n",
       "      <td>NaN</td>\n",
       "      <td>NaN</td>\n",
       "      <td>NaN</td>\n",
       "      <td>NaN</td>\n",
       "      <td>NaN</td>\n",
       "      <td>NaN</td>\n",
       "      <td>NaN</td>\n",
       "      <td>NaN</td>\n",
       "      <td>NaN</td>\n",
       "    </tr>\n",
       "    <tr>\n",
       "      <th>8</th>\n",
       "      <td>2018-04-09 20:12:31</td>\n",
       "      <td>generic listing</td>\n",
       "      <td>000a54b2</td>\n",
       "      <td>NaN</td>\n",
       "      <td>NaN</td>\n",
       "      <td>NaN</td>\n",
       "      <td>NaN</td>\n",
       "      <td>NaN</td>\n",
       "      <td>NaN</td>\n",
       "      <td>10310,13333,13347,9902,9944,12774,12801,12744,...</td>\n",
       "      <td>...</td>\n",
       "      <td>NaN</td>\n",
       "      <td>NaN</td>\n",
       "      <td>NaN</td>\n",
       "      <td>NaN</td>\n",
       "      <td>NaN</td>\n",
       "      <td>NaN</td>\n",
       "      <td>NaN</td>\n",
       "      <td>NaN</td>\n",
       "      <td>NaN</td>\n",
       "      <td>NaN</td>\n",
       "    </tr>\n",
       "    <tr>\n",
       "      <th>9</th>\n",
       "      <td>2018-04-09 20:12:31</td>\n",
       "      <td>visited site</td>\n",
       "      <td>000a54b2</td>\n",
       "      <td>NaN</td>\n",
       "      <td>NaN</td>\n",
       "      <td>NaN</td>\n",
       "      <td>NaN</td>\n",
       "      <td>NaN</td>\n",
       "      <td>NaN</td>\n",
       "      <td>NaN</td>\n",
       "      <td>...</td>\n",
       "      <td>NaN</td>\n",
       "      <td>Paid</td>\n",
       "      <td>New</td>\n",
       "      <td>Rio de Janeiro</td>\n",
       "      <td>Rio de Janeiro</td>\n",
       "      <td>Brazil</td>\n",
       "      <td>Computer</td>\n",
       "      <td>1920x1080</td>\n",
       "      <td>Windows 10</td>\n",
       "      <td>Chrome 65.0</td>\n",
       "    </tr>\n",
       "  </tbody>\n",
       "</table>\n",
       "<p>10 rows × 23 columns</p>\n",
       "</div>"
      ],
      "text/plain": [
       "            timestamp            event    person                         url  \\\n",
       "0 2018-05-31 23:38:05  ad campaign hit  0004b0a2   /comprar/iphone/iphone-5s   \n",
       "1 2018-05-31 23:38:05     visited site  0004b0a2                         NaN   \n",
       "2 2018-05-31 23:38:09   viewed product  0004b0a2                         NaN   \n",
       "3 2018-05-31 23:38:40         checkout  0004b0a2                         NaN   \n",
       "4 2018-05-29 13:29:25   viewed product  0006a21a                         NaN   \n",
       "5 2018-05-29 13:29:26     visited site  0006a21a                         NaN   \n",
       "6 2018-05-29 13:29:27  ad campaign hit  0006a21a  /comprar/samsung/galaxy-s8   \n",
       "7 2018-05-29 13:29:35         checkout  0006a21a                         NaN   \n",
       "8 2018-04-09 20:12:31  generic listing  000a54b2                         NaN   \n",
       "9 2018-04-09 20:12:31     visited site  000a54b2                         NaN   \n",
       "\n",
       "       sku              model condition storage           color  \\\n",
       "0      NaN                NaN       NaN     NaN             NaN   \n",
       "1      NaN                NaN       NaN     NaN             NaN   \n",
       "2   2694.0          iPhone 5s       Bom    32GB  Cinza espacial   \n",
       "3   2694.0          iPhone 5s       Bom    32GB  Cinza espacial   \n",
       "4  15338.0  Samsung Galaxy S8       Bom    64GB         Dourado   \n",
       "5      NaN                NaN       NaN     NaN             NaN   \n",
       "6      NaN                NaN       NaN     NaN             NaN   \n",
       "7  15338.0  Samsung Galaxy S8       Bom    64GB         Dourado   \n",
       "8      NaN                NaN       NaN     NaN             NaN   \n",
       "9      NaN                NaN       NaN     NaN             NaN   \n",
       "\n",
       "                                                skus        ...         \\\n",
       "0                                                NaN        ...          \n",
       "1                                                NaN        ...          \n",
       "2                                                NaN        ...          \n",
       "3                                                NaN        ...          \n",
       "4                                                NaN        ...          \n",
       "5                                                NaN        ...          \n",
       "6                                                NaN        ...          \n",
       "7                                                NaN        ...          \n",
       "8  10310,13333,13347,9902,9944,12774,12801,12744,...        ...          \n",
       "9                                                NaN        ...          \n",
       "\n",
       "  search_engine channel new_vs_returning            city          region  \\\n",
       "0           NaN     NaN              NaN             NaN             NaN   \n",
       "1           NaN    Paid              New      Camaragibe      Pernambuco   \n",
       "2           NaN     NaN              NaN             NaN             NaN   \n",
       "3           NaN     NaN              NaN             NaN             NaN   \n",
       "4           NaN     NaN              NaN             NaN             NaN   \n",
       "5           NaN    Paid              New  Rio de Janeiro  Rio de Janeiro   \n",
       "6           NaN     NaN              NaN             NaN             NaN   \n",
       "7           NaN     NaN              NaN             NaN             NaN   \n",
       "8           NaN     NaN              NaN             NaN             NaN   \n",
       "9           NaN    Paid              New  Rio de Janeiro  Rio de Janeiro   \n",
       "\n",
       "  country device_type screen_resolution operating_system_version  \\\n",
       "0     NaN         NaN               NaN                      NaN   \n",
       "1  Brazil  Smartphone           360x640                Android 6   \n",
       "2     NaN         NaN               NaN                      NaN   \n",
       "3     NaN         NaN               NaN                      NaN   \n",
       "4     NaN         NaN               NaN                      NaN   \n",
       "5  Brazil  Smartphone           360x640            Android 5.1.1   \n",
       "6     NaN         NaN               NaN                      NaN   \n",
       "7     NaN         NaN               NaN                      NaN   \n",
       "8     NaN         NaN               NaN                      NaN   \n",
       "9  Brazil    Computer         1920x1080              Windows 10    \n",
       "\n",
       "    browser_version  \n",
       "0               NaN  \n",
       "1  Chrome Mobile 39  \n",
       "2               NaN  \n",
       "3               NaN  \n",
       "4               NaN  \n",
       "5       Android 5.1  \n",
       "6               NaN  \n",
       "7               NaN  \n",
       "8               NaN  \n",
       "9       Chrome 65.0  \n",
       "\n",
       "[10 rows x 23 columns]"
      ]
     },
     "execution_count": 414,
     "metadata": {},
     "output_type": "execute_result"
    }
   ],
   "source": [
    "tf.head(10)"
   ]
  },
  {
   "cell_type": "code",
   "execution_count": null,
   "metadata": {
    "scrolled": true
   },
   "outputs": [],
   "source": [
    "tf['campaign_source'].value_counts()"
   ]
  },
  {
   "cell_type": "code",
   "execution_count": null,
   "metadata": {
    "scrolled": true
   },
   "outputs": [],
   "source": [
    "tf['search_engine'].value_counts()"
   ]
  },
  {
   "cell_type": "code",
   "execution_count": 4,
   "metadata": {},
   "outputs": [],
   "source": [
    "# to datetime:\n",
    "\n",
    "tf['timestamp'] = pd.to_datetime(tf['timestamp'])"
   ]
  },
  {
   "cell_type": "code",
   "execution_count": null,
   "metadata": {
    "scrolled": true
   },
   "outputs": [],
   "source": [
    "comprados = tf.loc[tf['event'] == 'conversion']\n",
    "\n",
    "# Agrego col con nombre del dia\n",
    "comprados['weekday name'] = tf['timestamp'].dt.weekday_name"
   ]
  },
  {
   "cell_type": "markdown",
   "metadata": {},
   "source": [
    "## Cantidad de compras por dia de la semana"
   ]
  },
  {
   "cell_type": "code",
   "execution_count": null,
   "metadata": {},
   "outputs": [],
   "source": [
    "days = ['Monday', 'Tuesday', 'Wednesday', 'Thursday', 'Friday', 'Saturday', 'Sunday']\n",
    "\n",
    "comprados['weekday name'].value_counts().reindex(days).plot(kind='bar')"
   ]
  },
  {
   "cell_type": "markdown",
   "metadata": {},
   "source": [
    "## Cantidad total de eventos por horario"
   ]
  },
  {
   "cell_type": "code",
   "execution_count": null,
   "metadata": {},
   "outputs": [],
   "source": [
    "df_hr = tf.filter(items = ['country','timestamp', 'event'])\n",
    "\n",
    "df_hr['hour'] = df_hr['timestamp'].dt.hour\n",
    "\n",
    "gr = df_hr['hour'].value_counts(sort=False).plot(kind='line', figsize=(8, 5), grid=True, style=\"-o\")\n",
    "gr.set_xlabel('Hora (24hs)')\n",
    "plt.xticks(range(0, 25));"
   ]
  },
  {
   "cell_type": "markdown",
   "metadata": {},
   "source": [
    "# Analisis de Eventos:"
   ]
  },
  {
   "cell_type": "markdown",
   "metadata": {},
   "source": [
    "## Cantidad de cada tipo de evento:"
   ]
  },
  {
   "cell_type": "code",
   "execution_count": null,
   "metadata": {},
   "outputs": [],
   "source": [
    "# 5 predominantes:\n",
    "eventos = tf['event'].value_counts()\n",
    "eventos.head().plot(kind='bar')"
   ]
  },
  {
   "cell_type": "code",
   "execution_count": null,
   "metadata": {
    "scrolled": true
   },
   "outputs": [],
   "source": [
    "# Sacando evento 'viewed products':\n",
    "\n",
    "tf['event'].loc[tf['event'] != 'viewed product'].value_counts().plot(kind='bar')"
   ]
  },
  {
   "cell_type": "markdown",
   "metadata": {},
   "source": [
    "## Cantidad de eventos totales por pais"
   ]
  },
  {
   "cell_type": "code",
   "execution_count": null,
   "metadata": {
    "scrolled": true
   },
   "outputs": [],
   "source": [
    "# los 4 predominantes:\n",
    "# el grafico es feo\n",
    "\n",
    "df_short = tf.filter(items = ['event', 'country'])\n",
    "df_short['country'].value_counts().head(4).plot(kind='bar')"
   ]
  },
  {
   "cell_type": "markdown",
   "metadata": {},
   "source": [
    "## Cantidad de eventos 'viewed product' por mes"
   ]
  },
  {
   "cell_type": "code",
   "execution_count": null,
   "metadata": {},
   "outputs": [],
   "source": [
    "df_event_vp = tf.loc[tf['event'] == 'viewed product' ]\n",
    "g = df_event_vp.groupby([tf['timestamp'].dt.month, 'event']).size().unstack()\\\n",
    "                        .plot(kind='bar')\n",
    "g.set_xlabel(\"Mes\")\n",
    "g.set_ylabel('Cantidad de eventos')\n",
    "g.legend(['Viewed product'])"
   ]
  },
  {
   "cell_type": "markdown",
   "metadata": {},
   "source": [
    "## cant ckeckouts >>> cant conversions:"
   ]
  },
  {
   "cell_type": "code",
   "execution_count": null,
   "metadata": {},
   "outputs": [],
   "source": [
    "#mal grafico?\n",
    "df_event = tf.filter(items = ['event', 'timestamp'])\n",
    "checkout_vs_conv = df_event.loc[(tf['event'] == 'checkout') | (tf['event'] == 'conversion')]\n",
    "checkout_vs_conv['event'].value_counts(normalize=True).plot(kind='barh')"
   ]
  },
  {
   "cell_type": "markdown",
   "metadata": {},
   "source": [
    "## Modelos mas comprados:"
   ]
  },
  {
   "cell_type": "code",
   "execution_count": null,
   "metadata": {},
   "outputs": [],
   "source": [
    "df_event_mod = tf.filter(items = ['event', 'model'])\n",
    "df_event_mod.loc[df_event_mod['event'] == 'conversion']['model'].value_counts().head().plot(kind='bar')"
   ]
  },
  {
   "cell_type": "markdown",
   "metadata": {},
   "source": [
    "## Cantidad de comprados por condicion del producto"
   ]
  },
  {
   "cell_type": "code",
   "execution_count": null,
   "metadata": {},
   "outputs": [],
   "source": [
    "comprados = tf.loc[tf['event'] == 'conversion']\n",
    "\n",
    "qual = ['Novo', 'Excelente', 'Muito Bom', 'Bom', 'Bom - Sem Touch ID']\n",
    "comprados['condition'].value_counts().reindex(qual).plot(kind='barh')"
   ]
  },
  {
   "cell_type": "code",
   "execution_count": null,
   "metadata": {},
   "outputs": [],
   "source": [
    "# Cantidad de productos (por 'condition') que tenemos en el dataset:\n",
    "\n",
    "tf['condition'].value_counts().plot(kind='bar')"
   ]
  },
  {
   "cell_type": "markdown",
   "metadata": {},
   "source": [
    "## Modelos no disponibles con más pedidos de notificación de stock "
   ]
  },
  {
   "cell_type": "code",
   "execution_count": null,
   "metadata": {},
   "outputs": [],
   "source": [
    "df_event_mod = tf.filter(items = ['event', 'model'])\n",
    "df_event_mod.loc[df_event_mod['event'] == 'lead']['model'].value_counts().head().plot(kind='bar')"
   ]
  },
  {
   "cell_type": "markdown",
   "metadata": {},
   "source": [
    "# 'new vs returning' por mes"
   ]
  },
  {
   "cell_type": "code",
   "execution_count": null,
   "metadata": {},
   "outputs": [],
   "source": [
    "df_new_vs_ret = tf.filter(items = ['event', 'new_vs_returning'])\n",
    "graf = tf.groupby([tf['timestamp'].dt.month, 'new_vs_returning']).size().unstack().plot(kind='bar')\n",
    "graf.set(xlabel='Numero de mes', ylabel='Cantidad')\n",
    "graf.legend(['New', 'Returning'])"
   ]
  },
  {
   "cell_type": "markdown",
   "metadata": {},
   "source": [
    "# Cantidad de visitas por compra de cliente"
   ]
  },
  {
   "cell_type": "markdown",
   "metadata": {},
   "source": [
    "## Solo los clientes que por lo menos realizaron una compra"
   ]
  },
  {
   "cell_type": "code",
   "execution_count": 288,
   "metadata": {},
   "outputs": [],
   "source": [
    "person_event = tf.filter(items=['person', 'event'])\n",
    "person_event['cant'] = 1\n",
    "person_event = person_event.loc[(person_event['event'] == 'conversion') | (person_event['event'] == 'viewed product')]\n",
    "\n",
    "person_conv = person_event.groupby(['person', 'event']).agg({'cant': 'sum'}).unstack()\n",
    "person_conv = person_conv.loc[(person_conv['cant']['conversion'].notnull()) & (person_conv['cant']['conversion'] != 0)]"
   ]
  },
  {
   "cell_type": "code",
   "execution_count": 289,
   "metadata": {},
   "outputs": [],
   "source": [
    "# Cambio nombre columnas\n",
    "person_conv.columns = ['conversion', 'viewed product']"
   ]
  },
  {
   "cell_type": "code",
   "execution_count": 290,
   "metadata": {},
   "outputs": [
    {
     "data": {
      "text/html": [
       "<div>\n",
       "<style scoped>\n",
       "    .dataframe tbody tr th:only-of-type {\n",
       "        vertical-align: middle;\n",
       "    }\n",
       "\n",
       "    .dataframe tbody tr th {\n",
       "        vertical-align: top;\n",
       "    }\n",
       "\n",
       "    .dataframe thead th {\n",
       "        text-align: right;\n",
       "    }\n",
       "</style>\n",
       "<table border=\"1\" class=\"dataframe\">\n",
       "  <thead>\n",
       "    <tr style=\"text-align: right;\">\n",
       "      <th></th>\n",
       "      <th>conversion</th>\n",
       "      <th>viewed product</th>\n",
       "    </tr>\n",
       "    <tr>\n",
       "      <th>person</th>\n",
       "      <th></th>\n",
       "      <th></th>\n",
       "    </tr>\n",
       "  </thead>\n",
       "  <tbody>\n",
       "    <tr>\n",
       "      <th>00204059</th>\n",
       "      <td>1.0</td>\n",
       "      <td>44.0</td>\n",
       "    </tr>\n",
       "    <tr>\n",
       "      <th>00c13dee</th>\n",
       "      <td>1.0</td>\n",
       "      <td>17.0</td>\n",
       "    </tr>\n",
       "    <tr>\n",
       "      <th>00fdbb4b</th>\n",
       "      <td>1.0</td>\n",
       "      <td>3.0</td>\n",
       "    </tr>\n",
       "    <tr>\n",
       "      <th>0146a9df</th>\n",
       "      <td>1.0</td>\n",
       "      <td>23.0</td>\n",
       "    </tr>\n",
       "    <tr>\n",
       "      <th>01db2fe6</th>\n",
       "      <td>1.0</td>\n",
       "      <td>67.0</td>\n",
       "    </tr>\n",
       "  </tbody>\n",
       "</table>\n",
       "</div>"
      ],
      "text/plain": [
       "          conversion  viewed product\n",
       "person                              \n",
       "00204059         1.0            44.0\n",
       "00c13dee         1.0            17.0\n",
       "00fdbb4b         1.0             3.0\n",
       "0146a9df         1.0            23.0\n",
       "01db2fe6         1.0            67.0"
      ]
     },
     "execution_count": 290,
     "metadata": {},
     "output_type": "execute_result"
    }
   ],
   "source": [
    "person_conv.head()"
   ]
  },
  {
   "cell_type": "code",
   "execution_count": null,
   "metadata": {},
   "outputs": [],
   "source": [
    "fig, ax = plt.subplots()\n",
    "fig.set_size_inches(11, 8)\n",
    "\n",
    "dx = sns.stripplot(x=\"conversion\", y=\"viewed product\", data=person_conv,\\\n",
    "                   jitter=True, linewidth=0.4, alpha=.4, marker=\".\", size=40, ax=ax)\n",
    "\n",
    "dx.set(xlabel='Numero de compras', ylabel='Cantidad de visitas', \\\n",
    "       title='Relacion entre numero de compras y cantidad de visitas por usuario');\n"
   ]
  },
  {
   "cell_type": "markdown",
   "metadata": {},
   "source": [
    "Cada punto es un cliente (identificado a partir de la columna 'person') que posee una cantidad total de visitas al sitio (cantidad de eventos 'viewed product') y un numero total de compras (cantidad de eventos 'conversion'). En el gráfico solo se muestran los usuarios que realizaron más de una compra."
   ]
  },
  {
   "cell_type": "code",
   "execution_count": null,
   "metadata": {},
   "outputs": [],
   "source": [
    "g = person_conv['conversion'].value_counts().plot(kind='bar')\n",
    "\n",
    "g.set(xlabel=\"Numero de compras\", ylabel='Cantidad', title='Cantidad total de compras')\n"
   ]
  },
  {
   "cell_type": "code",
   "execution_count": null,
   "metadata": {},
   "outputs": [],
   "source": [
    "# los de 1 compra\n",
    "\n",
    "person_conv1 = person_event.groupby(['person', 'event']).agg({'cant': 'sum'}).unstack()\n",
    "person_conv1 = person_conv1.loc[(person_conv1['cant']['conversion'].notnull()) & (person_conv1['cant']['conversion'] == 1)]"
   ]
  },
  {
   "cell_type": "code",
   "execution_count": null,
   "metadata": {},
   "outputs": [],
   "source": [
    "person_conv1.columns = ['conversion', 'viewed product']\n",
    "person_conv1.head()"
   ]
  },
  {
   "cell_type": "code",
   "execution_count": null,
   "metadata": {},
   "outputs": [],
   "source": [
    "person_conv1['viewed product'].value_counts().head(10)"
   ]
  },
  {
   "cell_type": "code",
   "execution_count": null,
   "metadata": {},
   "outputs": [],
   "source": [
    "#g = person_conv1['viewed product'].value_counts().plot().hist()\n",
    "person_conv1.hist(column='viewed product', xlabelsize=15, bins=19)"
   ]
  },
  {
   "cell_type": "markdown",
   "metadata": {},
   "source": [
    "- - -"
   ]
  },
  {
   "cell_type": "markdown",
   "metadata": {},
   "source": [
    "# ¿Cuantos usuarios regresan 'x' cantidad de veces al sitio?"
   ]
  },
  {
   "cell_type": "code",
   "execution_count": null,
   "metadata": {},
   "outputs": [],
   "source": [
    "# No hay registros de personas NaN\n",
    "tf['person'].isna().sum()"
   ]
  },
  {
   "cell_type": "code",
   "execution_count": null,
   "metadata": {},
   "outputs": [],
   "source": [
    "# Cantidad de usuarios distintos registrados\n",
    "tf['person'].value_counts().count()"
   ]
  },
  {
   "cell_type": "markdown",
   "metadata": {},
   "source": [
    "- - -"
   ]
  },
  {
   "cell_type": "code",
   "execution_count": 4,
   "metadata": {},
   "outputs": [],
   "source": [
    "new_vs_returning = tf.filter(items=['person', 'new_vs_returning'])\n",
    "\n",
    "\n",
    "# Podemos considerar que todos los valores nulos son registros de usuarios que regresan al sitio ('Returning').\n",
    "# Luego descartaremos los usuarios que no tienen ningun registro de haber ingresado al sitio por primera vez ('New').\n",
    "\n",
    "new_vs_returning.fillna({'new_vs_returning': 'Returning'}, inplace=True)\n",
    "\n",
    "new_vs_returning = new_vs_returning.groupby(['person'])['new_vs_returning'].value_counts(dropna=False)"
   ]
  },
  {
   "cell_type": "code",
   "execution_count": 5,
   "metadata": {},
   "outputs": [
    {
     "data": {
      "text/plain": [
       "person    new_vs_returning\n",
       "0004b0a2  Returning            3\n",
       "          New                  1\n",
       "0006a21a  Returning            3\n",
       "          New                  1\n",
       "000a54b2  Returning           36\n",
       "Name: new_vs_returning, dtype: int64"
      ]
     },
     "execution_count": 5,
     "metadata": {},
     "output_type": "execute_result"
    }
   ],
   "source": [
    "# Obtengo una serie\n",
    "new_vs_returning.head()"
   ]
  },
  {
   "cell_type": "code",
   "execution_count": 6,
   "metadata": {},
   "outputs": [
    {
     "data": {
      "text/html": [
       "<div>\n",
       "<style scoped>\n",
       "    .dataframe tbody tr th:only-of-type {\n",
       "        vertical-align: middle;\n",
       "    }\n",
       "\n",
       "    .dataframe tbody tr th {\n",
       "        vertical-align: top;\n",
       "    }\n",
       "\n",
       "    .dataframe thead th {\n",
       "        text-align: right;\n",
       "    }\n",
       "</style>\n",
       "<table border=\"1\" class=\"dataframe\">\n",
       "  <thead>\n",
       "    <tr style=\"text-align: right;\">\n",
       "      <th>new_vs_returning</th>\n",
       "      <th>New</th>\n",
       "      <th>Returning</th>\n",
       "    </tr>\n",
       "    <tr>\n",
       "      <th>person</th>\n",
       "      <th></th>\n",
       "      <th></th>\n",
       "    </tr>\n",
       "  </thead>\n",
       "  <tbody>\n",
       "    <tr>\n",
       "      <th>0004b0a2</th>\n",
       "      <td>1.0</td>\n",
       "      <td>3.0</td>\n",
       "    </tr>\n",
       "    <tr>\n",
       "      <th>0006a21a</th>\n",
       "      <td>1.0</td>\n",
       "      <td>3.0</td>\n",
       "    </tr>\n",
       "    <tr>\n",
       "      <th>000a54b2</th>\n",
       "      <td>1.0</td>\n",
       "      <td>36.0</td>\n",
       "    </tr>\n",
       "    <tr>\n",
       "      <th>00184bf9</th>\n",
       "      <td>1.0</td>\n",
       "      <td>50.0</td>\n",
       "    </tr>\n",
       "    <tr>\n",
       "      <th>0019c395</th>\n",
       "      <td>1.0</td>\n",
       "      <td>7.0</td>\n",
       "    </tr>\n",
       "  </tbody>\n",
       "</table>\n",
       "</div>"
      ],
      "text/plain": [
       "new_vs_returning  New  Returning\n",
       "person                          \n",
       "0004b0a2          1.0        3.0\n",
       "0006a21a          1.0        3.0\n",
       "000a54b2          1.0       36.0\n",
       "00184bf9          1.0       50.0\n",
       "0019c395          1.0        7.0"
      ]
     },
     "execution_count": 6,
     "metadata": {},
     "output_type": "execute_result"
    }
   ],
   "source": [
    "# Construyo un DataFrame\n",
    "new_vs_returning_df = new_vs_returning.unstack()\n",
    "new_vs_returning_df.head()"
   ]
  },
  {
   "cell_type": "code",
   "execution_count": 7,
   "metadata": {},
   "outputs": [
    {
     "data": {
      "text/plain": [
       " 1.0    26898\n",
       "NaN       726\n",
       "Name: New, dtype: int64"
      ]
     },
     "execution_count": 7,
     "metadata": {},
     "output_type": "execute_result"
    }
   ],
   "source": [
    "# Veo cuantos nulos hay en la columna 'New'. Es decir, cuantos usuarios no fueron detectados por primera vez\n",
    "new_vs_returning_df['New'].value_counts(dropna=False)"
   ]
  },
  {
   "cell_type": "code",
   "execution_count": 8,
   "metadata": {},
   "outputs": [
    {
     "data": {
      "text/plain": [
       "0"
      ]
     },
     "execution_count": 8,
     "metadata": {},
     "output_type": "execute_result"
    }
   ],
   "source": [
    "# Veo cuantos nulos hay en la columna returning\n",
    "new_vs_returning_df['Returning'].isna().sum()"
   ]
  },
  {
   "cell_type": "code",
   "execution_count": 9,
   "metadata": {},
   "outputs": [],
   "source": [
    "# Elimino los usuarios que no fueron detectados por primera vez:\n",
    "new_vs_returning_df.dropna(inplace=True)"
   ]
  },
  {
   "cell_type": "code",
   "execution_count": 10,
   "metadata": {},
   "outputs": [
    {
     "data": {
      "text/plain": [
       "[Text(0,0.5,'Cantidad de usuarios'),\n",
       " Text(0.5,0,'Numero de veces que regresa un usuario a la pagina'),\n",
       " Text(0.5,1,'Cuantos usuarios regresan \"x\" cantidad de veces al sitio')]"
      ]
     },
     "execution_count": 10,
     "metadata": {},
     "output_type": "execute_result"
    },
    {
     "data": {
      "image/png": "[encoded data removed]",
      "text/plain": [
       "<Figure size 432x288 with 1 Axes>"
      ]
     },
     "metadata": {},
     "output_type": "display_data"
    }
   ],
   "source": [
    "new_vs_returning_g = new_vs_returning_df['Returning'].value_counts().head(12).plot(kind='bar')\n",
    "\n",
    "new_vs_returning_g.set(xlabel='Numero de veces que regresa un usuario a la pagina', ylabel='Cantidad de usuarios',\\\n",
    "                      title='Cuantos usuarios regresan \"x\" cantidad de veces al sitio')"
   ]
  },
  {
   "cell_type": "markdown",
   "metadata": {},
   "source": [
    "---"
   ]
  },
  {
   "cell_type": "code",
   "execution_count": 11,
   "metadata": {},
   "outputs": [],
   "source": [
    "new_vs_returning = tf.filter(items=['person', 'new_vs_returning'])\n",
    "\n",
    "\n",
    "# Podemos considerar que todos los valores nulos son registros de usuarios que regresan al sitio ('Returning').\n",
    "# Luego descartaremos los usuarios que no tienen ningun registro de haber ingresado al sitio por primera vez ('New').\n",
    "\n",
    "new_vs_returning.fillna({'new_vs_returning': 'Returning'}, inplace=True)\n",
    "\n",
    "new_vs_returning = new_vs_returning.groupby(['person'])['new_vs_returning'].value_counts(dropna=False)"
   ]
  },
  {
   "cell_type": "code",
   "execution_count": 12,
   "metadata": {},
   "outputs": [
    {
     "data": {
      "text/plain": [
       "person    new_vs_returning\n",
       "0004b0a2  Returning            3\n",
       "          New                  1\n",
       "0006a21a  Returning            3\n",
       "          New                  1\n",
       "000a54b2  Returning           36\n",
       "Name: new_vs_returning, dtype: int64"
      ]
     },
     "execution_count": 12,
     "metadata": {},
     "output_type": "execute_result"
    }
   ],
   "source": [
    "# Obtengo una serie\n",
    "new_vs_returning.head()"
   ]
  },
  {
   "cell_type": "code",
   "execution_count": 13,
   "metadata": {},
   "outputs": [
    {
     "data": {
      "text/html": [
       "<div>\n",
       "<style scoped>\n",
       "    .dataframe tbody tr th:only-of-type {\n",
       "        vertical-align: middle;\n",
       "    }\n",
       "\n",
       "    .dataframe tbody tr th {\n",
       "        vertical-align: top;\n",
       "    }\n",
       "\n",
       "    .dataframe thead th {\n",
       "        text-align: right;\n",
       "    }\n",
       "</style>\n",
       "<table border=\"1\" class=\"dataframe\">\n",
       "  <thead>\n",
       "    <tr style=\"text-align: right;\">\n",
       "      <th>new_vs_returning</th>\n",
       "      <th>New</th>\n",
       "      <th>Returning</th>\n",
       "    </tr>\n",
       "    <tr>\n",
       "      <th>person</th>\n",
       "      <th></th>\n",
       "      <th></th>\n",
       "    </tr>\n",
       "  </thead>\n",
       "  <tbody>\n",
       "    <tr>\n",
       "      <th>0004b0a2</th>\n",
       "      <td>1.0</td>\n",
       "      <td>3.0</td>\n",
       "    </tr>\n",
       "    <tr>\n",
       "      <th>0006a21a</th>\n",
       "      <td>1.0</td>\n",
       "      <td>3.0</td>\n",
       "    </tr>\n",
       "    <tr>\n",
       "      <th>000a54b2</th>\n",
       "      <td>1.0</td>\n",
       "      <td>36.0</td>\n",
       "    </tr>\n",
       "    <tr>\n",
       "      <th>00184bf9</th>\n",
       "      <td>1.0</td>\n",
       "      <td>50.0</td>\n",
       "    </tr>\n",
       "    <tr>\n",
       "      <th>0019c395</th>\n",
       "      <td>1.0</td>\n",
       "      <td>7.0</td>\n",
       "    </tr>\n",
       "  </tbody>\n",
       "</table>\n",
       "</div>"
      ],
      "text/plain": [
       "new_vs_returning  New  Returning\n",
       "person                          \n",
       "0004b0a2          1.0        3.0\n",
       "0006a21a          1.0        3.0\n",
       "000a54b2          1.0       36.0\n",
       "00184bf9          1.0       50.0\n",
       "0019c395          1.0        7.0"
      ]
     },
     "execution_count": 13,
     "metadata": {},
     "output_type": "execute_result"
    }
   ],
   "source": [
    "# Construyo un DataFrame\n",
    "new_vs_returning_df = new_vs_returning.unstack()\n",
    "new_vs_returning_df.head()"
   ]
  },
  {
   "cell_type": "code",
   "execution_count": 14,
   "metadata": {},
   "outputs": [
    {
     "data": {
      "text/plain": [
       " 1.0    26898\n",
       "NaN       726\n",
       "Name: New, dtype: int64"
      ]
     },
     "execution_count": 14,
     "metadata": {},
     "output_type": "execute_result"
    }
   ],
   "source": [
    "# Veo cuantos nulos hay en la columna 'New'. Es decir, cuantos usuarios no fueron detectados por primera vez\n",
    "new_vs_returning_df['New'].value_counts(dropna=False)"
   ]
  },
  {
   "cell_type": "code",
   "execution_count": 15,
   "metadata": {},
   "outputs": [],
   "source": [
    "# Elimino los usuarios que no fueron detectados por primera vez:\n",
    "new_vs_returning_df.dropna(inplace=True)"
   ]
  },
  {
   "cell_type": "code",
   "execution_count": 81,
   "metadata": {},
   "outputs": [
    {
     "data": {
      "image/png": "[encoded data removed]",
      "text/plain": [
       "<Figure size 864x360 with 1 Axes>"
      ]
     },
     "metadata": {},
     "output_type": "display_data"
    }
   ],
   "source": [
    "#Si tomamos Todos los valores registrados:\n",
    "\n",
    "fig, ax = plt.subplots(figsize=(12, 5))\n",
    "\n",
    "x = new_vs_returning_df['Returning']\n",
    "g = ax.hist(x, bins=200);\n",
    "\n",
    "plt.xlabel('Numero de veces que regresa un usuario a una pagina')\n",
    "plt.ylabel('Usuarios')\n",
    "plt.title('Distribucion de usuarios por cantidad de regresos a la pagina');"
   ]
  },
  {
   "cell_type": "code",
   "execution_count": 63,
   "metadata": {},
   "outputs": [
    {
     "data": {
      "image/png": "[encoded data removed]",
      "text/plain": [
       "<Figure size 864x360 with 1 Axes>"
      ]
     },
     "metadata": {},
     "output_type": "display_data"
    }
   ],
   "source": [
    "# Restringiendo los valores para una mejor visualizacion y mas especifica:\n",
    "\n",
    "fig, axs = plt.subplots(figsize=(12, 5))\n",
    "\n",
    "x = new_vs_returning_df['Returning']\n",
    "axs.hist(x, bins=50, range=(0,100));\n",
    "\n",
    "plt.xlabel('Numero de veces que regresa un usuario a una pagina')\n",
    "plt.ylabel('Usuarios')\n",
    "plt.title('Distribucion de usuarios por cantidad de regresos a la pagina');"
   ]
  },
  {
   "cell_type": "code",
   "execution_count": 80,
   "metadata": {},
   "outputs": [
    {
     "data": {
      "image/png": "[encoded data removed]",
      "text/plain": [
       "<Figure size 864x360 with 1 Axes>"
      ]
     },
     "metadata": {},
     "output_type": "display_data"
    }
   ],
   "source": [
    "fig, axs = plt.subplots(figsize=(12, 5))\n",
    "\n",
    "axs.hist(x, bins=30, range=(0,30), label='cfds');\n",
    "\n",
    "plt.xlabel('Numero de veces que regresan a la pagina')\n",
    "plt.ylabel('Usuarios')\n",
    "plt.title('Distribucion de usuarios por cantidad de regresos a la pagina');"
   ]
  },
  {
   "cell_type": "code",
   "execution_count": 83,
   "metadata": {},
   "outputs": [
    {
     "data": {
      "image/png": "[encoded data removed]",
      "text/plain": [
       "<Figure size 864x504 with 1 Axes>"
      ]
     },
     "metadata": {},
     "output_type": "display_data"
    }
   ],
   "source": [
    "# Grafico de barras para ver detalladamente cuantas veces regresa al sitio la mayoria de los usuarios\n",
    "\n",
    "fig, ax = plt.subplots(figsize=(12,7))\n",
    "\n",
    "nums = range(1, 24)\n",
    "\n",
    "relacion = new_vs_returning_df['Returning'].value_counts(sort=True).head(21)\n",
    "\n",
    "g = sns.barplot(x=relacion.index, y=relacion.values, palette=\"Blues_d\", orient='v', ax=ax)\n",
    "\n",
    "g.set(xlabel='Numero de veces que regresa un usuario a la pagina', ylabel='Cantidad de usuarios',\\\n",
    "    title='Cuantos usuarios regresan \"x\" cantidad de veces al sitio');"
   ]
  },
  {
   "cell_type": "markdown",
   "metadata": {},
   "source": [
    "# Diferencia entre primer y ultimo dia de entrada el sitio por usuario"
   ]
  },
  {
   "cell_type": "code",
   "execution_count": 294,
   "metadata": {},
   "outputs": [
    {
     "data": {
      "text/html": [
       "<div>\n",
       "<style scoped>\n",
       "    .dataframe tbody tr th:only-of-type {\n",
       "        vertical-align: middle;\n",
       "    }\n",
       "\n",
       "    .dataframe tbody tr th {\n",
       "        vertical-align: top;\n",
       "    }\n",
       "\n",
       "    .dataframe thead tr th {\n",
       "        text-align: left;\n",
       "    }\n",
       "\n",
       "    .dataframe thead tr:last-of-type th {\n",
       "        text-align: right;\n",
       "    }\n",
       "</style>\n",
       "<table border=\"1\" class=\"dataframe\">\n",
       "  <thead>\n",
       "    <tr>\n",
       "      <th></th>\n",
       "      <th colspan=\"11\" halign=\"left\">cant</th>\n",
       "    </tr>\n",
       "    <tr>\n",
       "      <th>event</th>\n",
       "      <th>ad campaign hit</th>\n",
       "      <th>brand listing</th>\n",
       "      <th>checkout</th>\n",
       "      <th>conversion</th>\n",
       "      <th>generic listing</th>\n",
       "      <th>lead</th>\n",
       "      <th>search engine hit</th>\n",
       "      <th>searched products</th>\n",
       "      <th>staticpage</th>\n",
       "      <th>viewed product</th>\n",
       "      <th>visited site</th>\n",
       "    </tr>\n",
       "    <tr>\n",
       "      <th>person</th>\n",
       "      <th></th>\n",
       "      <th></th>\n",
       "      <th></th>\n",
       "      <th></th>\n",
       "      <th></th>\n",
       "      <th></th>\n",
       "      <th></th>\n",
       "      <th></th>\n",
       "      <th></th>\n",
       "      <th></th>\n",
       "      <th></th>\n",
       "    </tr>\n",
       "  </thead>\n",
       "  <tbody>\n",
       "    <tr>\n",
       "      <th>00204059</th>\n",
       "      <td>6.0</td>\n",
       "      <td>31.0</td>\n",
       "      <td>5.0</td>\n",
       "      <td>1.0</td>\n",
       "      <td>8.0</td>\n",
       "      <td>NaN</td>\n",
       "      <td>2.0</td>\n",
       "      <td>2.0</td>\n",
       "      <td>NaN</td>\n",
       "      <td>44.0</td>\n",
       "      <td>12.0</td>\n",
       "    </tr>\n",
       "    <tr>\n",
       "      <th>00c13dee</th>\n",
       "      <td>2.0</td>\n",
       "      <td>47.0</td>\n",
       "      <td>6.0</td>\n",
       "      <td>1.0</td>\n",
       "      <td>14.0</td>\n",
       "      <td>NaN</td>\n",
       "      <td>10.0</td>\n",
       "      <td>NaN</td>\n",
       "      <td>1.0</td>\n",
       "      <td>17.0</td>\n",
       "      <td>10.0</td>\n",
       "    </tr>\n",
       "    <tr>\n",
       "      <th>00fdbb4b</th>\n",
       "      <td>NaN</td>\n",
       "      <td>NaN</td>\n",
       "      <td>1.0</td>\n",
       "      <td>1.0</td>\n",
       "      <td>2.0</td>\n",
       "      <td>NaN</td>\n",
       "      <td>1.0</td>\n",
       "      <td>NaN</td>\n",
       "      <td>NaN</td>\n",
       "      <td>3.0</td>\n",
       "      <td>1.0</td>\n",
       "    </tr>\n",
       "    <tr>\n",
       "      <th>0146a9df</th>\n",
       "      <td>19.0</td>\n",
       "      <td>16.0</td>\n",
       "      <td>2.0</td>\n",
       "      <td>1.0</td>\n",
       "      <td>15.0</td>\n",
       "      <td>NaN</td>\n",
       "      <td>13.0</td>\n",
       "      <td>1.0</td>\n",
       "      <td>NaN</td>\n",
       "      <td>23.0</td>\n",
       "      <td>11.0</td>\n",
       "    </tr>\n",
       "    <tr>\n",
       "      <th>01db2fe6</th>\n",
       "      <td>48.0</td>\n",
       "      <td>3.0</td>\n",
       "      <td>5.0</td>\n",
       "      <td>1.0</td>\n",
       "      <td>10.0</td>\n",
       "      <td>1.0</td>\n",
       "      <td>20.0</td>\n",
       "      <td>6.0</td>\n",
       "      <td>3.0</td>\n",
       "      <td>67.0</td>\n",
       "      <td>28.0</td>\n",
       "    </tr>\n",
       "  </tbody>\n",
       "</table>\n",
       "</div>"
      ],
      "text/plain": [
       "                    cant                                                    \\\n",
       "event    ad campaign hit brand listing checkout conversion generic listing   \n",
       "person                                                                       \n",
       "00204059             6.0          31.0      5.0        1.0             8.0   \n",
       "00c13dee             2.0          47.0      6.0        1.0            14.0   \n",
       "00fdbb4b             NaN           NaN      1.0        1.0             2.0   \n",
       "0146a9df            19.0          16.0      2.0        1.0            15.0   \n",
       "01db2fe6            48.0           3.0      5.0        1.0            10.0   \n",
       "\n",
       "                                                                             \\\n",
       "event    lead search engine hit searched products staticpage viewed product   \n",
       "person                                                                        \n",
       "00204059  NaN               2.0               2.0        NaN           44.0   \n",
       "00c13dee  NaN              10.0               NaN        1.0           17.0   \n",
       "00fdbb4b  NaN               1.0               NaN        NaN            3.0   \n",
       "0146a9df  NaN              13.0               1.0        NaN           23.0   \n",
       "01db2fe6  1.0              20.0               6.0        3.0           67.0   \n",
       "\n",
       "                       \n",
       "event    visited site  \n",
       "person                 \n",
       "00204059         12.0  \n",
       "00c13dee         10.0  \n",
       "00fdbb4b          1.0  \n",
       "0146a9df         11.0  \n",
       "01db2fe6         28.0  "
      ]
     },
     "execution_count": 294,
     "metadata": {},
     "output_type": "execute_result"
    }
   ],
   "source": [
    "\n",
    "sem_person = tf.filter(items=['person', 'timestamp', 'event'])\n",
    "sem_person['cant'] = 1\n",
    "\n",
    "sem_persongb = sem_person.groupby(['person', 'event']).agg({'cant': 'sum'}).unstack()\n",
    "sem_persongb = sem_persongb.loc[(sem_persongb['cant']['conversion'].notnull()) & (sem_persongb['cant']['conversion'] != 0)]\n",
    "\n",
    "#sem_person['semana'] = sem_person['timestamp'].dt.week\n",
    "#sem_person.drop_duplicates(subset='person', inplace=True)\n",
    "#sem_person.head(10)\n",
    "sem_persongb.head()"
   ]
  },
  {
   "cell_type": "code",
   "execution_count": null,
   "metadata": {},
   "outputs": [],
   "source": []
  },
  {
   "cell_type": "code",
   "execution_count": 148,
   "metadata": {},
   "outputs": [],
   "source": [
    "cant_compras = tf.filter(items=['person', 'event'])\n",
    "cant_compras['cant'] = 1\n",
    "cant_compras = cant_compras.loc[(cant_compras['event'] == 'conversion')]\n",
    "\n",
    "cant_compras = cant_compras.groupby(['person', 'event']).agg({'cant': 'sum'}).unstack()\n",
    "cant_compras = cant_compras.loc[(cant_compras['cant']['conversion'].notnull()) & (cant_compras['cant']['conversion'] != 0)]"
   ]
  },
  {
   "cell_type": "code",
   "execution_count": 153,
   "metadata": {},
   "outputs": [
    {
     "data": {
      "text/html": [
       "<div>\n",
       "<style scoped>\n",
       "    .dataframe tbody tr th:only-of-type {\n",
       "        vertical-align: middle;\n",
       "    }\n",
       "\n",
       "    .dataframe tbody tr th {\n",
       "        vertical-align: top;\n",
       "    }\n",
       "\n",
       "    .dataframe thead th {\n",
       "        text-align: right;\n",
       "    }\n",
       "</style>\n",
       "<table border=\"1\" class=\"dataframe\">\n",
       "  <thead>\n",
       "    <tr style=\"text-align: right;\">\n",
       "      <th></th>\n",
       "      <th>conversion</th>\n",
       "    </tr>\n",
       "    <tr>\n",
       "      <th>person</th>\n",
       "      <th></th>\n",
       "    </tr>\n",
       "  </thead>\n",
       "  <tbody>\n",
       "    <tr>\n",
       "      <th>00204059</th>\n",
       "      <td>1</td>\n",
       "    </tr>\n",
       "    <tr>\n",
       "      <th>00c13dee</th>\n",
       "      <td>1</td>\n",
       "    </tr>\n",
       "    <tr>\n",
       "      <th>00fdbb4b</th>\n",
       "      <td>1</td>\n",
       "    </tr>\n",
       "    <tr>\n",
       "      <th>0146a9df</th>\n",
       "      <td>1</td>\n",
       "    </tr>\n",
       "    <tr>\n",
       "      <th>01db2fe6</th>\n",
       "      <td>1</td>\n",
       "    </tr>\n",
       "  </tbody>\n",
       "</table>\n",
       "</div>"
      ],
      "text/plain": [
       "          conversion\n",
       "person              \n",
       "00204059           1\n",
       "00c13dee           1\n",
       "00fdbb4b           1\n",
       "0146a9df           1\n",
       "01db2fe6           1"
      ]
     },
     "execution_count": 153,
     "metadata": {},
     "output_type": "execute_result"
    }
   ],
   "source": [
    "cant_compras.columns = ['conversion']\n",
    "cant_compras.head()"
   ]
  },
  {
   "cell_type": "code",
   "execution_count": 30,
   "metadata": {},
   "outputs": [],
   "source": [
    "minimo = tf.groupby('person')['timestamp'].min()"
   ]
  },
  {
   "cell_type": "code",
   "execution_count": 31,
   "metadata": {},
   "outputs": [],
   "source": [
    "maximo = tf.groupby('person')['timestamp'].max()"
   ]
  },
  {
   "cell_type": "code",
   "execution_count": 32,
   "metadata": {},
   "outputs": [
    {
     "data": {
      "text/plain": [
       "person\n",
       "0004b0a2   2018-05-31 23:38:05\n",
       "0006a21a   2018-05-29 13:29:25\n",
       "000a54b2   2018-04-09 20:12:31\n",
       "00184bf9   2018-04-06 05:12:05\n",
       "0019c395   2018-05-17 00:08:56\n",
       "Name: timestamp, dtype: datetime64[ns]"
      ]
     },
     "execution_count": 32,
     "metadata": {},
     "output_type": "execute_result"
    }
   ],
   "source": [
    "minimo.head()"
   ]
  },
  {
   "cell_type": "code",
   "execution_count": 33,
   "metadata": {},
   "outputs": [
    {
     "data": {
      "text/html": [
       "<div>\n",
       "<style scoped>\n",
       "    .dataframe tbody tr th:only-of-type {\n",
       "        vertical-align: middle;\n",
       "    }\n",
       "\n",
       "    .dataframe tbody tr th {\n",
       "        vertical-align: top;\n",
       "    }\n",
       "\n",
       "    .dataframe thead th {\n",
       "        text-align: right;\n",
       "    }\n",
       "</style>\n",
       "<table border=\"1\" class=\"dataframe\">\n",
       "  <thead>\n",
       "    <tr style=\"text-align: right;\">\n",
       "      <th></th>\n",
       "      <th>timestamp</th>\n",
       "    </tr>\n",
       "    <tr>\n",
       "      <th>person</th>\n",
       "      <th></th>\n",
       "    </tr>\n",
       "  </thead>\n",
       "  <tbody>\n",
       "    <tr>\n",
       "      <th>0004b0a2</th>\n",
       "      <td>2018-05-31 23:38:05</td>\n",
       "    </tr>\n",
       "    <tr>\n",
       "      <th>0006a21a</th>\n",
       "      <td>2018-05-29 13:29:25</td>\n",
       "    </tr>\n",
       "    <tr>\n",
       "      <th>000a54b2</th>\n",
       "      <td>2018-04-09 20:12:31</td>\n",
       "    </tr>\n",
       "    <tr>\n",
       "      <th>00184bf9</th>\n",
       "      <td>2018-04-06 05:12:05</td>\n",
       "    </tr>\n",
       "    <tr>\n",
       "      <th>0019c395</th>\n",
       "      <td>2018-05-17 00:08:56</td>\n",
       "    </tr>\n",
       "  </tbody>\n",
       "</table>\n",
       "</div>"
      ],
      "text/plain": [
       "                   timestamp\n",
       "person                      \n",
       "0004b0a2 2018-05-31 23:38:05\n",
       "0006a21a 2018-05-29 13:29:25\n",
       "000a54b2 2018-04-09 20:12:31\n",
       "00184bf9 2018-04-06 05:12:05\n",
       "0019c395 2018-05-17 00:08:56"
      ]
     },
     "execution_count": 33,
     "metadata": {},
     "output_type": "execute_result"
    }
   ],
   "source": [
    "minimo_df = minimo.to_frame()\n",
    "minimo_df.head()"
   ]
  },
  {
   "cell_type": "code",
   "execution_count": 34,
   "metadata": {},
   "outputs": [
    {
     "data": {
      "text/html": [
       "<div>\n",
       "<style scoped>\n",
       "    .dataframe tbody tr th:only-of-type {\n",
       "        vertical-align: middle;\n",
       "    }\n",
       "\n",
       "    .dataframe tbody tr th {\n",
       "        vertical-align: top;\n",
       "    }\n",
       "\n",
       "    .dataframe thead th {\n",
       "        text-align: right;\n",
       "    }\n",
       "</style>\n",
       "<table border=\"1\" class=\"dataframe\">\n",
       "  <thead>\n",
       "    <tr style=\"text-align: right;\">\n",
       "      <th></th>\n",
       "      <th>timestamp</th>\n",
       "    </tr>\n",
       "    <tr>\n",
       "      <th>person</th>\n",
       "      <th></th>\n",
       "    </tr>\n",
       "  </thead>\n",
       "  <tbody>\n",
       "    <tr>\n",
       "      <th>0004b0a2</th>\n",
       "      <td>2018-05-31 23:38:40</td>\n",
       "    </tr>\n",
       "    <tr>\n",
       "      <th>0006a21a</th>\n",
       "      <td>2018-05-29 13:29:35</td>\n",
       "    </tr>\n",
       "    <tr>\n",
       "      <th>000a54b2</th>\n",
       "      <td>2018-05-24 11:34:32</td>\n",
       "    </tr>\n",
       "    <tr>\n",
       "      <th>00184bf9</th>\n",
       "      <td>2018-05-17 04:45:15</td>\n",
       "    </tr>\n",
       "    <tr>\n",
       "      <th>0019c395</th>\n",
       "      <td>2018-05-17 00:11:26</td>\n",
       "    </tr>\n",
       "  </tbody>\n",
       "</table>\n",
       "</div>"
      ],
      "text/plain": [
       "                   timestamp\n",
       "person                      \n",
       "0004b0a2 2018-05-31 23:38:40\n",
       "0006a21a 2018-05-29 13:29:35\n",
       "000a54b2 2018-05-24 11:34:32\n",
       "00184bf9 2018-05-17 04:45:15\n",
       "0019c395 2018-05-17 00:11:26"
      ]
     },
     "execution_count": 34,
     "metadata": {},
     "output_type": "execute_result"
    }
   ],
   "source": [
    "maximo_df = maximo.to_frame()\n",
    "maximo_df.head()"
   ]
  },
  {
   "cell_type": "code",
   "execution_count": 35,
   "metadata": {},
   "outputs": [
    {
     "data": {
      "text/html": [
       "<div>\n",
       "<style scoped>\n",
       "    .dataframe tbody tr th:only-of-type {\n",
       "        vertical-align: middle;\n",
       "    }\n",
       "\n",
       "    .dataframe tbody tr th {\n",
       "        vertical-align: top;\n",
       "    }\n",
       "\n",
       "    .dataframe thead th {\n",
       "        text-align: right;\n",
       "    }\n",
       "</style>\n",
       "<table border=\"1\" class=\"dataframe\">\n",
       "  <thead>\n",
       "    <tr style=\"text-align: right;\">\n",
       "      <th></th>\n",
       "      <th>max</th>\n",
       "      <th>min</th>\n",
       "      <th>diferencia</th>\n",
       "      <th>dif en dias</th>\n",
       "    </tr>\n",
       "    <tr>\n",
       "      <th>person</th>\n",
       "      <th></th>\n",
       "      <th></th>\n",
       "      <th></th>\n",
       "      <th></th>\n",
       "    </tr>\n",
       "  </thead>\n",
       "  <tbody>\n",
       "    <tr>\n",
       "      <th>0004b0a2</th>\n",
       "      <td>2018-05-31 23:38:40</td>\n",
       "      <td>2018-05-31 23:38:05</td>\n",
       "      <td>0 days 00:00:35</td>\n",
       "      <td>0</td>\n",
       "    </tr>\n",
       "    <tr>\n",
       "      <th>0006a21a</th>\n",
       "      <td>2018-05-29 13:29:35</td>\n",
       "      <td>2018-05-29 13:29:25</td>\n",
       "      <td>0 days 00:00:10</td>\n",
       "      <td>0</td>\n",
       "    </tr>\n",
       "    <tr>\n",
       "      <th>000a54b2</th>\n",
       "      <td>2018-05-24 11:34:32</td>\n",
       "      <td>2018-04-09 20:12:31</td>\n",
       "      <td>44 days 15:22:01</td>\n",
       "      <td>44</td>\n",
       "    </tr>\n",
       "    <tr>\n",
       "      <th>00184bf9</th>\n",
       "      <td>2018-05-17 04:45:15</td>\n",
       "      <td>2018-04-06 05:12:05</td>\n",
       "      <td>40 days 23:33:10</td>\n",
       "      <td>40</td>\n",
       "    </tr>\n",
       "    <tr>\n",
       "      <th>0019c395</th>\n",
       "      <td>2018-05-17 00:11:26</td>\n",
       "      <td>2018-05-17 00:08:56</td>\n",
       "      <td>0 days 00:02:30</td>\n",
       "      <td>0</td>\n",
       "    </tr>\n",
       "    <tr>\n",
       "      <th>001bb7eb</th>\n",
       "      <td>2018-06-08 12:19:50</td>\n",
       "      <td>2018-06-06 18:40:51</td>\n",
       "      <td>1 days 17:38:59</td>\n",
       "      <td>1</td>\n",
       "    </tr>\n",
       "    <tr>\n",
       "      <th>001f1653</th>\n",
       "      <td>2018-05-29 12:56:27</td>\n",
       "      <td>2018-05-29 12:56:08</td>\n",
       "      <td>0 days 00:00:19</td>\n",
       "      <td>0</td>\n",
       "    </tr>\n",
       "    <tr>\n",
       "      <th>00204059</th>\n",
       "      <td>2018-05-19 03:36:24</td>\n",
       "      <td>2018-01-18 00:19:28</td>\n",
       "      <td>121 days 03:16:56</td>\n",
       "      <td>121</td>\n",
       "    </tr>\n",
       "    <tr>\n",
       "      <th>0020f73c</th>\n",
       "      <td>2018-06-12 19:44:12</td>\n",
       "      <td>2018-06-12 19:44:12</td>\n",
       "      <td>0 days 00:00:00</td>\n",
       "      <td>0</td>\n",
       "    </tr>\n",
       "    <tr>\n",
       "      <th>0024a82b</th>\n",
       "      <td>2018-05-30 16:05:55</td>\n",
       "      <td>2018-05-30 16:05:19</td>\n",
       "      <td>0 days 00:00:36</td>\n",
       "      <td>0</td>\n",
       "    </tr>\n",
       "  </tbody>\n",
       "</table>\n",
       "</div>"
      ],
      "text/plain": [
       "                         max                 min        diferencia  \\\n",
       "person                                                               \n",
       "0004b0a2 2018-05-31 23:38:40 2018-05-31 23:38:05   0 days 00:00:35   \n",
       "0006a21a 2018-05-29 13:29:35 2018-05-29 13:29:25   0 days 00:00:10   \n",
       "000a54b2 2018-05-24 11:34:32 2018-04-09 20:12:31  44 days 15:22:01   \n",
       "00184bf9 2018-05-17 04:45:15 2018-04-06 05:12:05  40 days 23:33:10   \n",
       "0019c395 2018-05-17 00:11:26 2018-05-17 00:08:56   0 days 00:02:30   \n",
       "001bb7eb 2018-06-08 12:19:50 2018-06-06 18:40:51   1 days 17:38:59   \n",
       "001f1653 2018-05-29 12:56:27 2018-05-29 12:56:08   0 days 00:00:19   \n",
       "00204059 2018-05-19 03:36:24 2018-01-18 00:19:28 121 days 03:16:56   \n",
       "0020f73c 2018-06-12 19:44:12 2018-06-12 19:44:12   0 days 00:00:00   \n",
       "0024a82b 2018-05-30 16:05:55 2018-05-30 16:05:19   0 days 00:00:36   \n",
       "\n",
       "          dif en dias  \n",
       "person                 \n",
       "0004b0a2            0  \n",
       "0006a21a            0  \n",
       "000a54b2           44  \n",
       "00184bf9           40  \n",
       "0019c395            0  \n",
       "001bb7eb            1  \n",
       "001f1653            0  \n",
       "00204059          121  \n",
       "0020f73c            0  \n",
       "0024a82b            0  "
      ]
     },
     "execution_count": 35,
     "metadata": {},
     "output_type": "execute_result"
    }
   ],
   "source": [
    "max_min = pd.merge(maximo_df, minimo_df, on='person', how='outer')\n",
    "max_min.columns = ['max', 'min']\n",
    "max_min['diferencia'] = ((max_min['max']) - (max_min['min']))\n",
    "max_min['dif en dias'] = max_min['diferencia'].dt.days\n",
    "max_min.head(10)"
   ]
  },
  {
   "cell_type": "code",
   "execution_count": 18,
   "metadata": {},
   "outputs": [
    {
     "data": {
      "text/html": [
       "<div>\n",
       "<style scoped>\n",
       "    .dataframe tbody tr th:only-of-type {\n",
       "        vertical-align: middle;\n",
       "    }\n",
       "\n",
       "    .dataframe tbody tr th {\n",
       "        vertical-align: top;\n",
       "    }\n",
       "\n",
       "    .dataframe thead th {\n",
       "        text-align: right;\n",
       "    }\n",
       "</style>\n",
       "<table border=\"1\" class=\"dataframe\">\n",
       "  <thead>\n",
       "    <tr style=\"text-align: right;\">\n",
       "      <th></th>\n",
       "      <th>person</th>\n",
       "      <th>timestamp</th>\n",
       "      <th>dia</th>\n",
       "    </tr>\n",
       "  </thead>\n",
       "  <tbody>\n",
       "    <tr>\n",
       "      <th>0</th>\n",
       "      <td>0004b0a2</td>\n",
       "      <td>2018-05-31 23:38:05</td>\n",
       "      <td>151</td>\n",
       "    </tr>\n",
       "    <tr>\n",
       "      <th>1</th>\n",
       "      <td>0004b0a2</td>\n",
       "      <td>2018-05-31 23:38:05</td>\n",
       "      <td>151</td>\n",
       "    </tr>\n",
       "    <tr>\n",
       "      <th>2</th>\n",
       "      <td>0004b0a2</td>\n",
       "      <td>2018-05-31 23:38:09</td>\n",
       "      <td>151</td>\n",
       "    </tr>\n",
       "    <tr>\n",
       "      <th>3</th>\n",
       "      <td>0004b0a2</td>\n",
       "      <td>2018-05-31 23:38:40</td>\n",
       "      <td>151</td>\n",
       "    </tr>\n",
       "    <tr>\n",
       "      <th>4</th>\n",
       "      <td>0006a21a</td>\n",
       "      <td>2018-05-29 13:29:25</td>\n",
       "      <td>149</td>\n",
       "    </tr>\n",
       "    <tr>\n",
       "      <th>5</th>\n",
       "      <td>0006a21a</td>\n",
       "      <td>2018-05-29 13:29:26</td>\n",
       "      <td>149</td>\n",
       "    </tr>\n",
       "    <tr>\n",
       "      <th>6</th>\n",
       "      <td>0006a21a</td>\n",
       "      <td>2018-05-29 13:29:27</td>\n",
       "      <td>149</td>\n",
       "    </tr>\n",
       "    <tr>\n",
       "      <th>7</th>\n",
       "      <td>0006a21a</td>\n",
       "      <td>2018-05-29 13:29:35</td>\n",
       "      <td>149</td>\n",
       "    </tr>\n",
       "    <tr>\n",
       "      <th>8</th>\n",
       "      <td>000a54b2</td>\n",
       "      <td>2018-04-09 20:12:31</td>\n",
       "      <td>99</td>\n",
       "    </tr>\n",
       "    <tr>\n",
       "      <th>9</th>\n",
       "      <td>000a54b2</td>\n",
       "      <td>2018-04-09 20:12:31</td>\n",
       "      <td>99</td>\n",
       "    </tr>\n",
       "  </tbody>\n",
       "</table>\n",
       "</div>"
      ],
      "text/plain": [
       "     person           timestamp  dia\n",
       "0  0004b0a2 2018-05-31 23:38:05  151\n",
       "1  0004b0a2 2018-05-31 23:38:05  151\n",
       "2  0004b0a2 2018-05-31 23:38:09  151\n",
       "3  0004b0a2 2018-05-31 23:38:40  151\n",
       "4  0006a21a 2018-05-29 13:29:25  149\n",
       "5  0006a21a 2018-05-29 13:29:26  149\n",
       "6  0006a21a 2018-05-29 13:29:27  149\n",
       "7  0006a21a 2018-05-29 13:29:35  149\n",
       "8  000a54b2 2018-04-09 20:12:31   99\n",
       "9  000a54b2 2018-04-09 20:12:31   99"
      ]
     },
     "execution_count": 18,
     "metadata": {},
     "output_type": "execute_result"
    }
   ],
   "source": [
    "# Ahora busco la cantidad total de veces (en dias) que entro cada usuario a la pagina\n",
    "\n",
    "dias_person = tf.filter(items=['person', 'timestamp'])\n",
    "dias_person['dia'] = dias_person['timestamp'].dt.dayofyear\n",
    "dias_person.head(10)"
   ]
  },
  {
   "cell_type": "code",
   "execution_count": 28,
   "metadata": {},
   "outputs": [
    {
     "data": {
      "text/plain": [
       "person\n",
       "0004b0a2     1\n",
       "0006a21a     1\n",
       "000a54b2     2\n",
       "00184bf9     3\n",
       "0019c395     1\n",
       "001bb7eb     2\n",
       "001f1653     1\n",
       "00204059    11\n",
       "0020f73c     1\n",
       "0024a82b     1\n",
       "Name: dia, dtype: int64"
      ]
     },
     "execution_count": 28,
     "metadata": {},
     "output_type": "execute_result"
    }
   ],
   "source": [
    "# Cantidad de dias distintos que cada usuario entro a la pagina:\n",
    "cant_dias_person = dias_person.groupby('person')['dia'].nunique()\n",
    "cant_dias_person.head(10)"
   ]
  },
  {
   "cell_type": "code",
   "execution_count": 29,
   "metadata": {},
   "outputs": [
    {
     "data": {
      "text/html": [
       "<div>\n",
       "<style scoped>\n",
       "    .dataframe tbody tr th:only-of-type {\n",
       "        vertical-align: middle;\n",
       "    }\n",
       "\n",
       "    .dataframe tbody tr th {\n",
       "        vertical-align: top;\n",
       "    }\n",
       "\n",
       "    .dataframe thead th {\n",
       "        text-align: right;\n",
       "    }\n",
       "</style>\n",
       "<table border=\"1\" class=\"dataframe\">\n",
       "  <thead>\n",
       "    <tr style=\"text-align: right;\">\n",
       "      <th></th>\n",
       "      <th>cantidad de dias distintos</th>\n",
       "    </tr>\n",
       "    <tr>\n",
       "      <th>person</th>\n",
       "      <th></th>\n",
       "    </tr>\n",
       "  </thead>\n",
       "  <tbody>\n",
       "    <tr>\n",
       "      <th>0004b0a2</th>\n",
       "      <td>1</td>\n",
       "    </tr>\n",
       "    <tr>\n",
       "      <th>0006a21a</th>\n",
       "      <td>1</td>\n",
       "    </tr>\n",
       "    <tr>\n",
       "      <th>000a54b2</th>\n",
       "      <td>2</td>\n",
       "    </tr>\n",
       "    <tr>\n",
       "      <th>00184bf9</th>\n",
       "      <td>3</td>\n",
       "    </tr>\n",
       "    <tr>\n",
       "      <th>0019c395</th>\n",
       "      <td>1</td>\n",
       "    </tr>\n",
       "    <tr>\n",
       "      <th>001bb7eb</th>\n",
       "      <td>2</td>\n",
       "    </tr>\n",
       "    <tr>\n",
       "      <th>001f1653</th>\n",
       "      <td>1</td>\n",
       "    </tr>\n",
       "    <tr>\n",
       "      <th>00204059</th>\n",
       "      <td>11</td>\n",
       "    </tr>\n",
       "    <tr>\n",
       "      <th>0020f73c</th>\n",
       "      <td>1</td>\n",
       "    </tr>\n",
       "    <tr>\n",
       "      <th>0024a82b</th>\n",
       "      <td>1</td>\n",
       "    </tr>\n",
       "  </tbody>\n",
       "</table>\n",
       "</div>"
      ],
      "text/plain": [
       "          cantidad de dias distintos\n",
       "person                              \n",
       "0004b0a2                           1\n",
       "0006a21a                           1\n",
       "000a54b2                           2\n",
       "00184bf9                           3\n",
       "0019c395                           1\n",
       "001bb7eb                           2\n",
       "001f1653                           1\n",
       "00204059                          11\n",
       "0020f73c                           1\n",
       "0024a82b                           1"
      ]
     },
     "execution_count": 29,
     "metadata": {},
     "output_type": "execute_result"
    }
   ],
   "source": [
    "cant_dias_person_df = cant_dias_person.to_frame()\n",
    "cant_dias_person_df.columns = ['cantidad de dias distintos']\n",
    "cant_dias_person_df.head(10)"
   ]
  },
  {
   "cell_type": "code",
   "execution_count": 36,
   "metadata": {},
   "outputs": [
    {
     "data": {
      "text/html": [
       "<div>\n",
       "<style scoped>\n",
       "    .dataframe tbody tr th:only-of-type {\n",
       "        vertical-align: middle;\n",
       "    }\n",
       "\n",
       "    .dataframe tbody tr th {\n",
       "        vertical-align: top;\n",
       "    }\n",
       "\n",
       "    .dataframe thead th {\n",
       "        text-align: right;\n",
       "    }\n",
       "</style>\n",
       "<table border=\"1\" class=\"dataframe\">\n",
       "  <thead>\n",
       "    <tr style=\"text-align: right;\">\n",
       "      <th></th>\n",
       "      <th>cantidad de dias distintos</th>\n",
       "      <th>max</th>\n",
       "      <th>min</th>\n",
       "      <th>diferencia</th>\n",
       "      <th>dif en dias</th>\n",
       "    </tr>\n",
       "    <tr>\n",
       "      <th>person</th>\n",
       "      <th></th>\n",
       "      <th></th>\n",
       "      <th></th>\n",
       "      <th></th>\n",
       "      <th></th>\n",
       "    </tr>\n",
       "  </thead>\n",
       "  <tbody>\n",
       "    <tr>\n",
       "      <th>0004b0a2</th>\n",
       "      <td>1</td>\n",
       "      <td>2018-05-31 23:38:40</td>\n",
       "      <td>2018-05-31 23:38:05</td>\n",
       "      <td>0 days 00:00:35</td>\n",
       "      <td>0</td>\n",
       "    </tr>\n",
       "    <tr>\n",
       "      <th>0006a21a</th>\n",
       "      <td>1</td>\n",
       "      <td>2018-05-29 13:29:35</td>\n",
       "      <td>2018-05-29 13:29:25</td>\n",
       "      <td>0 days 00:00:10</td>\n",
       "      <td>0</td>\n",
       "    </tr>\n",
       "    <tr>\n",
       "      <th>000a54b2</th>\n",
       "      <td>2</td>\n",
       "      <td>2018-05-24 11:34:32</td>\n",
       "      <td>2018-04-09 20:12:31</td>\n",
       "      <td>44 days 15:22:01</td>\n",
       "      <td>44</td>\n",
       "    </tr>\n",
       "    <tr>\n",
       "      <th>00184bf9</th>\n",
       "      <td>3</td>\n",
       "      <td>2018-05-17 04:45:15</td>\n",
       "      <td>2018-04-06 05:12:05</td>\n",
       "      <td>40 days 23:33:10</td>\n",
       "      <td>40</td>\n",
       "    </tr>\n",
       "    <tr>\n",
       "      <th>0019c395</th>\n",
       "      <td>1</td>\n",
       "      <td>2018-05-17 00:11:26</td>\n",
       "      <td>2018-05-17 00:08:56</td>\n",
       "      <td>0 days 00:02:30</td>\n",
       "      <td>0</td>\n",
       "    </tr>\n",
       "  </tbody>\n",
       "</table>\n",
       "</div>"
      ],
      "text/plain": [
       "          cantidad de dias distintos                 max                 min  \\\n",
       "person                                                                         \n",
       "0004b0a2                           1 2018-05-31 23:38:40 2018-05-31 23:38:05   \n",
       "0006a21a                           1 2018-05-29 13:29:35 2018-05-29 13:29:25   \n",
       "000a54b2                           2 2018-05-24 11:34:32 2018-04-09 20:12:31   \n",
       "00184bf9                           3 2018-05-17 04:45:15 2018-04-06 05:12:05   \n",
       "0019c395                           1 2018-05-17 00:11:26 2018-05-17 00:08:56   \n",
       "\n",
       "               diferencia  dif en dias  \n",
       "person                                  \n",
       "0004b0a2  0 days 00:00:35            0  \n",
       "0006a21a  0 days 00:00:10            0  \n",
       "000a54b2 44 days 15:22:01           44  \n",
       "00184bf9 40 days 23:33:10           40  \n",
       "0019c395  0 days 00:02:30            0  "
      ]
     },
     "execution_count": 36,
     "metadata": {},
     "output_type": "execute_result"
    }
   ],
   "source": [
    "diferencia_y_cantidad = pd.merge(cant_dias_person_df, max_min, on='person', how='outer')\n",
    "diferencia_y_cantidad.head()"
   ]
  },
  {
   "cell_type": "code",
   "execution_count": 38,
   "metadata": {},
   "outputs": [
    {
     "data": {
      "text/plain": [
       "cantidad de dias distintos    0\n",
       "max                           0\n",
       "min                           0\n",
       "diferencia                    0\n",
       "dif en dias                   0\n",
       "dtype: int64"
      ]
     },
     "execution_count": 38,
     "metadata": {},
     "output_type": "execute_result"
    }
   ],
   "source": [
    "# No hay nulos:\n",
    "diferencia_y_cantidad.isna().sum()"
   ]
  },
  {
   "cell_type": "code",
   "execution_count": 159,
   "metadata": {},
   "outputs": [
    {
     "data": {
      "text/html": [
       "<div>\n",
       "<style scoped>\n",
       "    .dataframe tbody tr th:only-of-type {\n",
       "        vertical-align: middle;\n",
       "    }\n",
       "\n",
       "    .dataframe tbody tr th {\n",
       "        vertical-align: top;\n",
       "    }\n",
       "\n",
       "    .dataframe thead th {\n",
       "        text-align: right;\n",
       "    }\n",
       "</style>\n",
       "<table border=\"1\" class=\"dataframe\">\n",
       "  <thead>\n",
       "    <tr style=\"text-align: right;\">\n",
       "      <th></th>\n",
       "      <th>cantidad de dias distintos</th>\n",
       "      <th>dif en dias</th>\n",
       "    </tr>\n",
       "    <tr>\n",
       "      <th>person</th>\n",
       "      <th></th>\n",
       "      <th></th>\n",
       "    </tr>\n",
       "  </thead>\n",
       "  <tbody>\n",
       "    <tr>\n",
       "      <th>0004b0a2</th>\n",
       "      <td>1</td>\n",
       "      <td>0</td>\n",
       "    </tr>\n",
       "    <tr>\n",
       "      <th>0006a21a</th>\n",
       "      <td>1</td>\n",
       "      <td>0</td>\n",
       "    </tr>\n",
       "    <tr>\n",
       "      <th>000a54b2</th>\n",
       "      <td>2</td>\n",
       "      <td>44</td>\n",
       "    </tr>\n",
       "    <tr>\n",
       "      <th>00184bf9</th>\n",
       "      <td>3</td>\n",
       "      <td>40</td>\n",
       "    </tr>\n",
       "    <tr>\n",
       "      <th>0019c395</th>\n",
       "      <td>1</td>\n",
       "      <td>0</td>\n",
       "    </tr>\n",
       "    <tr>\n",
       "      <th>001bb7eb</th>\n",
       "      <td>2</td>\n",
       "      <td>1</td>\n",
       "    </tr>\n",
       "    <tr>\n",
       "      <th>001f1653</th>\n",
       "      <td>1</td>\n",
       "      <td>0</td>\n",
       "    </tr>\n",
       "    <tr>\n",
       "      <th>00204059</th>\n",
       "      <td>11</td>\n",
       "      <td>121</td>\n",
       "    </tr>\n",
       "    <tr>\n",
       "      <th>0020f73c</th>\n",
       "      <td>1</td>\n",
       "      <td>0</td>\n",
       "    </tr>\n",
       "    <tr>\n",
       "      <th>0024a82b</th>\n",
       "      <td>1</td>\n",
       "      <td>0</td>\n",
       "    </tr>\n",
       "    <tr>\n",
       "      <th>0024ad28</th>\n",
       "      <td>3</td>\n",
       "      <td>7</td>\n",
       "    </tr>\n",
       "    <tr>\n",
       "      <th>00269e77</th>\n",
       "      <td>3</td>\n",
       "      <td>23</td>\n",
       "    </tr>\n",
       "  </tbody>\n",
       "</table>\n",
       "</div>"
      ],
      "text/plain": [
       "          cantidad de dias distintos  dif en dias\n",
       "person                                           \n",
       "0004b0a2                           1            0\n",
       "0006a21a                           1            0\n",
       "000a54b2                           2           44\n",
       "00184bf9                           3           40\n",
       "0019c395                           1            0\n",
       "001bb7eb                           2            1\n",
       "001f1653                           1            0\n",
       "00204059                          11          121\n",
       "0020f73c                           1            0\n",
       "0024a82b                           1            0\n",
       "0024ad28                           3            7\n",
       "00269e77                           3           23"
      ]
     },
     "execution_count": 159,
     "metadata": {},
     "output_type": "execute_result"
    }
   ],
   "source": [
    "diferencia_y_cantidad_filter = diferencia_y_cantidad.filter(items = ['cantidad de dias distintos', 'dif en dias'])\n",
    "diferencia_y_cantidad_filter.head(12)"
   ]
  },
  {
   "cell_type": "code",
   "execution_count": 157,
   "metadata": {},
   "outputs": [],
   "source": [
    "cant_compras_y_dias = pd.merge(diferencia_y_cantidad_filter, cant_compras, on='person', how='inner')"
   ]
  },
  {
   "cell_type": "code",
   "execution_count": 158,
   "metadata": {},
   "outputs": [
    {
     "data": {
      "text/html": [
       "<div>\n",
       "<style scoped>\n",
       "    .dataframe tbody tr th:only-of-type {\n",
       "        vertical-align: middle;\n",
       "    }\n",
       "\n",
       "    .dataframe tbody tr th {\n",
       "        vertical-align: top;\n",
       "    }\n",
       "\n",
       "    .dataframe thead th {\n",
       "        text-align: right;\n",
       "    }\n",
       "</style>\n",
       "<table border=\"1\" class=\"dataframe\">\n",
       "  <thead>\n",
       "    <tr style=\"text-align: right;\">\n",
       "      <th></th>\n",
       "      <th>cantidad de dias distintos</th>\n",
       "      <th>dif en dias</th>\n",
       "      <th>conversion</th>\n",
       "    </tr>\n",
       "    <tr>\n",
       "      <th>person</th>\n",
       "      <th></th>\n",
       "      <th></th>\n",
       "      <th></th>\n",
       "    </tr>\n",
       "  </thead>\n",
       "  <tbody>\n",
       "    <tr>\n",
       "      <th>00204059</th>\n",
       "      <td>11</td>\n",
       "      <td>121</td>\n",
       "      <td>1</td>\n",
       "    </tr>\n",
       "    <tr>\n",
       "      <th>00c13dee</th>\n",
       "      <td>7</td>\n",
       "      <td>66</td>\n",
       "      <td>1</td>\n",
       "    </tr>\n",
       "    <tr>\n",
       "      <th>00fdbb4b</th>\n",
       "      <td>2</td>\n",
       "      <td>0</td>\n",
       "      <td>1</td>\n",
       "    </tr>\n",
       "    <tr>\n",
       "      <th>0146a9df</th>\n",
       "      <td>9</td>\n",
       "      <td>86</td>\n",
       "      <td>1</td>\n",
       "    </tr>\n",
       "    <tr>\n",
       "      <th>01db2fe6</th>\n",
       "      <td>20</td>\n",
       "      <td>103</td>\n",
       "      <td>1</td>\n",
       "    </tr>\n",
       "  </tbody>\n",
       "</table>\n",
       "</div>"
      ],
      "text/plain": [
       "          cantidad de dias distintos  dif en dias  conversion\n",
       "person                                                       \n",
       "00204059                          11          121           1\n",
       "00c13dee                           7           66           1\n",
       "00fdbb4b                           2            0           1\n",
       "0146a9df                           9           86           1\n",
       "01db2fe6                          20          103           1"
      ]
     },
     "execution_count": 158,
     "metadata": {},
     "output_type": "execute_result"
    }
   ],
   "source": [
    "cant_compras_y_dias.head()"
   ]
  },
  {
   "cell_type": "code",
   "execution_count": null,
   "metadata": {},
   "outputs": [],
   "source": []
  },
  {
   "cell_type": "markdown",
   "metadata": {},
   "source": [
    "# ¿Qué campaña de marketing es mas \"eficiente\"?\n",
    "\n",
    "## ¿Qué porcentaje de los usuarios que entra al sitio a traves de una campaña compran uno o más productos?"
   ]
  },
  {
   "cell_type": "code",
   "execution_count": 485,
   "metadata": {},
   "outputs": [],
   "source": [
    "persons_campaign_event = tf.filter(items=['person', 'event', 'campaign_source'])\n",
    "\n",
    "person_campaigns = persons_campaign_event.groupby(['person'])['campaign_source'].value_counts()\n",
    "person_events = persons_campaign_event.groupby(['person'])['event'].value_counts()"
   ]
  },
  {
   "cell_type": "code",
   "execution_count": 486,
   "metadata": {},
   "outputs": [
    {
     "data": {
      "text/plain": [
       "person    campaign_source\n",
       "0004b0a2  criteo             1\n",
       "0006a21a  criteo             1\n",
       "000a54b2  google             2\n",
       "0019c395  google             2\n",
       "001bb7eb  google             1\n",
       "Name: campaign_source, dtype: int64"
      ]
     },
     "execution_count": 486,
     "metadata": {},
     "output_type": "execute_result"
    }
   ],
   "source": [
    "person_campaigns.head()"
   ]
  },
  {
   "cell_type": "code",
   "execution_count": 487,
   "metadata": {},
   "outputs": [
    {
     "data": {
      "text/plain": [
       "person    event            \n",
       "0004b0a2  ad campaign hit       1\n",
       "          checkout              1\n",
       "          viewed product        1\n",
       "          visited site          1\n",
       "0006a21a  ad campaign hit       1\n",
       "          checkout              1\n",
       "          viewed product        1\n",
       "          visited site          1\n",
       "000a54b2  viewed product       19\n",
       "          brand listing         6\n",
       "          generic listing       5\n",
       "          ad campaign hit       2\n",
       "          search engine hit     2\n",
       "          visited site          2\n",
       "          checkout              1\n",
       "Name: event, dtype: int64"
      ]
     },
     "execution_count": 487,
     "metadata": {},
     "output_type": "execute_result"
    }
   ],
   "source": [
    "person_events.head(15)"
   ]
  },
  {
   "cell_type": "code",
   "execution_count": 488,
   "metadata": {},
   "outputs": [
    {
     "data": {
      "text/html": [
       "<div>\n",
       "<style scoped>\n",
       "    .dataframe tbody tr th:only-of-type {\n",
       "        vertical-align: middle;\n",
       "    }\n",
       "\n",
       "    .dataframe tbody tr th {\n",
       "        vertical-align: top;\n",
       "    }\n",
       "\n",
       "    .dataframe thead th {\n",
       "        text-align: right;\n",
       "    }\n",
       "</style>\n",
       "<table border=\"1\" class=\"dataframe\">\n",
       "  <thead>\n",
       "    <tr style=\"text-align: right;\">\n",
       "      <th></th>\n",
       "      <th>event</th>\n",
       "      <th>cantidad evento</th>\n",
       "    </tr>\n",
       "    <tr>\n",
       "      <th>person</th>\n",
       "      <th></th>\n",
       "      <th></th>\n",
       "    </tr>\n",
       "  </thead>\n",
       "  <tbody>\n",
       "    <tr>\n",
       "      <th>0004b0a2</th>\n",
       "      <td>ad campaign hit</td>\n",
       "      <td>1</td>\n",
       "    </tr>\n",
       "    <tr>\n",
       "      <th>0004b0a2</th>\n",
       "      <td>checkout</td>\n",
       "      <td>1</td>\n",
       "    </tr>\n",
       "    <tr>\n",
       "      <th>0004b0a2</th>\n",
       "      <td>viewed product</td>\n",
       "      <td>1</td>\n",
       "    </tr>\n",
       "    <tr>\n",
       "      <th>0004b0a2</th>\n",
       "      <td>visited site</td>\n",
       "      <td>1</td>\n",
       "    </tr>\n",
       "    <tr>\n",
       "      <th>0006a21a</th>\n",
       "      <td>ad campaign hit</td>\n",
       "      <td>1</td>\n",
       "    </tr>\n",
       "  </tbody>\n",
       "</table>\n",
       "</div>"
      ],
      "text/plain": [
       "                    event  cantidad evento\n",
       "person                                    \n",
       "0004b0a2  ad campaign hit                1\n",
       "0004b0a2         checkout                1\n",
       "0004b0a2   viewed product                1\n",
       "0004b0a2     visited site                1\n",
       "0006a21a  ad campaign hit                1"
      ]
     },
     "execution_count": 488,
     "metadata": {},
     "output_type": "execute_result"
    }
   ],
   "source": [
    "# Creacion de Dataframe de eventos y personas\n",
    "person_events_df = person_events.to_frame()\n",
    "person_events_df.columns = ['cantidad evento']\n",
    "person_events_df.reset_index(inplace=True)\n",
    "person_events_df.set_index('person', inplace=True)\n",
    "person_events_df.head()"
   ]
  },
  {
   "cell_type": "code",
   "execution_count": 420,
   "metadata": {},
   "outputs": [],
   "source": [
    "# Filtro los que tienen compras:\n",
    "person_events_df = person_events_df.loc[person_events_df['event'] == 'conversion']"
   ]
  },
  {
   "cell_type": "code",
   "execution_count": 425,
   "metadata": {},
   "outputs": [
    {
     "data": {
      "text/html": [
       "<div>\n",
       "<style scoped>\n",
       "    .dataframe tbody tr th:only-of-type {\n",
       "        vertical-align: middle;\n",
       "    }\n",
       "\n",
       "    .dataframe tbody tr th {\n",
       "        vertical-align: top;\n",
       "    }\n",
       "\n",
       "    .dataframe thead th {\n",
       "        text-align: right;\n",
       "    }\n",
       "</style>\n",
       "<table border=\"1\" class=\"dataframe\">\n",
       "  <thead>\n",
       "    <tr style=\"text-align: right;\">\n",
       "      <th></th>\n",
       "      <th>campaign_source</th>\n",
       "      <th>cantidad ingresos</th>\n",
       "    </tr>\n",
       "    <tr>\n",
       "      <th>person</th>\n",
       "      <th></th>\n",
       "      <th></th>\n",
       "    </tr>\n",
       "  </thead>\n",
       "  <tbody>\n",
       "    <tr>\n",
       "      <th>0004b0a2</th>\n",
       "      <td>criteo</td>\n",
       "      <td>1</td>\n",
       "    </tr>\n",
       "    <tr>\n",
       "      <th>0006a21a</th>\n",
       "      <td>criteo</td>\n",
       "      <td>1</td>\n",
       "    </tr>\n",
       "    <tr>\n",
       "      <th>000a54b2</th>\n",
       "      <td>google</td>\n",
       "      <td>2</td>\n",
       "    </tr>\n",
       "    <tr>\n",
       "      <th>0019c395</th>\n",
       "      <td>google</td>\n",
       "      <td>2</td>\n",
       "    </tr>\n",
       "    <tr>\n",
       "      <th>001bb7eb</th>\n",
       "      <td>google</td>\n",
       "      <td>1</td>\n",
       "    </tr>\n",
       "  </tbody>\n",
       "</table>\n",
       "</div>"
      ],
      "text/plain": [
       "         campaign_source  cantidad ingresos\n",
       "person                                     \n",
       "0004b0a2          criteo                  1\n",
       "0006a21a          criteo                  1\n",
       "000a54b2          google                  2\n",
       "0019c395          google                  2\n",
       "001bb7eb          google                  1"
      ]
     },
     "execution_count": 425,
     "metadata": {},
     "output_type": "execute_result"
    }
   ],
   "source": [
    "person_campaigns_df = person_campaigns.to_frame()\n",
    "\n",
    "person_campaigns_df.columns = ['cantidad ingresos']\n",
    "person_campaigns_df.reset_index(inplace=True)\n",
    "person_campaigns_df.set_index('person', inplace=True)\n",
    "\n",
    "person_campaigns_df.head()"
   ]
  },
  {
   "cell_type": "code",
   "execution_count": null,
   "metadata": {},
   "outputs": [],
   "source": [
    "# Hago un join: dejo a los usuarios que tienen compras\n",
    "# Obtengo\n",
    "\n",
    "campaing_conversion = pd.merge(person_campaigns"
   ]
  },
  {
   "cell_type": "code",
   "execution_count": 426,
   "metadata": {},
   "outputs": [
    {
     "data": {
      "text/html": [
       "<div>\n",
       "<style scoped>\n",
       "    .dataframe tbody tr th:only-of-type {\n",
       "        vertical-align: middle;\n",
       "    }\n",
       "\n",
       "    .dataframe tbody tr th {\n",
       "        vertical-align: top;\n",
       "    }\n",
       "\n",
       "    .dataframe thead th {\n",
       "        text-align: right;\n",
       "    }\n",
       "</style>\n",
       "<table border=\"1\" class=\"dataframe\">\n",
       "  <thead>\n",
       "    <tr style=\"text-align: right;\">\n",
       "      <th></th>\n",
       "      <th>campaign_source</th>\n",
       "      <th>cantidad ingresos</th>\n",
       "      <th>event</th>\n",
       "      <th>cantidad evento</th>\n",
       "    </tr>\n",
       "    <tr>\n",
       "      <th>person</th>\n",
       "      <th></th>\n",
       "      <th></th>\n",
       "      <th></th>\n",
       "      <th></th>\n",
       "    </tr>\n",
       "  </thead>\n",
       "  <tbody>\n",
       "    <tr>\n",
       "      <th>0004b0a2</th>\n",
       "      <td>criteo</td>\n",
       "      <td>1.0</td>\n",
       "      <td>ad campaign hit</td>\n",
       "      <td>1</td>\n",
       "    </tr>\n",
       "    <tr>\n",
       "      <th>0004b0a2</th>\n",
       "      <td>criteo</td>\n",
       "      <td>1.0</td>\n",
       "      <td>checkout</td>\n",
       "      <td>1</td>\n",
       "    </tr>\n",
       "    <tr>\n",
       "      <th>0004b0a2</th>\n",
       "      <td>criteo</td>\n",
       "      <td>1.0</td>\n",
       "      <td>viewed product</td>\n",
       "      <td>1</td>\n",
       "    </tr>\n",
       "    <tr>\n",
       "      <th>0004b0a2</th>\n",
       "      <td>criteo</td>\n",
       "      <td>1.0</td>\n",
       "      <td>visited site</td>\n",
       "      <td>1</td>\n",
       "    </tr>\n",
       "    <tr>\n",
       "      <th>0006a21a</th>\n",
       "      <td>criteo</td>\n",
       "      <td>1.0</td>\n",
       "      <td>ad campaign hit</td>\n",
       "      <td>1</td>\n",
       "    </tr>\n",
       "  </tbody>\n",
       "</table>\n",
       "</div>"
      ],
      "text/plain": [
       "         campaign_source  cantidad ingresos            event  cantidad evento\n",
       "person                                                                       \n",
       "0004b0a2          criteo                1.0  ad campaign hit                1\n",
       "0004b0a2          criteo                1.0         checkout                1\n",
       "0004b0a2          criteo                1.0   viewed product                1\n",
       "0004b0a2          criteo                1.0     visited site                1\n",
       "0006a21a          criteo                1.0  ad campaign hit                1"
      ]
     },
     "execution_count": 426,
     "metadata": {},
     "output_type": "execute_result"
    }
   ],
   "source": [
    "# Hago un join: dejo a los usuarios que tienen compras\n",
    "# Obtengo\n",
    "\n",
    "campaing_conversion = pd.merge(person_campaigns_df, person_events_df, on='person', how='right')\n",
    "campaing_conversion.head()"
   ]
  },
  {
   "cell_type": "code",
   "execution_count": 338,
   "metadata": {},
   "outputs": [],
   "source": [
    "compras_por_campaing = campaing_conversion.groupby('campaign_source')['event'].value_counts()"
   ]
  },
  {
   "cell_type": "code",
   "execution_count": 430,
   "metadata": {},
   "outputs": [
    {
     "data": {
      "text/html": [
       "<div>\n",
       "<style scoped>\n",
       "    .dataframe tbody tr th:only-of-type {\n",
       "        vertical-align: middle;\n",
       "    }\n",
       "\n",
       "    .dataframe tbody tr th {\n",
       "        vertical-align: top;\n",
       "    }\n",
       "\n",
       "    .dataframe thead th {\n",
       "        text-align: right;\n",
       "    }\n",
       "</style>\n",
       "<table border=\"1\" class=\"dataframe\">\n",
       "  <thead>\n",
       "    <tr style=\"text-align: right;\">\n",
       "      <th></th>\n",
       "      <th>campaign_source</th>\n",
       "      <th>cantidad</th>\n",
       "    </tr>\n",
       "  </thead>\n",
       "  <tbody>\n",
       "    <tr>\n",
       "      <th>0</th>\n",
       "      <td>Facebook</td>\n",
       "      <td>5</td>\n",
       "    </tr>\n",
       "    <tr>\n",
       "      <th>1</th>\n",
       "      <td>FacebookAds</td>\n",
       "      <td>28</td>\n",
       "    </tr>\n",
       "    <tr>\n",
       "      <th>2</th>\n",
       "      <td>FacebookSocial</td>\n",
       "      <td>1</td>\n",
       "    </tr>\n",
       "    <tr>\n",
       "      <th>3</th>\n",
       "      <td>afilio</td>\n",
       "      <td>30</td>\n",
       "    </tr>\n",
       "    <tr>\n",
       "      <th>4</th>\n",
       "      <td>bing</td>\n",
       "      <td>28</td>\n",
       "    </tr>\n",
       "  </tbody>\n",
       "</table>\n",
       "</div>"
      ],
      "text/plain": [
       "  campaign_source  cantidad\n",
       "0        Facebook         5\n",
       "1     FacebookAds        28\n",
       "2  FacebookSocial         1\n",
       "3          afilio        30\n",
       "4            bing        28"
      ]
     },
     "execution_count": 430,
     "metadata": {},
     "output_type": "execute_result"
    }
   ],
   "source": [
    "compras_por_campaing_df = compras_por_campaing.to_frame()\n",
    "compras_por_campaing_df.columns = ['cantidad']\n",
    "compras_por_campaing_df.reset_index(inplace=True)\n",
    "compras_por_campaing_df = compras_por_campaing_df.filter(items =['campaign_source', 'cantidad'])\n",
    "compras_por_campaing_df.head()"
   ]
  },
  {
   "cell_type": "code",
   "execution_count": 443,
   "metadata": {},
   "outputs": [
    {
     "data": {
      "text/plain": [
       "Text(0.5,1,'Cantidad de compradores que ingresan por campaña')"
      ]
     },
     "execution_count": 443,
     "metadata": {},
     "output_type": "execute_result"
    },
    {
     "data": {
      "image/png": "[encoded data removed]",
      "text/plain": [
       "<Figure size 640x480 with 1 Axes>"
      ]
     },
     "metadata": {},
     "output_type": "display_data"
    }
   ],
   "source": [
    "compras_por_campaing_df.plot(kind='bar', x='campaign_source', y='cantidad', legend=False)\n",
    "plt.ylabel('Cantidad de usuarios que hicieron compras', fontsize=10)\n",
    "plt.xlabel('Campaña por donde ingresan usuarios');\n",
    "plt.title('Cantidad de compradores que ingresan por campaña', fontsize=17)"
   ]
  },
  {
   "cell_type": "markdown",
   "metadata": {},
   "source": [
    "Se podria ver el porcentaje de estos numeros con respecto al total de usuarios por campaña para poder hacer una mejor comparacion.\n",
    "\n",
    "A la hora de la comparacion tambien se debe tener en cuenta la cantidad total de usuarios que ingresan al sitio por campaña, lo cual ya ha sido analizado anteriormente."
   ]
  },
  {
   "cell_type": "code",
   "execution_count": 458,
   "metadata": {},
   "outputs": [
    {
     "data": {
      "text/html": [
       "<div>\n",
       "<style scoped>\n",
       "    .dataframe tbody tr th:only-of-type {\n",
       "        vertical-align: middle;\n",
       "    }\n",
       "\n",
       "    .dataframe tbody tr th {\n",
       "        vertical-align: top;\n",
       "    }\n",
       "\n",
       "    .dataframe thead th {\n",
       "        text-align: right;\n",
       "    }\n",
       "</style>\n",
       "<table border=\"1\" class=\"dataframe\">\n",
       "  <thead>\n",
       "    <tr style=\"text-align: right;\">\n",
       "      <th></th>\n",
       "      <th>person</th>\n",
       "      <th>event</th>\n",
       "      <th>campaign_source</th>\n",
       "    </tr>\n",
       "  </thead>\n",
       "  <tbody>\n",
       "    <tr>\n",
       "      <th>0</th>\n",
       "      <td>0004b0a2</td>\n",
       "      <td>ad campaign hit</td>\n",
       "      <td>criteo</td>\n",
       "    </tr>\n",
       "    <tr>\n",
       "      <th>6</th>\n",
       "      <td>0006a21a</td>\n",
       "      <td>ad campaign hit</td>\n",
       "      <td>criteo</td>\n",
       "    </tr>\n",
       "    <tr>\n",
       "      <th>11</th>\n",
       "      <td>000a54b2</td>\n",
       "      <td>ad campaign hit</td>\n",
       "      <td>google</td>\n",
       "    </tr>\n",
       "    <tr>\n",
       "      <th>99</th>\n",
       "      <td>0019c395</td>\n",
       "      <td>ad campaign hit</td>\n",
       "      <td>google</td>\n",
       "    </tr>\n",
       "    <tr>\n",
       "      <th>107</th>\n",
       "      <td>001bb7eb</td>\n",
       "      <td>ad campaign hit</td>\n",
       "      <td>google</td>\n",
       "    </tr>\n",
       "  </tbody>\n",
       "</table>\n",
       "</div>"
      ],
      "text/plain": [
       "       person            event campaign_source\n",
       "0    0004b0a2  ad campaign hit          criteo\n",
       "6    0006a21a  ad campaign hit          criteo\n",
       "11   000a54b2  ad campaign hit          google\n",
       "99   0019c395  ad campaign hit          google\n",
       "107  001bb7eb  ad campaign hit          google"
      ]
     },
     "execution_count": 458,
     "metadata": {},
     "output_type": "execute_result"
    }
   ],
   "source": [
    "# Busco la cantidad total de usuarios que entraron al sitio por cada campaña al menos una vez\n",
    "\n",
    "person_campaign =tf.filter(items=['person', 'event', 'campaign_source']).loc[tf['event'] == 'ad campaign hit']\n",
    "person_campaign = person_campaign.drop_duplicates()\n",
    "person_campaign.head()"
   ]
  },
  {
   "cell_type": "code",
   "execution_count": 464,
   "metadata": {},
   "outputs": [
    {
     "data": {
      "text/html": [
       "<div>\n",
       "<style scoped>\n",
       "    .dataframe tbody tr th:only-of-type {\n",
       "        vertical-align: middle;\n",
       "    }\n",
       "\n",
       "    .dataframe tbody tr th {\n",
       "        vertical-align: top;\n",
       "    }\n",
       "\n",
       "    .dataframe thead th {\n",
       "        text-align: right;\n",
       "    }\n",
       "</style>\n",
       "<table border=\"1\" class=\"dataframe\">\n",
       "  <thead>\n",
       "    <tr style=\"text-align: right;\">\n",
       "      <th></th>\n",
       "      <th>campaign_source</th>\n",
       "      <th>cant</th>\n",
       "    </tr>\n",
       "    <tr>\n",
       "      <th>person</th>\n",
       "      <th></th>\n",
       "      <th></th>\n",
       "    </tr>\n",
       "  </thead>\n",
       "  <tbody>\n",
       "    <tr>\n",
       "      <th>0004b0a2</th>\n",
       "      <td>criteo</td>\n",
       "      <td>1</td>\n",
       "    </tr>\n",
       "    <tr>\n",
       "      <th>0006a21a</th>\n",
       "      <td>criteo</td>\n",
       "      <td>1</td>\n",
       "    </tr>\n",
       "    <tr>\n",
       "      <th>000a54b2</th>\n",
       "      <td>google</td>\n",
       "      <td>1</td>\n",
       "    </tr>\n",
       "    <tr>\n",
       "      <th>0019c395</th>\n",
       "      <td>google</td>\n",
       "      <td>1</td>\n",
       "    </tr>\n",
       "    <tr>\n",
       "      <th>001bb7eb</th>\n",
       "      <td>google</td>\n",
       "      <td>1</td>\n",
       "    </tr>\n",
       "  </tbody>\n",
       "</table>\n",
       "</div>"
      ],
      "text/plain": [
       "         campaign_source  cant\n",
       "person                        \n",
       "0004b0a2          criteo     1\n",
       "0006a21a          criteo     1\n",
       "000a54b2          google     1\n",
       "0019c395          google     1\n",
       "001bb7eb          google     1"
      ]
     },
     "execution_count": 464,
     "metadata": {},
     "output_type": "execute_result"
    }
   ],
   "source": [
    "person_campaign_count = person_campaign.groupby('person')['campaign_source'].value_counts()\n",
    "person_campaign_count_df = person_campaign_count.to_frame()\n",
    "person_campaign_count_df.columns = ['cant']\n",
    "person_campaign_count_df.reset_index(inplace=True)\n",
    "person_campaign_count_df.set_index('person', inplace=True)\n",
    "person_campaign_count_df.head()"
   ]
  },
  {
   "cell_type": "code",
   "execution_count": 465,
   "metadata": {},
   "outputs": [
    {
     "data": {
      "text/html": [
       "<div>\n",
       "<style scoped>\n",
       "    .dataframe tbody tr th:only-of-type {\n",
       "        vertical-align: middle;\n",
       "    }\n",
       "\n",
       "    .dataframe tbody tr th {\n",
       "        vertical-align: top;\n",
       "    }\n",
       "\n",
       "    .dataframe thead th {\n",
       "        text-align: right;\n",
       "    }\n",
       "</style>\n",
       "<table border=\"1\" class=\"dataframe\">\n",
       "  <thead>\n",
       "    <tr style=\"text-align: right;\">\n",
       "      <th></th>\n",
       "      <th>cantidad total</th>\n",
       "    </tr>\n",
       "    <tr>\n",
       "      <th>campaign_source</th>\n",
       "      <th></th>\n",
       "    </tr>\n",
       "  </thead>\n",
       "  <tbody>\n",
       "    <tr>\n",
       "      <th>google</th>\n",
       "      <td>17372</td>\n",
       "    </tr>\n",
       "    <tr>\n",
       "      <th>criteo</th>\n",
       "      <td>4672</td>\n",
       "    </tr>\n",
       "    <tr>\n",
       "      <th>rtbhouse</th>\n",
       "      <td>2241</td>\n",
       "    </tr>\n",
       "    <tr>\n",
       "      <th>zanox</th>\n",
       "      <td>572</td>\n",
       "    </tr>\n",
       "    <tr>\n",
       "      <th>FacebookAds</th>\n",
       "      <td>407</td>\n",
       "    </tr>\n",
       "  </tbody>\n",
       "</table>\n",
       "</div>"
      ],
      "text/plain": [
       "                 cantidad total\n",
       "campaign_source                \n",
       "google                    17372\n",
       "criteo                     4672\n",
       "rtbhouse                   2241\n",
       "zanox                       572\n",
       "FacebookAds                 407"
      ]
     },
     "execution_count": 465,
     "metadata": {},
     "output_type": "execute_result"
    }
   ],
   "source": [
    "cantidad_persons_campaign = person_campaign_count_df['campaign_source'].value_counts().to_frame()\n",
    "cantidad_persons_campaign.columns = ['cantidad total']\n",
    "cantidad_persons_campaign.reset_index(inplace=True)\n",
    "cantidad_persons_campaign.columns = ['campaign_source', 'cantidad total']\n",
    "cantidad_persons_campaign.set_index('campaign_source', inplace=True)\n",
    "cantidad_persons_campaign.head()"
   ]
  },
  {
   "cell_type": "code",
   "execution_count": 474,
   "metadata": {
    "scrolled": true
   },
   "outputs": [
    {
     "data": {
      "text/html": [
       "<div>\n",
       "<style scoped>\n",
       "    .dataframe tbody tr th:only-of-type {\n",
       "        vertical-align: middle;\n",
       "    }\n",
       "\n",
       "    .dataframe tbody tr th {\n",
       "        vertical-align: top;\n",
       "    }\n",
       "\n",
       "    .dataframe thead th {\n",
       "        text-align: right;\n",
       "    }\n",
       "</style>\n",
       "<table border=\"1\" class=\"dataframe\">\n",
       "  <thead>\n",
       "    <tr style=\"text-align: right;\">\n",
       "      <th></th>\n",
       "      <th>campaign_source</th>\n",
       "      <th>cantidad total</th>\n",
       "      <th>cantidad</th>\n",
       "      <th>porcentaje</th>\n",
       "    </tr>\n",
       "  </thead>\n",
       "  <tbody>\n",
       "    <tr>\n",
       "      <th>0</th>\n",
       "      <td>google</td>\n",
       "      <td>17372</td>\n",
       "      <td>497</td>\n",
       "      <td>2.860926</td>\n",
       "    </tr>\n",
       "    <tr>\n",
       "      <th>1</th>\n",
       "      <td>criteo</td>\n",
       "      <td>4672</td>\n",
       "      <td>251</td>\n",
       "      <td>5.372432</td>\n",
       "    </tr>\n",
       "    <tr>\n",
       "      <th>2</th>\n",
       "      <td>rtbhouse</td>\n",
       "      <td>2241</td>\n",
       "      <td>224</td>\n",
       "      <td>9.995538</td>\n",
       "    </tr>\n",
       "    <tr>\n",
       "      <th>3</th>\n",
       "      <td>zanox</td>\n",
       "      <td>572</td>\n",
       "      <td>69</td>\n",
       "      <td>12.062937</td>\n",
       "    </tr>\n",
       "    <tr>\n",
       "      <th>4</th>\n",
       "      <td>FacebookAds</td>\n",
       "      <td>407</td>\n",
       "      <td>28</td>\n",
       "      <td>6.879607</td>\n",
       "    </tr>\n",
       "    <tr>\n",
       "      <th>5</th>\n",
       "      <td>emblue</td>\n",
       "      <td>384</td>\n",
       "      <td>97</td>\n",
       "      <td>25.260417</td>\n",
       "    </tr>\n",
       "    <tr>\n",
       "      <th>6</th>\n",
       "      <td>voxus</td>\n",
       "      <td>344</td>\n",
       "      <td>14</td>\n",
       "      <td>4.069767</td>\n",
       "    </tr>\n",
       "    <tr>\n",
       "      <th>7</th>\n",
       "      <td>afilio</td>\n",
       "      <td>272</td>\n",
       "      <td>30</td>\n",
       "      <td>11.029412</td>\n",
       "    </tr>\n",
       "    <tr>\n",
       "      <th>8</th>\n",
       "      <td>bing</td>\n",
       "      <td>228</td>\n",
       "      <td>28</td>\n",
       "      <td>12.280702</td>\n",
       "    </tr>\n",
       "    <tr>\n",
       "      <th>9</th>\n",
       "      <td>rakuten</td>\n",
       "      <td>97</td>\n",
       "      <td>6</td>\n",
       "      <td>6.185567</td>\n",
       "    </tr>\n",
       "  </tbody>\n",
       "</table>\n",
       "</div>"
      ],
      "text/plain": [
       "  campaign_source  cantidad total  cantidad  porcentaje\n",
       "0          google           17372       497    2.860926\n",
       "1          criteo            4672       251    5.372432\n",
       "2        rtbhouse            2241       224    9.995538\n",
       "3           zanox             572        69   12.062937\n",
       "4     FacebookAds             407        28    6.879607\n",
       "5          emblue             384        97   25.260417\n",
       "6           voxus             344        14    4.069767\n",
       "7          afilio             272        30   11.029412\n",
       "8            bing             228        28   12.280702\n",
       "9         rakuten              97         6    6.185567"
      ]
     },
     "execution_count": 474,
     "metadata": {},
     "output_type": "execute_result"
    }
   ],
   "source": [
    "# Hago un join:\n",
    "# Obtengo la cantidad de usuarios que entraron al sitio por campaña y la cantidad de los usuarios que alguna vez compraron \n",
    "\n",
    "# Filtro solo los primeros 10 con mayor cantidad total de usuarios para una mejor comparacion y no ver datos irrelevantes\n",
    "\n",
    "campaign_total_vs_compras = pd.merge(cantidad_persons_campaign.head(10), compras_por_campaing_df, on='campaign_source', how='left')\n",
    "campaign_total_vs_compras['porcentaje'] = (campaign_total_vs_compras['cantidad'] / campaign_total_vs_compras['cantidad total']) * 100\n",
    "campaign_total_vs_compras\n"
   ]
  },
  {
   "cell_type": "code",
   "execution_count": 490,
   "metadata": {},
   "outputs": [
    {
     "data": {
      "image/png": "[encoded data removed]",
      "text/plain": [
       "<Figure size 640x480 with 1 Axes>"
      ]
     },
     "metadata": {},
     "output_type": "display_data"
    }
   ],
   "source": [
    "campaign_total_vs_compras.plot(kind='bar', x='campaign_source', y='porcentaje', legend=False)\\\n",
    "                    .set(ylabel='Porcentaje de usuarios que compraron',\\\n",
    "                    xlabel='Campaña de marketing')\n",
    "\n",
    "plt.title('Que porcentaje de usuarios que cliquean en una campaña son compradores?', fontsize=16);"
   ]
  }
 ],
 "metadata": {
  "kernelspec": {
   "display_name": "Python 3",
   "language": "python",
   "name": "python3"
  },
  "language_info": {
   "codemirror_mode": {
    "name": "ipython",
    "version": 3
   },
   "file_extension": ".py",
   "mimetype": "text/x-python",
   "name": "python",
   "nbconvert_exporter": "python",
   "pygments_lexer": "ipython3",
   "version": "3.5.2"
  }
 },
 "nbformat": 4,
 "nbformat_minor": 2
}
