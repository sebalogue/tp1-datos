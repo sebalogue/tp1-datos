{
 "cells": [
  {
   "cell_type": "code",
   "execution_count": 50,
   "metadata": {},
   "outputs": [
    {
     "ename": "FileNotFoundError",
     "evalue": "File b'../../data/events.csv' does not exist",
     "output_type": "error",
     "traceback": [
      "\u001b[0;31m---------------------------------------------------------------------------\u001b[0m",
      "\u001b[0;31mFileNotFoundError\u001b[0m                         Traceback (most recent call last)",
      "\u001b[0;32m<ipython-input-50-e67791af0a9f>\u001b[0m in \u001b[0;36m<module>\u001b[0;34m()\u001b[0m\n\u001b[1;32m      5\u001b[0m \u001b[0;32mfrom\u001b[0m \u001b[0mpandas\u001b[0m \u001b[0;32mimport\u001b[0m \u001b[0mSeries\u001b[0m\u001b[0;34m\u001b[0m\u001b[0m\n\u001b[1;32m      6\u001b[0m \u001b[0;34m\u001b[0m\u001b[0m\n\u001b[0;32m----> 7\u001b[0;31m \u001b[0mtf\u001b[0m \u001b[0;34m=\u001b[0m \u001b[0mpd\u001b[0m\u001b[0;34m.\u001b[0m\u001b[0mread_csv\u001b[0m\u001b[0;34m(\u001b[0m\u001b[0;34m'../../data/events.csv'\u001b[0m\u001b[0;34m,\u001b[0m \u001b[0mlow_memory\u001b[0m\u001b[0;34m=\u001b[0m\u001b[0;32mFalse\u001b[0m\u001b[0;34m)\u001b[0m\u001b[0;34m\u001b[0m\u001b[0m\n\u001b[0m",
      "\u001b[0;32m/anaconda3/lib/python3.6/site-packages/pandas/io/parsers.py\u001b[0m in \u001b[0;36mparser_f\u001b[0;34m(filepath_or_buffer, sep, delimiter, header, names, index_col, usecols, squeeze, prefix, mangle_dupe_cols, dtype, engine, converters, true_values, false_values, skipinitialspace, skiprows, nrows, na_values, keep_default_na, na_filter, verbose, skip_blank_lines, parse_dates, infer_datetime_format, keep_date_col, date_parser, dayfirst, iterator, chunksize, compression, thousands, decimal, lineterminator, quotechar, quoting, escapechar, comment, encoding, dialect, tupleize_cols, error_bad_lines, warn_bad_lines, skipfooter, doublequote, delim_whitespace, low_memory, memory_map, float_precision)\u001b[0m\n\u001b[1;32m    676\u001b[0m                     skip_blank_lines=skip_blank_lines)\n\u001b[1;32m    677\u001b[0m \u001b[0;34m\u001b[0m\u001b[0m\n\u001b[0;32m--> 678\u001b[0;31m         \u001b[0;32mreturn\u001b[0m \u001b[0m_read\u001b[0m\u001b[0;34m(\u001b[0m\u001b[0mfilepath_or_buffer\u001b[0m\u001b[0;34m,\u001b[0m \u001b[0mkwds\u001b[0m\u001b[0;34m)\u001b[0m\u001b[0;34m\u001b[0m\u001b[0m\n\u001b[0m\u001b[1;32m    679\u001b[0m \u001b[0;34m\u001b[0m\u001b[0m\n\u001b[1;32m    680\u001b[0m     \u001b[0mparser_f\u001b[0m\u001b[0;34m.\u001b[0m\u001b[0m__name__\u001b[0m \u001b[0;34m=\u001b[0m \u001b[0mname\u001b[0m\u001b[0;34m\u001b[0m\u001b[0m\n",
      "\u001b[0;32m/anaconda3/lib/python3.6/site-packages/pandas/io/parsers.py\u001b[0m in \u001b[0;36m_read\u001b[0;34m(filepath_or_buffer, kwds)\u001b[0m\n\u001b[1;32m    438\u001b[0m \u001b[0;34m\u001b[0m\u001b[0m\n\u001b[1;32m    439\u001b[0m     \u001b[0;31m# Create the parser.\u001b[0m\u001b[0;34m\u001b[0m\u001b[0;34m\u001b[0m\u001b[0m\n\u001b[0;32m--> 440\u001b[0;31m     \u001b[0mparser\u001b[0m \u001b[0;34m=\u001b[0m \u001b[0mTextFileReader\u001b[0m\u001b[0;34m(\u001b[0m\u001b[0mfilepath_or_buffer\u001b[0m\u001b[0;34m,\u001b[0m \u001b[0;34m**\u001b[0m\u001b[0mkwds\u001b[0m\u001b[0;34m)\u001b[0m\u001b[0;34m\u001b[0m\u001b[0m\n\u001b[0m\u001b[1;32m    441\u001b[0m \u001b[0;34m\u001b[0m\u001b[0m\n\u001b[1;32m    442\u001b[0m     \u001b[0;32mif\u001b[0m \u001b[0mchunksize\u001b[0m \u001b[0;32mor\u001b[0m \u001b[0miterator\u001b[0m\u001b[0;34m:\u001b[0m\u001b[0;34m\u001b[0m\u001b[0m\n",
      "\u001b[0;32m/anaconda3/lib/python3.6/site-packages/pandas/io/parsers.py\u001b[0m in \u001b[0;36m__init__\u001b[0;34m(self, f, engine, **kwds)\u001b[0m\n\u001b[1;32m    785\u001b[0m             \u001b[0mself\u001b[0m\u001b[0;34m.\u001b[0m\u001b[0moptions\u001b[0m\u001b[0;34m[\u001b[0m\u001b[0;34m'has_index_names'\u001b[0m\u001b[0;34m]\u001b[0m \u001b[0;34m=\u001b[0m \u001b[0mkwds\u001b[0m\u001b[0;34m[\u001b[0m\u001b[0;34m'has_index_names'\u001b[0m\u001b[0;34m]\u001b[0m\u001b[0;34m\u001b[0m\u001b[0m\n\u001b[1;32m    786\u001b[0m \u001b[0;34m\u001b[0m\u001b[0m\n\u001b[0;32m--> 787\u001b[0;31m         \u001b[0mself\u001b[0m\u001b[0;34m.\u001b[0m\u001b[0m_make_engine\u001b[0m\u001b[0;34m(\u001b[0m\u001b[0mself\u001b[0m\u001b[0;34m.\u001b[0m\u001b[0mengine\u001b[0m\u001b[0;34m)\u001b[0m\u001b[0;34m\u001b[0m\u001b[0m\n\u001b[0m\u001b[1;32m    788\u001b[0m \u001b[0;34m\u001b[0m\u001b[0m\n\u001b[1;32m    789\u001b[0m     \u001b[0;32mdef\u001b[0m \u001b[0mclose\u001b[0m\u001b[0;34m(\u001b[0m\u001b[0mself\u001b[0m\u001b[0;34m)\u001b[0m\u001b[0;34m:\u001b[0m\u001b[0;34m\u001b[0m\u001b[0m\n",
      "\u001b[0;32m/anaconda3/lib/python3.6/site-packages/pandas/io/parsers.py\u001b[0m in \u001b[0;36m_make_engine\u001b[0;34m(self, engine)\u001b[0m\n\u001b[1;32m   1012\u001b[0m     \u001b[0;32mdef\u001b[0m \u001b[0m_make_engine\u001b[0m\u001b[0;34m(\u001b[0m\u001b[0mself\u001b[0m\u001b[0;34m,\u001b[0m \u001b[0mengine\u001b[0m\u001b[0;34m=\u001b[0m\u001b[0;34m'c'\u001b[0m\u001b[0;34m)\u001b[0m\u001b[0;34m:\u001b[0m\u001b[0;34m\u001b[0m\u001b[0m\n\u001b[1;32m   1013\u001b[0m         \u001b[0;32mif\u001b[0m \u001b[0mengine\u001b[0m \u001b[0;34m==\u001b[0m \u001b[0;34m'c'\u001b[0m\u001b[0;34m:\u001b[0m\u001b[0;34m\u001b[0m\u001b[0m\n\u001b[0;32m-> 1014\u001b[0;31m             \u001b[0mself\u001b[0m\u001b[0;34m.\u001b[0m\u001b[0m_engine\u001b[0m \u001b[0;34m=\u001b[0m \u001b[0mCParserWrapper\u001b[0m\u001b[0;34m(\u001b[0m\u001b[0mself\u001b[0m\u001b[0;34m.\u001b[0m\u001b[0mf\u001b[0m\u001b[0;34m,\u001b[0m \u001b[0;34m**\u001b[0m\u001b[0mself\u001b[0m\u001b[0;34m.\u001b[0m\u001b[0moptions\u001b[0m\u001b[0;34m)\u001b[0m\u001b[0;34m\u001b[0m\u001b[0m\n\u001b[0m\u001b[1;32m   1015\u001b[0m         \u001b[0;32melse\u001b[0m\u001b[0;34m:\u001b[0m\u001b[0;34m\u001b[0m\u001b[0m\n\u001b[1;32m   1016\u001b[0m             \u001b[0;32mif\u001b[0m \u001b[0mengine\u001b[0m \u001b[0;34m==\u001b[0m \u001b[0;34m'python'\u001b[0m\u001b[0;34m:\u001b[0m\u001b[0;34m\u001b[0m\u001b[0m\n",
      "\u001b[0;32m/anaconda3/lib/python3.6/site-packages/pandas/io/parsers.py\u001b[0m in \u001b[0;36m__init__\u001b[0;34m(self, src, **kwds)\u001b[0m\n\u001b[1;32m   1706\u001b[0m         \u001b[0mkwds\u001b[0m\u001b[0;34m[\u001b[0m\u001b[0;34m'usecols'\u001b[0m\u001b[0;34m]\u001b[0m \u001b[0;34m=\u001b[0m \u001b[0mself\u001b[0m\u001b[0;34m.\u001b[0m\u001b[0musecols\u001b[0m\u001b[0;34m\u001b[0m\u001b[0m\n\u001b[1;32m   1707\u001b[0m \u001b[0;34m\u001b[0m\u001b[0m\n\u001b[0;32m-> 1708\u001b[0;31m         \u001b[0mself\u001b[0m\u001b[0;34m.\u001b[0m\u001b[0m_reader\u001b[0m \u001b[0;34m=\u001b[0m \u001b[0mparsers\u001b[0m\u001b[0;34m.\u001b[0m\u001b[0mTextReader\u001b[0m\u001b[0;34m(\u001b[0m\u001b[0msrc\u001b[0m\u001b[0;34m,\u001b[0m \u001b[0;34m**\u001b[0m\u001b[0mkwds\u001b[0m\u001b[0;34m)\u001b[0m\u001b[0;34m\u001b[0m\u001b[0m\n\u001b[0m\u001b[1;32m   1709\u001b[0m \u001b[0;34m\u001b[0m\u001b[0m\n\u001b[1;32m   1710\u001b[0m         \u001b[0mpassed_names\u001b[0m \u001b[0;34m=\u001b[0m \u001b[0mself\u001b[0m\u001b[0;34m.\u001b[0m\u001b[0mnames\u001b[0m \u001b[0;32mis\u001b[0m \u001b[0;32mNone\u001b[0m\u001b[0;34m\u001b[0m\u001b[0m\n",
      "\u001b[0;32mpandas/_libs/parsers.pyx\u001b[0m in \u001b[0;36mpandas._libs.parsers.TextReader.__cinit__\u001b[0;34m()\u001b[0m\n",
      "\u001b[0;32mpandas/_libs/parsers.pyx\u001b[0m in \u001b[0;36mpandas._libs.parsers.TextReader._setup_parser_source\u001b[0;34m()\u001b[0m\n",
      "\u001b[0;31mFileNotFoundError\u001b[0m: File b'../../data/events.csv' does not exist"
     ]
    }
   ],
   "source": [
    "import pandas as pd\n",
    "import numpy as np\n",
    "import matplotlib.pyplot as plt\n",
    "import seaborn as sns\n",
    "from pandas import Series\n",
    "\n",
    "tf = pd.read_csv('../../data/events.csv', low_memory=False)"
   ]
  },
  {
   "cell_type": "markdown",
   "metadata": {},
   "source": [
    "#Analisis Exploratorio de los datos\n",
    "## Eventos\n"
   ]
  },
  {
   "cell_type": "code",
   "execution_count": 2,
   "metadata": {},
   "outputs": [],
   "source": [
    "# ¿Cuántos eventos hay?\n",
    "cantidadDeObservaciones = len(tf)"
   ]
  },
  {
   "cell_type": "code",
   "execution_count": 3,
   "metadata": {},
   "outputs": [
    {
     "data": {
      "text/plain": [
       "viewed product       528931\n",
       "brand listing         98635\n",
       "visited site          87378\n",
       "ad campaign hit       82827\n",
       "generic listing       67534\n",
       "searched products     56073\n",
       "search engine hit     50957\n",
       "checkout              33735\n",
       "staticpage             3598\n",
       "conversion             1172\n",
       "lead                    448\n",
       "Name: event, dtype: int64"
      ]
     },
     "execution_count": 3,
     "metadata": {},
     "output_type": "execute_result"
    }
   ],
   "source": [
    "# ¿Cuantos hay de cada evento?\n",
    "eventos = tf.event\n",
    "eventos.value_counts()"
   ]
  },
  {
   "cell_type": "code",
   "execution_count": 4,
   "metadata": {},
   "outputs": [
    {
     "data": {
      "text/plain": [
       "0"
      ]
     },
     "execution_count": 4,
     "metadata": {},
     "output_type": "execute_result"
    }
   ],
   "source": [
    "# ¿hay eventos nulos? \n",
    "eventos.isnull().sum() # -> ESTO ES BUENO porque no tengo eventos invalidos"
   ]
  },
  {
   "cell_type": "code",
   "execution_count": 6,
   "metadata": {},
   "outputs": [
    {
     "data": {
      "text/plain": [
       "<matplotlib.axes._subplots.AxesSubplot at 0x10e2b4358>"
      ]
     },
     "execution_count": 6,
     "metadata": {},
     "output_type": "execute_result"
    },
    {
     "data": {
      "image/png": "[encoded data removed]",
      "text/plain": [
       "<Figure size 360x360 with 1 Axes>"
      ]
     },
     "metadata": {},
     "output_type": "display_data"
    }
   ],
   "source": [
    "#Gráfico de los eventos\n",
    "eventosAGraf = eventos.value_counts()\n",
    "eventosAGraf.plot(kind='bar',figsize=(5,5))"
   ]
  },
  {
   "cell_type": "markdown",
   "metadata": {},
   "source": [
    "**Conclusión: el evento que más registros tiene es viewed product. El que menos tiene es lead**"
   ]
  },
  {
   "cell_type": "markdown",
   "metadata": {},
   "source": [
    "**¿Qué campos obligatorios tiene cada evento?**"
   ]
  },
  {
   "cell_type": "code",
   "execution_count": 13,
   "metadata": {},
   "outputs": [
    {
     "data": {
      "text/html": [
       "<div>\n",
       "<style scoped>\n",
       "    .dataframe tbody tr th:only-of-type {\n",
       "        vertical-align: middle;\n",
       "    }\n",
       "\n",
       "    .dataframe tbody tr th {\n",
       "        vertical-align: top;\n",
       "    }\n",
       "\n",
       "    .dataframe thead th {\n",
       "        text-align: right;\n",
       "    }\n",
       "</style>\n",
       "<table border=\"1\" class=\"dataframe\">\n",
       "  <thead>\n",
       "    <tr style=\"text-align: right;\">\n",
       "      <th></th>\n",
       "      <th>index</th>\n",
       "      <th>viewedProduct</th>\n",
       "      <th>brandListing</th>\n",
       "      <th>visitedSite</th>\n",
       "      <th>adCampaignHit</th>\n",
       "      <th>genericListing</th>\n",
       "      <th>searchedProducts</th>\n",
       "      <th>searchEngineHit</th>\n",
       "      <th>checkout</th>\n",
       "      <th>staticpage</th>\n",
       "      <th>conversion</th>\n",
       "      <th>lead</th>\n",
       "    </tr>\n",
       "  </thead>\n",
       "  <tbody>\n",
       "    <tr>\n",
       "      <th>0</th>\n",
       "      <td>timestamp</td>\n",
       "      <td>0</td>\n",
       "      <td>0</td>\n",
       "      <td>0</td>\n",
       "      <td>0</td>\n",
       "      <td>0</td>\n",
       "      <td>0</td>\n",
       "      <td>0</td>\n",
       "      <td>0</td>\n",
       "      <td>0</td>\n",
       "      <td>0</td>\n",
       "      <td>0</td>\n",
       "    </tr>\n",
       "    <tr>\n",
       "      <th>1</th>\n",
       "      <td>event</td>\n",
       "      <td>0</td>\n",
       "      <td>0</td>\n",
       "      <td>0</td>\n",
       "      <td>0</td>\n",
       "      <td>0</td>\n",
       "      <td>0</td>\n",
       "      <td>0</td>\n",
       "      <td>0</td>\n",
       "      <td>0</td>\n",
       "      <td>0</td>\n",
       "      <td>0</td>\n",
       "    </tr>\n",
       "    <tr>\n",
       "      <th>2</th>\n",
       "      <td>person</td>\n",
       "      <td>0</td>\n",
       "      <td>0</td>\n",
       "      <td>0</td>\n",
       "      <td>0</td>\n",
       "      <td>0</td>\n",
       "      <td>0</td>\n",
       "      <td>0</td>\n",
       "      <td>0</td>\n",
       "      <td>0</td>\n",
       "      <td>0</td>\n",
       "      <td>0</td>\n",
       "    </tr>\n",
       "    <tr>\n",
       "      <th>3</th>\n",
       "      <td>url</td>\n",
       "      <td>528931</td>\n",
       "      <td>98635</td>\n",
       "      <td>87378</td>\n",
       "      <td>71</td>\n",
       "      <td>67534</td>\n",
       "      <td>56073</td>\n",
       "      <td>50957</td>\n",
       "      <td>33735</td>\n",
       "      <td>3598</td>\n",
       "      <td>1172</td>\n",
       "      <td>448</td>\n",
       "    </tr>\n",
       "    <tr>\n",
       "      <th>4</th>\n",
       "      <td>sku</td>\n",
       "      <td>0</td>\n",
       "      <td>98635</td>\n",
       "      <td>87378</td>\n",
       "      <td>82827</td>\n",
       "      <td>67534</td>\n",
       "      <td>56073</td>\n",
       "      <td>50957</td>\n",
       "      <td>0</td>\n",
       "      <td>3598</td>\n",
       "      <td>0</td>\n",
       "      <td>448</td>\n",
       "    </tr>\n",
       "    <tr>\n",
       "      <th>5</th>\n",
       "      <td>model</td>\n",
       "      <td>0</td>\n",
       "      <td>98635</td>\n",
       "      <td>87378</td>\n",
       "      <td>82827</td>\n",
       "      <td>67534</td>\n",
       "      <td>56073</td>\n",
       "      <td>50957</td>\n",
       "      <td>2</td>\n",
       "      <td>3598</td>\n",
       "      <td>0</td>\n",
       "      <td>0</td>\n",
       "    </tr>\n",
       "    <tr>\n",
       "      <th>6</th>\n",
       "      <td>condition</td>\n",
       "      <td>0</td>\n",
       "      <td>98635</td>\n",
       "      <td>87378</td>\n",
       "      <td>82827</td>\n",
       "      <td>67534</td>\n",
       "      <td>56073</td>\n",
       "      <td>50957</td>\n",
       "      <td>2</td>\n",
       "      <td>3598</td>\n",
       "      <td>0</td>\n",
       "      <td>448</td>\n",
       "    </tr>\n",
       "    <tr>\n",
       "      <th>7</th>\n",
       "      <td>storage</td>\n",
       "      <td>0</td>\n",
       "      <td>98635</td>\n",
       "      <td>87378</td>\n",
       "      <td>82827</td>\n",
       "      <td>67534</td>\n",
       "      <td>56073</td>\n",
       "      <td>50957</td>\n",
       "      <td>2</td>\n",
       "      <td>3598</td>\n",
       "      <td>0</td>\n",
       "      <td>448</td>\n",
       "    </tr>\n",
       "    <tr>\n",
       "      <th>8</th>\n",
       "      <td>color</td>\n",
       "      <td>0</td>\n",
       "      <td>98635</td>\n",
       "      <td>87378</td>\n",
       "      <td>82827</td>\n",
       "      <td>67534</td>\n",
       "      <td>56073</td>\n",
       "      <td>50957</td>\n",
       "      <td>2</td>\n",
       "      <td>3598</td>\n",
       "      <td>0</td>\n",
       "      <td>448</td>\n",
       "    </tr>\n",
       "    <tr>\n",
       "      <th>9</th>\n",
       "      <td>skus</td>\n",
       "      <td>528931</td>\n",
       "      <td>311</td>\n",
       "      <td>87378</td>\n",
       "      <td>82827</td>\n",
       "      <td>113</td>\n",
       "      <td>119</td>\n",
       "      <td>50957</td>\n",
       "      <td>33735</td>\n",
       "      <td>3598</td>\n",
       "      <td>1172</td>\n",
       "      <td>448</td>\n",
       "    </tr>\n",
       "    <tr>\n",
       "      <th>10</th>\n",
       "      <td>search_term</td>\n",
       "      <td>528931</td>\n",
       "      <td>98635</td>\n",
       "      <td>87378</td>\n",
       "      <td>82827</td>\n",
       "      <td>67534</td>\n",
       "      <td>7106</td>\n",
       "      <td>50957</td>\n",
       "      <td>33735</td>\n",
       "      <td>3598</td>\n",
       "      <td>1172</td>\n",
       "      <td>448</td>\n",
       "    </tr>\n",
       "    <tr>\n",
       "      <th>11</th>\n",
       "      <td>staticpage</td>\n",
       "      <td>528931</td>\n",
       "      <td>98635</td>\n",
       "      <td>87378</td>\n",
       "      <td>82827</td>\n",
       "      <td>67534</td>\n",
       "      <td>56073</td>\n",
       "      <td>50957</td>\n",
       "      <td>33735</td>\n",
       "      <td>0</td>\n",
       "      <td>1172</td>\n",
       "      <td>448</td>\n",
       "    </tr>\n",
       "    <tr>\n",
       "      <th>12</th>\n",
       "      <td>campaign_source</td>\n",
       "      <td>528931</td>\n",
       "      <td>98635</td>\n",
       "      <td>87378</td>\n",
       "      <td>31</td>\n",
       "      <td>67534</td>\n",
       "      <td>56073</td>\n",
       "      <td>50957</td>\n",
       "      <td>33735</td>\n",
       "      <td>3598</td>\n",
       "      <td>1172</td>\n",
       "      <td>448</td>\n",
       "    </tr>\n",
       "    <tr>\n",
       "      <th>13</th>\n",
       "      <td>search_engine</td>\n",
       "      <td>528931</td>\n",
       "      <td>98635</td>\n",
       "      <td>87378</td>\n",
       "      <td>82827</td>\n",
       "      <td>67534</td>\n",
       "      <td>56073</td>\n",
       "      <td>0</td>\n",
       "      <td>33735</td>\n",
       "      <td>3598</td>\n",
       "      <td>1172</td>\n",
       "      <td>448</td>\n",
       "    </tr>\n",
       "    <tr>\n",
       "      <th>14</th>\n",
       "      <td>channel</td>\n",
       "      <td>528931</td>\n",
       "      <td>98635</td>\n",
       "      <td>0</td>\n",
       "      <td>82827</td>\n",
       "      <td>67534</td>\n",
       "      <td>56073</td>\n",
       "      <td>50957</td>\n",
       "      <td>33735</td>\n",
       "      <td>3598</td>\n",
       "      <td>1172</td>\n",
       "      <td>448</td>\n",
       "    </tr>\n",
       "    <tr>\n",
       "      <th>15</th>\n",
       "      <td>new_vs_returning</td>\n",
       "      <td>528931</td>\n",
       "      <td>98635</td>\n",
       "      <td>0</td>\n",
       "      <td>82827</td>\n",
       "      <td>67534</td>\n",
       "      <td>56073</td>\n",
       "      <td>50957</td>\n",
       "      <td>33735</td>\n",
       "      <td>3598</td>\n",
       "      <td>1172</td>\n",
       "      <td>448</td>\n",
       "    </tr>\n",
       "    <tr>\n",
       "      <th>16</th>\n",
       "      <td>city</td>\n",
       "      <td>528931</td>\n",
       "      <td>98635</td>\n",
       "      <td>0</td>\n",
       "      <td>82827</td>\n",
       "      <td>67534</td>\n",
       "      <td>56073</td>\n",
       "      <td>50957</td>\n",
       "      <td>33735</td>\n",
       "      <td>3598</td>\n",
       "      <td>1172</td>\n",
       "      <td>448</td>\n",
       "    </tr>\n",
       "    <tr>\n",
       "      <th>17</th>\n",
       "      <td>region</td>\n",
       "      <td>528931</td>\n",
       "      <td>98635</td>\n",
       "      <td>0</td>\n",
       "      <td>82827</td>\n",
       "      <td>67534</td>\n",
       "      <td>56073</td>\n",
       "      <td>50957</td>\n",
       "      <td>33735</td>\n",
       "      <td>3598</td>\n",
       "      <td>1172</td>\n",
       "      <td>448</td>\n",
       "    </tr>\n",
       "    <tr>\n",
       "      <th>18</th>\n",
       "      <td>country</td>\n",
       "      <td>528931</td>\n",
       "      <td>98635</td>\n",
       "      <td>0</td>\n",
       "      <td>82827</td>\n",
       "      <td>67534</td>\n",
       "      <td>56073</td>\n",
       "      <td>50957</td>\n",
       "      <td>33735</td>\n",
       "      <td>3598</td>\n",
       "      <td>1172</td>\n",
       "      <td>448</td>\n",
       "    </tr>\n",
       "    <tr>\n",
       "      <th>19</th>\n",
       "      <td>device_type</td>\n",
       "      <td>528931</td>\n",
       "      <td>98635</td>\n",
       "      <td>0</td>\n",
       "      <td>82827</td>\n",
       "      <td>67534</td>\n",
       "      <td>56073</td>\n",
       "      <td>50957</td>\n",
       "      <td>33735</td>\n",
       "      <td>3598</td>\n",
       "      <td>1172</td>\n",
       "      <td>448</td>\n",
       "    </tr>\n",
       "    <tr>\n",
       "      <th>20</th>\n",
       "      <td>screen_resolution</td>\n",
       "      <td>528931</td>\n",
       "      <td>98635</td>\n",
       "      <td>0</td>\n",
       "      <td>82827</td>\n",
       "      <td>67534</td>\n",
       "      <td>56073</td>\n",
       "      <td>50957</td>\n",
       "      <td>33735</td>\n",
       "      <td>3598</td>\n",
       "      <td>1172</td>\n",
       "      <td>448</td>\n",
       "    </tr>\n",
       "    <tr>\n",
       "      <th>21</th>\n",
       "      <td>operating_system_version</td>\n",
       "      <td>528931</td>\n",
       "      <td>98635</td>\n",
       "      <td>0</td>\n",
       "      <td>82827</td>\n",
       "      <td>67534</td>\n",
       "      <td>56073</td>\n",
       "      <td>50957</td>\n",
       "      <td>33735</td>\n",
       "      <td>3598</td>\n",
       "      <td>1172</td>\n",
       "      <td>448</td>\n",
       "    </tr>\n",
       "    <tr>\n",
       "      <th>22</th>\n",
       "      <td>browser_version</td>\n",
       "      <td>528931</td>\n",
       "      <td>98635</td>\n",
       "      <td>0</td>\n",
       "      <td>82827</td>\n",
       "      <td>67534</td>\n",
       "      <td>56073</td>\n",
       "      <td>50957</td>\n",
       "      <td>33735</td>\n",
       "      <td>3598</td>\n",
       "      <td>1172</td>\n",
       "      <td>448</td>\n",
       "    </tr>\n",
       "  </tbody>\n",
       "</table>\n",
       "</div>"
      ],
      "text/plain": [
       "                       index  viewedProduct  brandListing  visitedSite  \\\n",
       "0                  timestamp              0             0            0   \n",
       "1                      event              0             0            0   \n",
       "2                     person              0             0            0   \n",
       "3                        url         528931         98635        87378   \n",
       "4                        sku              0         98635        87378   \n",
       "5                      model              0         98635        87378   \n",
       "6                  condition              0         98635        87378   \n",
       "7                    storage              0         98635        87378   \n",
       "8                      color              0         98635        87378   \n",
       "9                       skus         528931           311        87378   \n",
       "10               search_term         528931         98635        87378   \n",
       "11                staticpage         528931         98635        87378   \n",
       "12           campaign_source         528931         98635        87378   \n",
       "13             search_engine         528931         98635        87378   \n",
       "14                   channel         528931         98635            0   \n",
       "15          new_vs_returning         528931         98635            0   \n",
       "16                      city         528931         98635            0   \n",
       "17                    region         528931         98635            0   \n",
       "18                   country         528931         98635            0   \n",
       "19               device_type         528931         98635            0   \n",
       "20         screen_resolution         528931         98635            0   \n",
       "21  operating_system_version         528931         98635            0   \n",
       "22           browser_version         528931         98635            0   \n",
       "\n",
       "    adCampaignHit  genericListing  searchedProducts  searchEngineHit  \\\n",
       "0               0               0                 0                0   \n",
       "1               0               0                 0                0   \n",
       "2               0               0                 0                0   \n",
       "3              71           67534             56073            50957   \n",
       "4           82827           67534             56073            50957   \n",
       "5           82827           67534             56073            50957   \n",
       "6           82827           67534             56073            50957   \n",
       "7           82827           67534             56073            50957   \n",
       "8           82827           67534             56073            50957   \n",
       "9           82827             113               119            50957   \n",
       "10          82827           67534              7106            50957   \n",
       "11          82827           67534             56073            50957   \n",
       "12             31           67534             56073            50957   \n",
       "13          82827           67534             56073                0   \n",
       "14          82827           67534             56073            50957   \n",
       "15          82827           67534             56073            50957   \n",
       "16          82827           67534             56073            50957   \n",
       "17          82827           67534             56073            50957   \n",
       "18          82827           67534             56073            50957   \n",
       "19          82827           67534             56073            50957   \n",
       "20          82827           67534             56073            50957   \n",
       "21          82827           67534             56073            50957   \n",
       "22          82827           67534             56073            50957   \n",
       "\n",
       "    checkout  staticpage  conversion  lead  \n",
       "0          0           0           0     0  \n",
       "1          0           0           0     0  \n",
       "2          0           0           0     0  \n",
       "3      33735        3598        1172   448  \n",
       "4          0        3598           0   448  \n",
       "5          2        3598           0     0  \n",
       "6          2        3598           0   448  \n",
       "7          2        3598           0   448  \n",
       "8          2        3598           0   448  \n",
       "9      33735        3598        1172   448  \n",
       "10     33735        3598        1172   448  \n",
       "11     33735           0        1172   448  \n",
       "12     33735        3598        1172   448  \n",
       "13     33735        3598        1172   448  \n",
       "14     33735        3598        1172   448  \n",
       "15     33735        3598        1172   448  \n",
       "16     33735        3598        1172   448  \n",
       "17     33735        3598        1172   448  \n",
       "18     33735        3598        1172   448  \n",
       "19     33735        3598        1172   448  \n",
       "20     33735        3598        1172   448  \n",
       "21     33735        3598        1172   448  \n",
       "22     33735        3598        1172   448  "
      ]
     },
     "execution_count": 13,
     "metadata": {},
     "output_type": "execute_result"
    }
   ],
   "source": [
    "viewedProduct = tf[tf['event'] == 'viewed product']\n",
    "viewedProductIsNull = viewedProduct.isnull().sum()\n",
    "brandListing    = tf[tf['event'] == 'brand listing']\n",
    "brandListingIsNull  = brandListing.isnull().sum()\n",
    "visitedSite =  tf[tf['event'] == 'visited site']\n",
    "visitedSiteIsNull = visitedSite.isnull().sum()\n",
    "adCampaignHit = tf[tf['event'] == 'ad campaign hit']\n",
    "adCampaignHitIsNull = adCampaignHit.isnull().sum()\n",
    "genericListing = tf[tf['event'] == 'generic listing']\n",
    "genericListingIsNull = genericListing.isnull().sum()\n",
    "searchedProducts = tf[tf['event'] == 'searched products']\n",
    "searchedProductsIsNull = searchedProducts.isnull().sum()\n",
    "searchEngineHit = tf[tf['event'] == 'search engine hit']\n",
    "searchEngineHitIsNull = searchEngineHit.isnull().sum()\n",
    "checkout = tf[tf['event'] == 'checkout']\n",
    "checkoutIsNull = checkout.isnull().sum()\n",
    "staticpage = tf[tf['event'] == 'staticpage']\n",
    "staticpageIsNull = staticpage.isnull().sum()\n",
    "conversion = tf[tf['event'] == 'conversion']\n",
    "conversionIsNull = conversion.isnull().sum()\n",
    "lead = tf[tf['event'] == 'lead']\n",
    "leadIsNull = lead.isnull().sum()\n",
    "pd.DataFrame(dict(viewedProduct = viewedProductIsNull , brandListing = brandListingIsNull, visitedSite = visitedSiteIsNull , adCampaignHit = adCampaignHitIsNull, genericListing = genericListingIsNull, searchedProducts = searchedProductsIsNull, searchEngineHit = searchEngineHitIsNull, checkout = checkoutIsNull, staticpage = staticpageIsNull, conversion = conversionIsNull, lead = leadIsNull)).reset_index()"
   ]
  },
  {
   "cell_type": "markdown",
   "metadata": {},
   "source": [
    "**Los campos obligatorios son: ** \n",
    "\n",
    "\n",
    "Para el evento **viewed product**: timestamp | person | sku | model | condition | storage | color.\n",
    "\n",
    "Para el evento **brad listing**: timestamp | person \n",
    "\n",
    "Para el evento **visited site**: channel | new_vs_returning | city | region | country | device_tipe | screen resolution | operating system version | browser version\n",
    "\n",
    "Para el evento **ad campaing hit**: timestap | person | url | campaing_sourse -> **analizar que sucede con los 71 null que aparecen url , y los 31 que aparecen en campaing_source y eliminarlos si no sirve**\n",
    "\n",
    "Para el evento **generic listing**: timestamp | person | skus ->**analizar que sucede con los 113 null que aparecen en skus**\n",
    "\n",
    "Para el evento **serched product**: timestamp | person | skus | search_term -> **analizar que sucede con los 119 null que aparecen skus y 7106 null que aparecen en search_term**\n",
    "\n",
    "Para el evento **serched engine**: timestamp | person | search engine\n",
    "\n",
    "Para el evento **checked out**: timestamp | person | sku | color | storage | model | condition -> **analizar que sucede con los 2 null que aparecen en: color, storage, model, condition**\n",
    "\n",
    "Para el evento **static page**: timestamp | person | satatic page\n",
    "\n",
    "Para le evento **conversion**: timestamp | person | sku | model | color | condition | storage\n",
    "\n",
    "Para el evento **lead**: timestamp | person | model\n",
    "\n",
    "Esto lo deducimos porque si la cantidad de apariciones de cada evento es igual a la cantidad de nulls que tiene en una columna -> esa columna no representa nada para el evento. "
   ]
  },
  {
   "cell_type": "markdown",
   "metadata": {},
   "source": [
    "¿Cuál son las condiciones en las que se encuentran los modelos que los usuario visitan?"
   ]
  },
  {
   "cell_type": "code",
   "execution_count": 38,
   "metadata": {},
   "outputs": [
    {
     "name": "stdout",
     "output_type": "stream",
     "text": [
      "Bom                   0.429491\n",
      "Excelente             0.271449\n",
      "Muito Bom             0.270022\n",
      "Bom - Sem Touch ID    0.026814\n",
      "Novo                  0.002223\n",
      "Name: condition, dtype: float64\n"
     ]
    },
    {
     "data": {
      "text/plain": [
       "<matplotlib.axes._subplots.AxesSubplot at 0x1a15c71278>"
      ]
     },
     "execution_count": 38,
     "metadata": {},
     "output_type": "execute_result"
    },
    {
     "data": {
      "image/png": "[encoded data removed]",
      "text/plain": [
       "<Figure size 432x288 with 1 Axes>"
      ]
     },
     "metadata": {},
     "output_type": "display_data"
    }
   ],
   "source": [
    "productosCondicionesGraf = viewedProduct.condition.value_counts(normalize = True)\n",
    "print(productosCondicionesGraf)\n",
    "productosCondicionesGraf.plot(kind = 'barh')"
   ]
  },
  {
   "cell_type": "markdown",
   "metadata": {},
   "source": [
    "**Conclusión de los productos que visita el usuario sobre la calidad de los productos:**\n",
    "\n",
    "    -el 0,02 porciento de los productos que visita el usuario son nuevos\n",
    "         \n",
    "    -el 2% de los productos que tienen identificador de huella digital \n",
    "    \n",
    "    -el 42% de los productos son de calidad buena\n",
    "    \n",
    "    -el 27% de los productos son de calidad excelente \n",
    "    \n",
    "    -el 27% de los productos son de calidad muy buena"
   ]
  },
  {
   "cell_type": "code",
   "execution_count": 37,
   "metadata": {},
   "outputs": [
    {
     "name": "stdout",
     "output_type": "stream",
     "text": [
      "16GB     0.336186\n",
      "32GB     0.329837\n",
      "64GB     0.178636\n",
      "128GB    0.073616\n",
      "8GB      0.064920\n",
      "256GB    0.012383\n",
      "4GB      0.003479\n",
      "512MB    0.000943\n",
      "Name: storage, dtype: float64\n"
     ]
    },
    {
     "data": {
      "text/plain": [
       "<matplotlib.axes._subplots.AxesSubplot at 0x1a15c191d0>"
      ]
     },
     "execution_count": 37,
     "metadata": {},
     "output_type": "execute_result"
    },
    {
     "data": {
      "image/png": "[encoded data removed]",
      "text/plain": [
       "<Figure size 432x288 with 1 Axes>"
      ]
     },
     "metadata": {},
     "output_type": "display_data"
    }
   ],
   "source": [
    "productosStorageGraf = viewedProduct.storage.value_counts(normalize = True)\n",
    "print(productosStorageGraf)\n",
    "productosStorageGraf.plot(kind = 'bar')"
   ]
  },
  {
   "cell_type": "markdown",
   "metadata": {},
   "source": [
    "**Conclusión de los productos que visita el usuario sobre el almacenamiento de los productos: ** \n",
    "    \n",
    "    - El 33% visita productos con almacenamiento de 16 GB\n",
    "    - El 32% visita productos con almacenamiento de 32 GB\n",
    "    - El 17% visita productos con almacenamiento de 64 GB\n",
    "    - EL 6% visita productos con almacenamiento de 8 GB\n",
    "    "
   ]
  },
  {
   "cell_type": "code",
   "execution_count": 40,
   "metadata": {},
   "outputs": [
    {
     "name": "stdout",
     "output_type": "stream",
     "text": [
      "Preto             0.234473\n",
      "Dourado           0.200124\n",
      "Cinza espacial    0.117736\n",
      "Branco            0.096583\n",
      "Prateado          0.091277\n",
      "Ouro Rosa         0.059388\n",
      "Prata             0.033188\n",
      "Rosa              0.030318\n",
      "Preto Matte       0.028270\n",
      "Azul              0.015777\n",
      "Ametista          0.013193\n",
      "Platinum          0.011130\n",
      "Name: color, dtype: float64\n"
     ]
    },
    {
     "data": {
      "text/plain": [
       "<matplotlib.axes._subplots.AxesSubplot at 0x1a16a24ac8>"
      ]
     },
     "execution_count": 40,
     "metadata": {},
     "output_type": "execute_result"
    },
    {
     "data": {
      "image/png": "[encoded data removed]",
      "text/plain": [
       "<Figure size 432x288 with 1 Axes>"
      ]
     },
     "metadata": {},
     "output_type": "display_data"
    }
   ],
   "source": [
    "productosColorGraf = viewedProduct.color.value_counts(normalize = True).head(12)\n",
    "print(productosColorGraf)\n",
    "productosColorGraf.plot(kind = 'bar')"
   ]
  },
  {
   "cell_type": "markdown",
   "metadata": {},
   "source": [
    "**Conclusión de los productos que visita el usuario sobre el color de los productos:**\n",
    "    - el 23% de los productos son negro\n",
    "    - el 20% de los productos son dorados\n",
    "    - el "
   ]
  }
 ],
 "metadata": {
  "kernelspec": {
   "display_name": "Python 3",
   "language": "python",
   "name": "python3"
  },
  "language_info": {
   "codemirror_mode": {
    "name": "ipython",
    "version": 3
   },
   "file_extension": ".py",
   "mimetype": "text/x-python",
   "name": "python",
   "nbconvert_exporter": "python",
   "pygments_lexer": "ipython3",
   "version": "3.6.5"
  }
 },
 "nbformat": 4,
 "nbformat_minor": 2
}
