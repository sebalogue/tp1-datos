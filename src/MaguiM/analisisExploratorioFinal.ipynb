{
 "cells": [
  {
   "cell_type": "code",
   "execution_count": 1,
   "metadata": {},
   "outputs": [],
   "source": [
    "import pandas as pd\n",
    "import numpy as np\n",
    "import matplotlib.pyplot as plt\n",
    "import seaborn as sns\n",
    "from pandas import Series\n",
    "\n",
    "tf = pd.read_csv('../../data/events.csv', low_memory=False)"
   ]
  },
  {
   "cell_type": "code",
   "execution_count": 2,
   "metadata": {},
   "outputs": [],
   "source": [
    "tf['timestamp'] = pd.to_datetime(tf['timestamp']) #hago date time el tiempo"
   ]
  },
  {
   "cell_type": "markdown",
   "metadata": {},
   "source": [
    "**Agrego columnas del mes, el día y la hora.** "
   ]
  },
  {
   "cell_type": "code",
   "execution_count": 3,
   "metadata": {},
   "outputs": [
    {
     "name": "stderr",
     "output_type": "stream",
     "text": [
      "/anaconda3/lib/python3.6/site-packages/ipykernel_launcher.py:3: FutureWarning: `weekday_name` is deprecated and will be removed in a future version. Use `day_name` instead\n",
      "  This is separate from the ipykernel package so we can avoid doing imports until\n"
     ]
    }
   ],
   "source": [
    "# NO HAGO UNA COLUMNA AÑO, PORQUE EL ÚNICO QUE HAY ES 2018\n",
    "tf['mes'] = tf['timestamp'].map(lambda x: x.month)#LOS MESES VAN DEL 1 AL 6\n",
    "tf['nombreDelDia'] = tf['timestamp'].map(lambda x: x.weekday_name)\n",
    "tf['hora'] = tf['timestamp'].dt.hour"
   ]
  },
  {
   "cell_type": "markdown",
   "metadata": {},
   "source": [
    "#Analisis Exploratorio de los datos\n",
    "## Eventos\n"
   ]
  },
  {
   "cell_type": "code",
   "execution_count": 4,
   "metadata": {},
   "outputs": [],
   "source": [
    "# ¿Cuántos eventos hay?\n",
    "cantidadDeObservaciones = len(tf)"
   ]
  },
  {
   "cell_type": "code",
   "execution_count": 5,
   "metadata": {},
   "outputs": [
    {
     "data": {
      "text/plain": [
       "viewed product       528931\n",
       "brand listing         98635\n",
       "visited site          87378\n",
       "ad campaign hit       82827\n",
       "generic listing       67534\n",
       "searched products     56073\n",
       "search engine hit     50957\n",
       "checkout              33735\n",
       "staticpage             3598\n",
       "conversion             1172\n",
       "lead                    448\n",
       "Name: event, dtype: int64"
      ]
     },
     "execution_count": 5,
     "metadata": {},
     "output_type": "execute_result"
    }
   ],
   "source": [
    "# ¿Cuantos hay de cada evento?\n",
    "eventos = tf.event\n",
    "eventos.value_counts()"
   ]
  },
  {
   "cell_type": "code",
   "execution_count": 6,
   "metadata": {},
   "outputs": [
    {
     "data": {
      "text/plain": [
       "0"
      ]
     },
     "execution_count": 6,
     "metadata": {},
     "output_type": "execute_result"
    }
   ],
   "source": [
    "# ¿hay eventos nulos? \n",
    "eventos.isnull().sum() # -> ESTO ES BUENO porque no tengo eventos invalidos"
   ]
  },
  {
   "cell_type": "code",
   "execution_count": 7,
   "metadata": {},
   "outputs": [
    {
     "data": {
      "text/plain": [
       "<matplotlib.axes._subplots.AxesSubplot at 0x115b4ce10>"
      ]
     },
     "execution_count": 7,
     "metadata": {},
     "output_type": "execute_result"
    },
    {
     "data": {
      "image/png": "[encoded data removed]",
      "text/plain": [
       "<Figure size 360x360 with 1 Axes>"
      ]
     },
     "metadata": {},
     "output_type": "display_data"
    }
   ],
   "source": [
    "#Gráfico de los eventos\n",
    "eventosAGraf = eventos.value_counts(normalize = True)\n",
    "#print(eventosAGraf)\n",
    "eventosAGraf.plot(kind='bar',figsize=(5,5))"
   ]
  },
  {
   "cell_type": "markdown",
   "metadata": {},
   "source": [
    "**Conclusión:**\n",
    "\n",
    "    -El 52% de observaciones son viewed productos (más frecuente)\n",
    "    \n",
    "    -El 0,004% de observaciones son lead (menos frecuente)"
   ]
  },
  {
   "cell_type": "markdown",
   "metadata": {},
   "source": [
    "### ¿Qué campos obligatorios tiene cada evento?"
   ]
  },
  {
   "cell_type": "code",
   "execution_count": 8,
   "metadata": {},
   "outputs": [
    {
     "data": {
      "text/html": [
       "<div>\n",
       "<style scoped>\n",
       "    .dataframe tbody tr th:only-of-type {\n",
       "        vertical-align: middle;\n",
       "    }\n",
       "\n",
       "    .dataframe tbody tr th {\n",
       "        vertical-align: top;\n",
       "    }\n",
       "\n",
       "    .dataframe thead th {\n",
       "        text-align: right;\n",
       "    }\n",
       "</style>\n",
       "<table border=\"1\" class=\"dataframe\">\n",
       "  <thead>\n",
       "    <tr style=\"text-align: right;\">\n",
       "      <th></th>\n",
       "      <th>index</th>\n",
       "      <th>viewedProduct</th>\n",
       "      <th>brandListing</th>\n",
       "      <th>visitedSite</th>\n",
       "      <th>adCampaignHit</th>\n",
       "      <th>genericListing</th>\n",
       "      <th>searchedProducts</th>\n",
       "      <th>searchEngineHit</th>\n",
       "      <th>checkout</th>\n",
       "      <th>staticpage</th>\n",
       "      <th>conversion</th>\n",
       "      <th>lead</th>\n",
       "    </tr>\n",
       "  </thead>\n",
       "  <tbody>\n",
       "    <tr>\n",
       "      <th>0</th>\n",
       "      <td>timestamp</td>\n",
       "      <td>0</td>\n",
       "      <td>0</td>\n",
       "      <td>0</td>\n",
       "      <td>0</td>\n",
       "      <td>0</td>\n",
       "      <td>0</td>\n",
       "      <td>0</td>\n",
       "      <td>0</td>\n",
       "      <td>0</td>\n",
       "      <td>0</td>\n",
       "      <td>0</td>\n",
       "    </tr>\n",
       "    <tr>\n",
       "      <th>1</th>\n",
       "      <td>event</td>\n",
       "      <td>0</td>\n",
       "      <td>0</td>\n",
       "      <td>0</td>\n",
       "      <td>0</td>\n",
       "      <td>0</td>\n",
       "      <td>0</td>\n",
       "      <td>0</td>\n",
       "      <td>0</td>\n",
       "      <td>0</td>\n",
       "      <td>0</td>\n",
       "      <td>0</td>\n",
       "    </tr>\n",
       "    <tr>\n",
       "      <th>2</th>\n",
       "      <td>person</td>\n",
       "      <td>0</td>\n",
       "      <td>0</td>\n",
       "      <td>0</td>\n",
       "      <td>0</td>\n",
       "      <td>0</td>\n",
       "      <td>0</td>\n",
       "      <td>0</td>\n",
       "      <td>0</td>\n",
       "      <td>0</td>\n",
       "      <td>0</td>\n",
       "      <td>0</td>\n",
       "    </tr>\n",
       "    <tr>\n",
       "      <th>3</th>\n",
       "      <td>url</td>\n",
       "      <td>528931</td>\n",
       "      <td>98635</td>\n",
       "      <td>87378</td>\n",
       "      <td>71</td>\n",
       "      <td>67534</td>\n",
       "      <td>56073</td>\n",
       "      <td>50957</td>\n",
       "      <td>33735</td>\n",
       "      <td>3598</td>\n",
       "      <td>1172</td>\n",
       "      <td>448</td>\n",
       "    </tr>\n",
       "    <tr>\n",
       "      <th>4</th>\n",
       "      <td>sku</td>\n",
       "      <td>0</td>\n",
       "      <td>98635</td>\n",
       "      <td>87378</td>\n",
       "      <td>82827</td>\n",
       "      <td>67534</td>\n",
       "      <td>56073</td>\n",
       "      <td>50957</td>\n",
       "      <td>0</td>\n",
       "      <td>3598</td>\n",
       "      <td>0</td>\n",
       "      <td>448</td>\n",
       "    </tr>\n",
       "    <tr>\n",
       "      <th>5</th>\n",
       "      <td>model</td>\n",
       "      <td>0</td>\n",
       "      <td>98635</td>\n",
       "      <td>87378</td>\n",
       "      <td>82827</td>\n",
       "      <td>67534</td>\n",
       "      <td>56073</td>\n",
       "      <td>50957</td>\n",
       "      <td>2</td>\n",
       "      <td>3598</td>\n",
       "      <td>0</td>\n",
       "      <td>0</td>\n",
       "    </tr>\n",
       "    <tr>\n",
       "      <th>6</th>\n",
       "      <td>condition</td>\n",
       "      <td>0</td>\n",
       "      <td>98635</td>\n",
       "      <td>87378</td>\n",
       "      <td>82827</td>\n",
       "      <td>67534</td>\n",
       "      <td>56073</td>\n",
       "      <td>50957</td>\n",
       "      <td>2</td>\n",
       "      <td>3598</td>\n",
       "      <td>0</td>\n",
       "      <td>448</td>\n",
       "    </tr>\n",
       "    <tr>\n",
       "      <th>7</th>\n",
       "      <td>storage</td>\n",
       "      <td>0</td>\n",
       "      <td>98635</td>\n",
       "      <td>87378</td>\n",
       "      <td>82827</td>\n",
       "      <td>67534</td>\n",
       "      <td>56073</td>\n",
       "      <td>50957</td>\n",
       "      <td>2</td>\n",
       "      <td>3598</td>\n",
       "      <td>0</td>\n",
       "      <td>448</td>\n",
       "    </tr>\n",
       "    <tr>\n",
       "      <th>8</th>\n",
       "      <td>color</td>\n",
       "      <td>0</td>\n",
       "      <td>98635</td>\n",
       "      <td>87378</td>\n",
       "      <td>82827</td>\n",
       "      <td>67534</td>\n",
       "      <td>56073</td>\n",
       "      <td>50957</td>\n",
       "      <td>2</td>\n",
       "      <td>3598</td>\n",
       "      <td>0</td>\n",
       "      <td>448</td>\n",
       "    </tr>\n",
       "    <tr>\n",
       "      <th>9</th>\n",
       "      <td>skus</td>\n",
       "      <td>528931</td>\n",
       "      <td>311</td>\n",
       "      <td>87378</td>\n",
       "      <td>82827</td>\n",
       "      <td>113</td>\n",
       "      <td>119</td>\n",
       "      <td>50957</td>\n",
       "      <td>33735</td>\n",
       "      <td>3598</td>\n",
       "      <td>1172</td>\n",
       "      <td>448</td>\n",
       "    </tr>\n",
       "    <tr>\n",
       "      <th>10</th>\n",
       "      <td>search_term</td>\n",
       "      <td>528931</td>\n",
       "      <td>98635</td>\n",
       "      <td>87378</td>\n",
       "      <td>82827</td>\n",
       "      <td>67534</td>\n",
       "      <td>7106</td>\n",
       "      <td>50957</td>\n",
       "      <td>33735</td>\n",
       "      <td>3598</td>\n",
       "      <td>1172</td>\n",
       "      <td>448</td>\n",
       "    </tr>\n",
       "    <tr>\n",
       "      <th>11</th>\n",
       "      <td>staticpage</td>\n",
       "      <td>528931</td>\n",
       "      <td>98635</td>\n",
       "      <td>87378</td>\n",
       "      <td>82827</td>\n",
       "      <td>67534</td>\n",
       "      <td>56073</td>\n",
       "      <td>50957</td>\n",
       "      <td>33735</td>\n",
       "      <td>0</td>\n",
       "      <td>1172</td>\n",
       "      <td>448</td>\n",
       "    </tr>\n",
       "    <tr>\n",
       "      <th>12</th>\n",
       "      <td>campaign_source</td>\n",
       "      <td>528931</td>\n",
       "      <td>98635</td>\n",
       "      <td>87378</td>\n",
       "      <td>31</td>\n",
       "      <td>67534</td>\n",
       "      <td>56073</td>\n",
       "      <td>50957</td>\n",
       "      <td>33735</td>\n",
       "      <td>3598</td>\n",
       "      <td>1172</td>\n",
       "      <td>448</td>\n",
       "    </tr>\n",
       "    <tr>\n",
       "      <th>13</th>\n",
       "      <td>search_engine</td>\n",
       "      <td>528931</td>\n",
       "      <td>98635</td>\n",
       "      <td>87378</td>\n",
       "      <td>82827</td>\n",
       "      <td>67534</td>\n",
       "      <td>56073</td>\n",
       "      <td>0</td>\n",
       "      <td>33735</td>\n",
       "      <td>3598</td>\n",
       "      <td>1172</td>\n",
       "      <td>448</td>\n",
       "    </tr>\n",
       "    <tr>\n",
       "      <th>14</th>\n",
       "      <td>channel</td>\n",
       "      <td>528931</td>\n",
       "      <td>98635</td>\n",
       "      <td>0</td>\n",
       "      <td>82827</td>\n",
       "      <td>67534</td>\n",
       "      <td>56073</td>\n",
       "      <td>50957</td>\n",
       "      <td>33735</td>\n",
       "      <td>3598</td>\n",
       "      <td>1172</td>\n",
       "      <td>448</td>\n",
       "    </tr>\n",
       "    <tr>\n",
       "      <th>15</th>\n",
       "      <td>new_vs_returning</td>\n",
       "      <td>528931</td>\n",
       "      <td>98635</td>\n",
       "      <td>0</td>\n",
       "      <td>82827</td>\n",
       "      <td>67534</td>\n",
       "      <td>56073</td>\n",
       "      <td>50957</td>\n",
       "      <td>33735</td>\n",
       "      <td>3598</td>\n",
       "      <td>1172</td>\n",
       "      <td>448</td>\n",
       "    </tr>\n",
       "    <tr>\n",
       "      <th>16</th>\n",
       "      <td>city</td>\n",
       "      <td>528931</td>\n",
       "      <td>98635</td>\n",
       "      <td>0</td>\n",
       "      <td>82827</td>\n",
       "      <td>67534</td>\n",
       "      <td>56073</td>\n",
       "      <td>50957</td>\n",
       "      <td>33735</td>\n",
       "      <td>3598</td>\n",
       "      <td>1172</td>\n",
       "      <td>448</td>\n",
       "    </tr>\n",
       "    <tr>\n",
       "      <th>17</th>\n",
       "      <td>region</td>\n",
       "      <td>528931</td>\n",
       "      <td>98635</td>\n",
       "      <td>0</td>\n",
       "      <td>82827</td>\n",
       "      <td>67534</td>\n",
       "      <td>56073</td>\n",
       "      <td>50957</td>\n",
       "      <td>33735</td>\n",
       "      <td>3598</td>\n",
       "      <td>1172</td>\n",
       "      <td>448</td>\n",
       "    </tr>\n",
       "    <tr>\n",
       "      <th>18</th>\n",
       "      <td>country</td>\n",
       "      <td>528931</td>\n",
       "      <td>98635</td>\n",
       "      <td>0</td>\n",
       "      <td>82827</td>\n",
       "      <td>67534</td>\n",
       "      <td>56073</td>\n",
       "      <td>50957</td>\n",
       "      <td>33735</td>\n",
       "      <td>3598</td>\n",
       "      <td>1172</td>\n",
       "      <td>448</td>\n",
       "    </tr>\n",
       "    <tr>\n",
       "      <th>19</th>\n",
       "      <td>device_type</td>\n",
       "      <td>528931</td>\n",
       "      <td>98635</td>\n",
       "      <td>0</td>\n",
       "      <td>82827</td>\n",
       "      <td>67534</td>\n",
       "      <td>56073</td>\n",
       "      <td>50957</td>\n",
       "      <td>33735</td>\n",
       "      <td>3598</td>\n",
       "      <td>1172</td>\n",
       "      <td>448</td>\n",
       "    </tr>\n",
       "    <tr>\n",
       "      <th>20</th>\n",
       "      <td>screen_resolution</td>\n",
       "      <td>528931</td>\n",
       "      <td>98635</td>\n",
       "      <td>0</td>\n",
       "      <td>82827</td>\n",
       "      <td>67534</td>\n",
       "      <td>56073</td>\n",
       "      <td>50957</td>\n",
       "      <td>33735</td>\n",
       "      <td>3598</td>\n",
       "      <td>1172</td>\n",
       "      <td>448</td>\n",
       "    </tr>\n",
       "    <tr>\n",
       "      <th>21</th>\n",
       "      <td>operating_system_version</td>\n",
       "      <td>528931</td>\n",
       "      <td>98635</td>\n",
       "      <td>0</td>\n",
       "      <td>82827</td>\n",
       "      <td>67534</td>\n",
       "      <td>56073</td>\n",
       "      <td>50957</td>\n",
       "      <td>33735</td>\n",
       "      <td>3598</td>\n",
       "      <td>1172</td>\n",
       "      <td>448</td>\n",
       "    </tr>\n",
       "    <tr>\n",
       "      <th>22</th>\n",
       "      <td>browser_version</td>\n",
       "      <td>528931</td>\n",
       "      <td>98635</td>\n",
       "      <td>0</td>\n",
       "      <td>82827</td>\n",
       "      <td>67534</td>\n",
       "      <td>56073</td>\n",
       "      <td>50957</td>\n",
       "      <td>33735</td>\n",
       "      <td>3598</td>\n",
       "      <td>1172</td>\n",
       "      <td>448</td>\n",
       "    </tr>\n",
       "    <tr>\n",
       "      <th>23</th>\n",
       "      <td>mes</td>\n",
       "      <td>0</td>\n",
       "      <td>0</td>\n",
       "      <td>0</td>\n",
       "      <td>0</td>\n",
       "      <td>0</td>\n",
       "      <td>0</td>\n",
       "      <td>0</td>\n",
       "      <td>0</td>\n",
       "      <td>0</td>\n",
       "      <td>0</td>\n",
       "      <td>0</td>\n",
       "    </tr>\n",
       "    <tr>\n",
       "      <th>24</th>\n",
       "      <td>nombreDelDia</td>\n",
       "      <td>0</td>\n",
       "      <td>0</td>\n",
       "      <td>0</td>\n",
       "      <td>0</td>\n",
       "      <td>0</td>\n",
       "      <td>0</td>\n",
       "      <td>0</td>\n",
       "      <td>0</td>\n",
       "      <td>0</td>\n",
       "      <td>0</td>\n",
       "      <td>0</td>\n",
       "    </tr>\n",
       "    <tr>\n",
       "      <th>25</th>\n",
       "      <td>hora</td>\n",
       "      <td>0</td>\n",
       "      <td>0</td>\n",
       "      <td>0</td>\n",
       "      <td>0</td>\n",
       "      <td>0</td>\n",
       "      <td>0</td>\n",
       "      <td>0</td>\n",
       "      <td>0</td>\n",
       "      <td>0</td>\n",
       "      <td>0</td>\n",
       "      <td>0</td>\n",
       "    </tr>\n",
       "  </tbody>\n",
       "</table>\n",
       "</div>"
      ],
      "text/plain": [
       "                       index  viewedProduct  brandListing  visitedSite  \\\n",
       "0                  timestamp              0             0            0   \n",
       "1                      event              0             0            0   \n",
       "2                     person              0             0            0   \n",
       "3                        url         528931         98635        87378   \n",
       "4                        sku              0         98635        87378   \n",
       "5                      model              0         98635        87378   \n",
       "6                  condition              0         98635        87378   \n",
       "7                    storage              0         98635        87378   \n",
       "8                      color              0         98635        87378   \n",
       "9                       skus         528931           311        87378   \n",
       "10               search_term         528931         98635        87378   \n",
       "11                staticpage         528931         98635        87378   \n",
       "12           campaign_source         528931         98635        87378   \n",
       "13             search_engine         528931         98635        87378   \n",
       "14                   channel         528931         98635            0   \n",
       "15          new_vs_returning         528931         98635            0   \n",
       "16                      city         528931         98635            0   \n",
       "17                    region         528931         98635            0   \n",
       "18                   country         528931         98635            0   \n",
       "19               device_type         528931         98635            0   \n",
       "20         screen_resolution         528931         98635            0   \n",
       "21  operating_system_version         528931         98635            0   \n",
       "22           browser_version         528931         98635            0   \n",
       "23                       mes              0             0            0   \n",
       "24              nombreDelDia              0             0            0   \n",
       "25                      hora              0             0            0   \n",
       "\n",
       "    adCampaignHit  genericListing  searchedProducts  searchEngineHit  \\\n",
       "0               0               0                 0                0   \n",
       "1               0               0                 0                0   \n",
       "2               0               0                 0                0   \n",
       "3              71           67534             56073            50957   \n",
       "4           82827           67534             56073            50957   \n",
       "5           82827           67534             56073            50957   \n",
       "6           82827           67534             56073            50957   \n",
       "7           82827           67534             56073            50957   \n",
       "8           82827           67534             56073            50957   \n",
       "9           82827             113               119            50957   \n",
       "10          82827           67534              7106            50957   \n",
       "11          82827           67534             56073            50957   \n",
       "12             31           67534             56073            50957   \n",
       "13          82827           67534             56073                0   \n",
       "14          82827           67534             56073            50957   \n",
       "15          82827           67534             56073            50957   \n",
       "16          82827           67534             56073            50957   \n",
       "17          82827           67534             56073            50957   \n",
       "18          82827           67534             56073            50957   \n",
       "19          82827           67534             56073            50957   \n",
       "20          82827           67534             56073            50957   \n",
       "21          82827           67534             56073            50957   \n",
       "22          82827           67534             56073            50957   \n",
       "23              0               0                 0                0   \n",
       "24              0               0                 0                0   \n",
       "25              0               0                 0                0   \n",
       "\n",
       "    checkout  staticpage  conversion  lead  \n",
       "0          0           0           0     0  \n",
       "1          0           0           0     0  \n",
       "2          0           0           0     0  \n",
       "3      33735        3598        1172   448  \n",
       "4          0        3598           0   448  \n",
       "5          2        3598           0     0  \n",
       "6          2        3598           0   448  \n",
       "7          2        3598           0   448  \n",
       "8          2        3598           0   448  \n",
       "9      33735        3598        1172   448  \n",
       "10     33735        3598        1172   448  \n",
       "11     33735           0        1172   448  \n",
       "12     33735        3598        1172   448  \n",
       "13     33735        3598        1172   448  \n",
       "14     33735        3598        1172   448  \n",
       "15     33735        3598        1172   448  \n",
       "16     33735        3598        1172   448  \n",
       "17     33735        3598        1172   448  \n",
       "18     33735        3598        1172   448  \n",
       "19     33735        3598        1172   448  \n",
       "20     33735        3598        1172   448  \n",
       "21     33735        3598        1172   448  \n",
       "22     33735        3598        1172   448  \n",
       "23         0           0           0     0  \n",
       "24         0           0           0     0  \n",
       "25         0           0           0     0  "
      ]
     },
     "execution_count": 8,
     "metadata": {},
     "output_type": "execute_result"
    }
   ],
   "source": [
    "viewedProduct = tf[tf['event'] == 'viewed product']\n",
    "viewedProductIsNull = viewedProduct.isnull().sum()\n",
    "brandListing    = tf[tf['event'] == 'brand listing']\n",
    "brandListingIsNull  = brandListing.isnull().sum()\n",
    "visitedSite =  tf[tf['event'] == 'visited site']\n",
    "visitedSiteIsNull = visitedSite.isnull().sum()\n",
    "adCampaignHit = tf[tf['event'] == 'ad campaign hit']\n",
    "adCampaignHitIsNull = adCampaignHit.isnull().sum()\n",
    "genericListing = tf[tf['event'] == 'generic listing']\n",
    "genericListingIsNull = genericListing.isnull().sum()\n",
    "searchedProducts = tf[tf['event'] == 'searched products']\n",
    "searchedProductsIsNull = searchedProducts.isnull().sum()\n",
    "searchEngineHit = tf[tf['event'] == 'search engine hit']\n",
    "searchEngineHitIsNull = searchEngineHit.isnull().sum()\n",
    "checkout = tf[tf['event'] == 'checkout']\n",
    "checkoutIsNull = checkout.isnull().sum()\n",
    "staticpage = tf[tf['event'] == 'staticpage']\n",
    "staticpageIsNull = staticpage.isnull().sum()\n",
    "conversion = tf[tf['event'] == 'conversion']\n",
    "conversionIsNull = conversion.isnull().sum()\n",
    "lead = tf[tf['event'] == 'lead']\n",
    "leadIsNull = lead.isnull().sum()\n",
    "pd.DataFrame(dict(viewedProduct = viewedProductIsNull , brandListing = brandListingIsNull, visitedSite = visitedSiteIsNull , adCampaignHit = adCampaignHitIsNull, genericListing = genericListingIsNull, searchedProducts = searchedProductsIsNull, searchEngineHit = searchEngineHitIsNull, checkout = checkoutIsNull, staticpage = staticpageIsNull, conversion = conversionIsNull, lead = leadIsNull)).reset_index()"
   ]
  },
  {
   "cell_type": "markdown",
   "metadata": {},
   "source": [
    "**Los campos obligatorios son: **\n",
    "\n",
    "\n",
    "(los eventos hora mes y nombre de dia son comunes a todos porque timestamp es comun a todos y todos los timestamp tiene información en el formato correcto)\n",
    "\n",
    "\n",
    "Para el evento **viewed product**: timestamp | person | sku | model | condition | storage | color.\n",
    "\n",
    "Para el evento **brand listing**: timestamp | person | skus -> **analizar los 311 skus null**\n",
    "\n",
    "Para el evento **visited site**: channel | new_vs_returning | city | region | country | device_tipe | screen resolution | operating system version | browser version\n",
    "\n",
    "Para el evento **ad campaing hit**: timestap | person | url | campaing_sourse -> **analizar que sucede con los 71 null que aparecen url , y los 31 que aparecen en campaing_source y eliminarlos si no sirve**\n",
    "\n",
    "Para el evento **generic listing**: timestamp | person | skus ->**analizar que sucede con los 113 null que aparecen en skus**\n",
    "\n",
    "Para el evento **serched product**: timestamp | person | skus | search_term -> **analizar que sucede con los 119 null que aparecen skus y 7106 null que aparecen en search_term**\n",
    "\n",
    "Para el evento **serched engine**: timestamp | person | search engine\n",
    "\n",
    "Para el evento **checked out**: timestamp | person | sku | color | storage | model | condition -> **analizar que sucede con los 2 null que aparecen en: color, storage, model, condition**\n",
    "\n",
    "Para el evento **static page**: timestamp | person | satatic page\n",
    "\n",
    "Para le evento **conversion**: timestamp | person | sku | model | color | condition | storage\n",
    "\n",
    "Para el evento **lead**: timestamp | person | model\n",
    "\n",
    "Esto lo deducimos porque si la cantidad de apariciones de cada evento es igual a la cantidad de nulls que tiene en una columna -> esa columna no representa nada para el evento. "
   ]
  },
  {
   "cell_type": "markdown",
   "metadata": {},
   "source": [
    "### Viewed Product"
   ]
  },
  {
   "cell_type": "markdown",
   "metadata": {},
   "source": [
    "**¿Cuál son las condiciones en las que se encuentraron los modelos que los usuarios visitan?**"
   ]
  },
  {
   "cell_type": "code",
   "execution_count": 9,
   "metadata": {},
   "outputs": [
    {
     "data": {
      "text/plain": [
       "<matplotlib.axes._subplots.AxesSubplot at 0x1a21a3a048>"
      ]
     },
     "execution_count": 9,
     "metadata": {},
     "output_type": "execute_result"
    },
    {
     "data": {
      "image/png": "[encoded data removed]",
      "text/plain": [
       "<Figure size 432x288 with 1 Axes>"
      ]
     },
     "metadata": {},
     "output_type": "display_data"
    }
   ],
   "source": [
    "productosCondicionesGraf = viewedProduct.condition.value_counts(normalize = True)\n",
    "#print(productosCondicionesGraf)\n",
    "productosCondicionesGraf.plot(kind = 'barh')"
   ]
  },
  {
   "cell_type": "markdown",
   "metadata": {},
   "source": [
    "**Conclusión de los productos que visitaron el usuario sobre la calidad de los productos:**\n",
    "\n",
    "    -el 0,02 porciento de los productos que visita el usuario son nuevos\n",
    "         \n",
    "    -el 2% de los productos que tienen identificador de huella digital \n",
    "    \n",
    "    -el 42% de los productos son de calidad buena\n",
    "    \n",
    "    -el 27% de los productos son de calidad excelente \n",
    "    \n",
    "    -el 27% de los productos son de calidad muy buena"
   ]
  },
  {
   "cell_type": "markdown",
   "metadata": {},
   "source": [
    "**¿Cuál es el almacenamiento de los modelos que los usuarios visitaron?**"
   ]
  },
  {
   "cell_type": "code",
   "execution_count": 10,
   "metadata": {},
   "outputs": [
    {
     "data": {
      "text/plain": [
       "<matplotlib.axes._subplots.AxesSubplot at 0x110a28978>"
      ]
     },
     "execution_count": 10,
     "metadata": {},
     "output_type": "execute_result"
    },
    {
     "data": {
      "image/png": "[encoded data removed]",
      "text/plain": [
       "<Figure size 432x288 with 1 Axes>"
      ]
     },
     "metadata": {},
     "output_type": "display_data"
    }
   ],
   "source": [
    "productosStorageGraf = viewedProduct.storage.value_counts(normalize = True)\n",
    "#print(productosStorageGraf)\n",
    "productosStorageGraf.plot(kind = 'bar')"
   ]
  },
  {
   "cell_type": "markdown",
   "metadata": {},
   "source": [
    "**Conclusión de los productos que visitó el usuario sobre el almacenamiento de los productos: ** \n",
    "    \n",
    "    - El 33% visita productos con almacenamiento de 16 GB\n",
    "    - El 32% visita productos con almacenamiento de 32 GB\n",
    "    - El 17% visita productos con almacenamiento de 64 GB\n",
    "    - EL 6% visita productos con almacenamiento de 8 GB\n",
    "    "
   ]
  },
  {
   "cell_type": "markdown",
   "metadata": {},
   "source": [
    "**¿Cuál es el color de los modelos que los usuarios visitaron?**"
   ]
  },
  {
   "cell_type": "code",
   "execution_count": 11,
   "metadata": {},
   "outputs": [
    {
     "data": {
      "text/plain": [
       "<matplotlib.axes._subplots.AxesSubplot at 0x110a1b320>"
      ]
     },
     "execution_count": 11,
     "metadata": {},
     "output_type": "execute_result"
    },
    {
     "data": {
      "image/png": "[encoded data removed]",
      "text/plain": [
       "<Figure size 432x288 with 1 Axes>"
      ]
     },
     "metadata": {},
     "output_type": "display_data"
    }
   ],
   "source": [
    "productosColorGraf = viewedProduct.color.value_counts(normalize = True).head(12)\n",
    "#print(productosColorGraf)\n",
    "productosColorGraf.plot(kind = 'bar')"
   ]
  },
  {
   "cell_type": "markdown",
   "metadata": {},
   "source": [
    "**Conclusión de los productos que visitó el usuario sobre el color de los productos:**\n",
    "    - el 23% de los productos son negro\n",
    "    - el 20% de los productos son dorados\n",
    "    - el 11% de los productos son gris espacial\n",
    "    - ... completar"
   ]
  },
  {
   "cell_type": "markdown",
   "metadata": {},
   "source": [
    "**¿En qué momento del día los usuarios visitaron los modelos?**"
   ]
  },
  {
   "cell_type": "code",
   "execution_count": 18,
   "metadata": {},
   "outputs": [
    {
     "data": {
      "text/plain": [
       "<matplotlib.axes._subplots.AxesSubplot at 0x1a24833a58>"
      ]
     },
     "execution_count": 18,
     "metadata": {},
     "output_type": "execute_result"
    },
    {
     "data": {
      "image/png": "[encoded data removed]",
      "text/plain": [
       "<Figure size 432x288 with 1 Axes>"
      ]
     },
     "metadata": {},
     "output_type": "display_data"
    }
   ],
   "source": [
    "productosTimeStampGraf = viewedProduct.hora.value_counts(normalize = True, sort = False)\n",
    "productosTimeStampGraf.plot(kind = 'bar')"
   ]
  },
  {
   "cell_type": "markdown",
   "metadata": {},
   "source": [
    "**Conclusión sobre a qué hora se visitan los modelos **\n",
    "\n",
    "Los modelos se visitan más frecuentemente entre las 14hs y las 2hs."
   ]
  },
  {
   "cell_type": "markdown",
   "metadata": {},
   "source": [
    "**¿Qué días se visitaron más productos?**"
   ]
  },
  {
   "cell_type": "code",
   "execution_count": 26,
   "metadata": {},
   "outputs": [
    {
     "name": "stdout",
     "output_type": "stream",
     "text": [
      "Tuesday      0.170930\n",
      "Wednesday    0.162689\n",
      "Thursday     0.161450\n",
      "Friday       0.147367\n",
      "Monday       0.146811\n",
      "Saturday     0.114028\n",
      "Sunday       0.096725\n",
      "Name: nombreDelDia, dtype: float64\n"
     ]
    },
    {
     "data": {
      "text/plain": [
       "<matplotlib.axes._subplots.AxesSubplot at 0x1a24cf4a20>"
      ]
     },
     "execution_count": 26,
     "metadata": {},
     "output_type": "execute_result"
    },
    {
     "data": {
      "image/png": "[encoded data removed]",
      "text/plain": [
       "<Figure size 432x288 with 1 Axes>"
      ]
     },
     "metadata": {},
     "output_type": "display_data"
    }
   ],
   "source": [
    "productosTimeStampGraf = viewedProduct.nombreDelDia.value_counts(normalize = True)\n",
    "print(productosTimeStampGraf)\n",
    "productosTimeStampGraf.plot(kind = 'bar')\n",
    "#PREGUNTAR COMO ORDENAR ESTO POR DÍA DE LA SEMANA"
   ]
  },
  {
   "cell_type": "markdown",
   "metadata": {},
   "source": [
    "**Conclusión sobre qué día visitaron más los productos:**\n",
    "\n",
    "    -El día que menos productos se visitan son los domingos, seguido por los sábados"
   ]
  },
  {
   "cell_type": "markdown",
   "metadata": {},
   "source": [
    "**¿En qué meses se visitaron más productos?**"
   ]
  },
  {
   "cell_type": "code",
   "execution_count": 24,
   "metadata": {},
   "outputs": [
    {
     "name": "stdout",
     "output_type": "stream",
     "text": [
      "1    0.016734\n",
      "2    0.026714\n",
      "3    0.074993\n",
      "4    0.124674\n",
      "5    0.478913\n",
      "6    0.277972\n",
      "Name: mes, dtype: float64\n"
     ]
    },
    {
     "data": {
      "text/plain": [
       "<matplotlib.axes._subplots.AxesSubplot at 0x1a24b72080>"
      ]
     },
     "execution_count": 24,
     "metadata": {},
     "output_type": "execute_result"
    },
    {
     "data": {
      "image/png": "[encoded data removed]",
      "text/plain": [
       "<Figure size 432x288 with 1 Axes>"
      ]
     },
     "metadata": {},
     "output_type": "display_data"
    }
   ],
   "source": [
    "productosTimeStampGraf = viewedProduct.mes.value_counts(normalize = True, sort = False)\n",
    "print(productosTimeStampGraf)\n",
    "productosTimeStampGraf.plot(kind = 'bar')\n",
    "#modificar el plot para ver el nombre del mes"
   ]
  },
  {
   "cell_type": "markdown",
   "metadata": {},
   "source": [
    "**Conclusión sobre el mes en el que más se visitaron productos:**\n",
    "\n",
    "  -el 47% de los productos se visitaron en Mayo\n",
    "  \n",
    "  -el 27% de los productos se visitaron en Junio (cayó respecto a Mayo)\n",
    "  \n",
    "  -el 13% de los productos se visitaron en Abril\n",
    "  \n",
    "  -el 7% de los productos se visitaron en marzo\n",
    "  \n",
    "  -el 2% de los productos se visitaron en Febrero\n",
    "  \n",
    "  -el 1% de los productos se visitaron en Enero\n"
   ]
  },
  {
   "cell_type": "markdown",
   "metadata": {},
   "source": [
    "### Brand Listing"
   ]
  },
  {
   "cell_type": "markdown",
   "metadata": {},
   "source": [
    "En brand listing había 311 skus nulls que, en mi opinión son observaciones invalidas porque brand lisiting es el evento que representa: El usuario visita un listado específico de una marca viendo un conjunto de productos.Y skus representa: Identificador de producto relacionado al evento."
   ]
  },
  {
   "cell_type": "markdown",
   "metadata": {},
   "source": [
    "**¿Cuáles fueron los skus más buscados?**\n",
    "\n",
    "Skus es una lista de sku. Cada sku representa un modelo. Cada skus representa una marca."
   ]
  },
  {
   "cell_type": "code",
   "execution_count": 81,
   "metadata": {},
   "outputs": [
    {
     "data": {
      "text/html": [
       "<div>\n",
       "<style scoped>\n",
       "    .dataframe tbody tr th:only-of-type {\n",
       "        vertical-align: middle;\n",
       "    }\n",
       "\n",
       "    .dataframe tbody tr th {\n",
       "        vertical-align: top;\n",
       "    }\n",
       "\n",
       "    .dataframe thead th {\n",
       "        text-align: right;\n",
       "    }\n",
       "</style>\n",
       "<table border=\"1\" class=\"dataframe\">\n",
       "  <thead>\n",
       "    <tr style=\"text-align: right;\">\n",
       "      <th></th>\n",
       "      <th>0</th>\n",
       "      <th>1</th>\n",
       "      <th>2</th>\n",
       "      <th>3</th>\n",
       "      <th>4</th>\n",
       "      <th>5</th>\n",
       "      <th>6</th>\n",
       "      <th>7</th>\n",
       "      <th>8</th>\n",
       "      <th>9</th>\n",
       "      <th>10</th>\n",
       "      <th>11</th>\n",
       "    </tr>\n",
       "  </thead>\n",
       "  <tbody>\n",
       "    <tr>\n",
       "      <th>12</th>\n",
       "      <td>5075</td>\n",
       "      <td>12536</td>\n",
       "      <td>12520</td>\n",
       "      <td>12661</td>\n",
       "      <td>12506</td>\n",
       "      <td>12549</td>\n",
       "      <td>10449</td>\n",
       "      <td>9175</td>\n",
       "      <td>9218</td>\n",
       "      <td>7825</td>\n",
       "      <td>2929</td>\n",
       "      <td>8567</td>\n",
       "    </tr>\n",
       "    <tr>\n",
       "      <th>14</th>\n",
       "      <td>5075</td>\n",
       "      <td>12536</td>\n",
       "      <td>12520</td>\n",
       "      <td>12661</td>\n",
       "      <td>12506</td>\n",
       "      <td>12549</td>\n",
       "      <td>10449</td>\n",
       "      <td>9175</td>\n",
       "      <td>9218</td>\n",
       "      <td>7825</td>\n",
       "      <td>2929</td>\n",
       "      <td>8567</td>\n",
       "    </tr>\n",
       "    <tr>\n",
       "      <th>20</th>\n",
       "      <td>8499</td>\n",
       "      <td>8485</td>\n",
       "      <td>8471</td>\n",
       "      <td>8443</td>\n",
       "      <td>None</td>\n",
       "      <td>None</td>\n",
       "      <td>None</td>\n",
       "      <td>None</td>\n",
       "      <td>None</td>\n",
       "      <td>None</td>\n",
       "      <td>None</td>\n",
       "      <td>None</td>\n",
       "    </tr>\n",
       "    <tr>\n",
       "      <th>24</th>\n",
       "      <td>2694</td>\n",
       "      <td>2711</td>\n",
       "      <td>6011</td>\n",
       "      <td>5904</td>\n",
       "      <td>6931</td>\n",
       "      <td>2830</td>\n",
       "      <td>6023</td>\n",
       "      <td>10294</td>\n",
       "      <td>3647</td>\n",
       "      <td>2710</td>\n",
       "      <td>9988</td>\n",
       "      <td>3635</td>\n",
       "    </tr>\n",
       "    <tr>\n",
       "      <th>25</th>\n",
       "      <td>6931</td>\n",
       "      <td>6888</td>\n",
       "      <td>6847</td>\n",
       "      <td>6957</td>\n",
       "      <td>6902</td>\n",
       "      <td>6832</td>\n",
       "      <td>6581</td>\n",
       "      <td>6875</td>\n",
       "      <td>8965</td>\n",
       "      <td>8980</td>\n",
       "      <td>8952</td>\n",
       "      <td>None</td>\n",
       "    </tr>\n",
       "  </tbody>\n",
       "</table>\n",
       "</div>"
      ],
      "text/plain": [
       "      0      1      2      3      4      5      6      7     8     9     10  \\\n",
       "12  5075  12536  12520  12661  12506  12549  10449   9175  9218  7825  2929   \n",
       "14  5075  12536  12520  12661  12506  12549  10449   9175  9218  7825  2929   \n",
       "20  8499   8485   8471   8443   None   None   None   None  None  None  None   \n",
       "24  2694   2711   6011   5904   6931   2830   6023  10294  3647  2710  9988   \n",
       "25  6931   6888   6847   6957   6902   6832   6581   6875  8965  8980  8952   \n",
       "\n",
       "      11  \n",
       "12  8567  \n",
       "14  8567  \n",
       "20  None  \n",
       "24  3635  \n",
       "25  None  "
      ]
     },
     "execution_count": 81,
     "metadata": {},
     "output_type": "execute_result"
    }
   ],
   "source": [
    "productos = tf.loc[:,['model','sku','storage','color','condition']]\n",
    "productos = productos.dropna() #este dataframe tiene todos los productos. Cada producto es \n",
    "#diferente segun modelo, storage, color y condición. Cada uno tiene un sku diferente.\n",
    "productos = productos.drop_duplicates()\n",
    "marcas = brandListing['skus'].str.split(\",\",expand = True)\n",
    "#marcas[0].value_counts() #hay 1400 marcas\n",
    "marcas.head()\n",
    "#NO SE CÓMO SE PUEDE HACER UN ANÁLISIS POR MARCA. SON MUCHAS \n",
    "#COMO PARA IDENTIFICARLAS POR PRODUCCTO MANUALMENTE"
   ]
  },
  {
   "cell_type": "markdown",
   "metadata": {},
   "source": [
    "### Visited site"
   ]
  },
  {
   "cell_type": "markdown",
   "metadata": {},
   "source": [
    "**channel:** Tipo de canal desde donde se originó el evento.\n",
    "\n",
    "**new_vs_returning:** Indicador de si el evento fue generado por un usuario nuevo (New) o por un usuario que previamente había visitado el sitio (Returning) según el motor de analytics.\n",
    "\n",
    "**city |region | country**\n",
    "\n",
    "**device_tipe:** Tipo de dispositivo desde donde se genero el evento.\n",
    "\n",
    "**screen resolution:** Resolución de pantalla que se está utilizando en el dispositivo\n",
    "desde donde se genero el evento.\n",
    "\n",
    "**operating system version:** Version de sistema operativo desde donde se origino el\n",
    "evento.\n",
    "\n",
    "**browser version:** Versión del browser utilizado en el evento"
   ]
  },
  {
   "cell_type": "code",
   "execution_count": 84,
   "metadata": {},
   "outputs": [
    {
     "data": {
      "text/plain": [
       "Paid        44193\n",
       "Direct      18522\n",
       "Organic     12348\n",
       "Referral    11384\n",
       "Social        846\n",
       "Email          76\n",
       "Unknown         9\n",
       "Name: channel, dtype: int64"
      ]
     },
     "execution_count": 84,
     "metadata": {},
     "output_type": "execute_result"
    }
   ],
   "source": [
    "visitedSite.channel.value_counts() #NO SÉ A QUÉ SE REFIERE CON CHANNEL"
   ]
  },
  {
   "cell_type": "markdown",
   "metadata": {},
   "source": [
    "**¿Cuánta gente es nueva? ¿Cuánta gente volvió?**"
   ]
  },
  {
   "cell_type": "code",
   "execution_count": 90,
   "metadata": {},
   "outputs": [
    {
     "data": {
      "text/plain": [
       "<matplotlib.axes._subplots.AxesSubplot at 0x1a58ffb6d8>"
      ]
     },
     "execution_count": 90,
     "metadata": {},
     "output_type": "execute_result"
    },
    {
     "data": {
      "image/png": "[encoded data removed]",
      "text/plain": [
       "<Figure size 432x288 with 1 Axes>"
      ]
     },
     "metadata": {},
     "output_type": "display_data"
    }
   ],
   "source": [
    "newVsRetruningGraf = visitedSite.new_vs_returning.value_counts(normalize = True)\n",
    "#print(newVsRetruningGraf)\n",
    "newVsRetruningGraf.plot(kind = \"bar\")"
   ]
  },
  {
   "cell_type": "markdown",
   "metadata": {},
   "source": [
    "**Conclusión**:\n",
    "    -El 69% de la gente volvió\n",
    "    -El 39% de la gente es nueva"
   ]
  },
  {
   "cell_type": "markdown",
   "metadata": {},
   "source": [
    "**¿Desde qué dispositivo acceden los usuarios?**"
   ]
  },
  {
   "cell_type": "code",
   "execution_count": 94,
   "metadata": {},
   "outputs": [
    {
     "data": {
      "text/plain": [
       "<matplotlib.axes._subplots.AxesSubplot at 0x1a3102b390>"
      ]
     },
     "execution_count": 94,
     "metadata": {},
     "output_type": "execute_result"
    },
    {
     "data": {
      "image/png": "[encoded data removed]",
      "text/plain": [
       "<Figure size 432x288 with 1 Axes>"
      ]
     },
     "metadata": {},
     "output_type": "display_data"
    }
   ],
   "source": [
    "deviceTypeGraf = visitedSite.device_type.value_counts(normalize = True)\n",
    "#print(deviceTypeGraf)\n",
    "deviceTypeGraf.plot(kind = \"bar\")"
   ]
  },
  {
   "cell_type": "markdown",
   "metadata": {},
   "source": [
    "**Conclusión:**\n",
    "\n",
    "    -El 50% accede desde su teléfono\n",
    "    -El 47% accede desde su computadora\n",
    "    -El 1% accedde desde su tablet"
   ]
  },
  {
   "cell_type": "markdown",
   "metadata": {},
   "source": [
    "**¿Desde qué sistema operativo acceden los usuarios?**"
   ]
  },
  {
   "cell_type": "code",
   "execution_count": 101,
   "metadata": {},
   "outputs": [
    {
     "ename": "IndexingError",
     "evalue": "Too many indexers",
     "output_type": "error",
     "traceback": [
      "\u001b[0;31m---------------------------------------------------------------------------\u001b[0m",
      "\u001b[0;31mIndexingError\u001b[0m                             Traceback (most recent call last)",
      "\u001b[0;32m<ipython-input-101-22823080fdc6>\u001b[0m in \u001b[0;36m<module>\u001b[0;34m()\u001b[0m\n\u001b[1;32m      1\u001b[0m \u001b[0moperatingSystemVersion\u001b[0m \u001b[0;34m=\u001b[0m \u001b[0mvisitedSite\u001b[0m\u001b[0;34m.\u001b[0m\u001b[0moperating_system_version\u001b[0m\u001b[0;34m\u001b[0m\u001b[0m\n\u001b[0;32m----> 2\u001b[0;31m \u001b[0moperatingSystemVersion\u001b[0m\u001b[0;34m.\u001b[0m\u001b[0mloc\u001b[0m\u001b[0;34m[\u001b[0m\u001b[0moperatingSystemVersion\u001b[0m\u001b[0;34m.\u001b[0m\u001b[0mstr\u001b[0m\u001b[0;34m.\u001b[0m\u001b[0mcontains\u001b[0m\u001b[0;34m(\u001b[0m\u001b[0;34m'Windows'\u001b[0m\u001b[0;34m)\u001b[0m\u001b[0;34m,\u001b[0m\u001b[0;34m:\u001b[0m\u001b[0;34m]\u001b[0m\u001b[0;34m\u001b[0m\u001b[0m\n\u001b[0m\u001b[1;32m      3\u001b[0m \u001b[0;31m#operatingSystemVersion.plot(kind = \"bar\")\u001b[0m\u001b[0;34m\u001b[0m\u001b[0;34m\u001b[0m\u001b[0m\n\u001b[1;32m      4\u001b[0m \u001b[0;31m#hay 121 sistemas operativos\u001b[0m\u001b[0;34m\u001b[0m\u001b[0;34m\u001b[0m\u001b[0m\n",
      "\u001b[0;32m/anaconda3/lib/python3.6/site-packages/pandas/core/indexing.py\u001b[0m in \u001b[0;36m__getitem__\u001b[0;34m(self, key)\u001b[0m\n\u001b[1;32m   1470\u001b[0m             \u001b[0;32mexcept\u001b[0m \u001b[0;34m(\u001b[0m\u001b[0mKeyError\u001b[0m\u001b[0;34m,\u001b[0m \u001b[0mIndexError\u001b[0m\u001b[0;34m)\u001b[0m\u001b[0;34m:\u001b[0m\u001b[0;34m\u001b[0m\u001b[0m\n\u001b[1;32m   1471\u001b[0m                 \u001b[0;32mpass\u001b[0m\u001b[0;34m\u001b[0m\u001b[0m\n\u001b[0;32m-> 1472\u001b[0;31m             \u001b[0;32mreturn\u001b[0m \u001b[0mself\u001b[0m\u001b[0;34m.\u001b[0m\u001b[0m_getitem_tuple\u001b[0m\u001b[0;34m(\u001b[0m\u001b[0mkey\u001b[0m\u001b[0;34m)\u001b[0m\u001b[0;34m\u001b[0m\u001b[0m\n\u001b[0m\u001b[1;32m   1473\u001b[0m         \u001b[0;32melse\u001b[0m\u001b[0;34m:\u001b[0m\u001b[0;34m\u001b[0m\u001b[0m\n\u001b[1;32m   1474\u001b[0m             \u001b[0;31m# we by definition only have the 0th axis\u001b[0m\u001b[0;34m\u001b[0m\u001b[0;34m\u001b[0m\u001b[0m\n",
      "\u001b[0;32m/anaconda3/lib/python3.6/site-packages/pandas/core/indexing.py\u001b[0m in \u001b[0;36m_getitem_tuple\u001b[0;34m(self, tup)\u001b[0m\n\u001b[1;32m    873\u001b[0m \u001b[0;34m\u001b[0m\u001b[0m\n\u001b[1;32m    874\u001b[0m         \u001b[0;31m# no multi-index, so validate all of the indexers\u001b[0m\u001b[0;34m\u001b[0m\u001b[0;34m\u001b[0m\u001b[0m\n\u001b[0;32m--> 875\u001b[0;31m         \u001b[0mself\u001b[0m\u001b[0;34m.\u001b[0m\u001b[0m_has_valid_tuple\u001b[0m\u001b[0;34m(\u001b[0m\u001b[0mtup\u001b[0m\u001b[0;34m)\u001b[0m\u001b[0;34m\u001b[0m\u001b[0m\n\u001b[0m\u001b[1;32m    876\u001b[0m \u001b[0;34m\u001b[0m\u001b[0m\n\u001b[1;32m    877\u001b[0m         \u001b[0;31m# ugly hack for GH #836\u001b[0m\u001b[0;34m\u001b[0m\u001b[0;34m\u001b[0m\u001b[0m\n",
      "\u001b[0;32m/anaconda3/lib/python3.6/site-packages/pandas/core/indexing.py\u001b[0m in \u001b[0;36m_has_valid_tuple\u001b[0;34m(self, key)\u001b[0m\n\u001b[1;32m    218\u001b[0m         \u001b[0;32mfor\u001b[0m \u001b[0mi\u001b[0m\u001b[0;34m,\u001b[0m \u001b[0mk\u001b[0m \u001b[0;32min\u001b[0m \u001b[0menumerate\u001b[0m\u001b[0;34m(\u001b[0m\u001b[0mkey\u001b[0m\u001b[0;34m)\u001b[0m\u001b[0;34m:\u001b[0m\u001b[0;34m\u001b[0m\u001b[0m\n\u001b[1;32m    219\u001b[0m             \u001b[0;32mif\u001b[0m \u001b[0mi\u001b[0m \u001b[0;34m>=\u001b[0m \u001b[0mself\u001b[0m\u001b[0;34m.\u001b[0m\u001b[0mobj\u001b[0m\u001b[0;34m.\u001b[0m\u001b[0mndim\u001b[0m\u001b[0;34m:\u001b[0m\u001b[0;34m\u001b[0m\u001b[0m\n\u001b[0;32m--> 220\u001b[0;31m                 \u001b[0;32mraise\u001b[0m \u001b[0mIndexingError\u001b[0m\u001b[0;34m(\u001b[0m\u001b[0;34m'Too many indexers'\u001b[0m\u001b[0;34m)\u001b[0m\u001b[0;34m\u001b[0m\u001b[0m\n\u001b[0m\u001b[1;32m    221\u001b[0m             \u001b[0;32mtry\u001b[0m\u001b[0;34m:\u001b[0m\u001b[0;34m\u001b[0m\u001b[0m\n\u001b[1;32m    222\u001b[0m                 \u001b[0mself\u001b[0m\u001b[0;34m.\u001b[0m\u001b[0m_validate_key\u001b[0m\u001b[0;34m(\u001b[0m\u001b[0mk\u001b[0m\u001b[0;34m,\u001b[0m \u001b[0mi\u001b[0m\u001b[0;34m)\u001b[0m\u001b[0;34m\u001b[0m\u001b[0m\n",
      "\u001b[0;31mIndexingError\u001b[0m: Too many indexers"
     ]
    }
   ],
   "source": [
    "operatingSystemVersion = visitedSite.operating_system_version\n",
    "#operatingSystemVersion.loc[operatingSystemVersion.str.contains('Windows'),:]\n",
    "##operatingSystemVersion.plot(kind = \"bar\")\n",
    "#hay 121 sistemas operativos"
   ]
  },
  {
   "cell_type": "code",
   "execution_count": null,
   "metadata": {},
   "outputs": [],
   "source": []
  }
 ],
 "metadata": {
  "kernelspec": {
   "display_name": "Python 3",
   "language": "python",
   "name": "python3"
  },
  "language_info": {
   "codemirror_mode": {
    "name": "ipython",
    "version": 3
   },
   "file_extension": ".py",
   "mimetype": "text/x-python",
   "name": "python",
   "nbconvert_exporter": "python",
   "pygments_lexer": "ipython3",
   "version": "3.6.5"
  }
 },
 "nbformat": 4,
 "nbformat_minor": 2
}
