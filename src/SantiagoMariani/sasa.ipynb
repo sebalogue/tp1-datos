{
 "cells": [
  {
   "cell_type": "code",
   "execution_count": 1,
   "metadata": {},
   "outputs": [],
   "source": [
    "# importacion general de librerias y de visualizacion (matplotlib y seaborn)\n",
    "import pandas as pd\n",
    "import numpy as np\n",
    "import matplotlib.pyplot as plt\n",
    "import seaborn as sns\n",
    "\n",
    "from pandas import datetime as dt\n",
    "\n",
    "%matplotlib inline\n",
    "\n",
    "\n",
    "plt.style.use('default') # haciendo los graficos un poco mas bonitos en matplotlib\n",
    "\n",
    "sns.set(style=\"whitegrid\") # seteando tipo de grid en seaborn\n",
    "\n",
    "pd.options.display.float_format = '{:20,.2f}'.format # suprimimos la notacion cientifica en los outputs\n",
    "\n",
    "# En este notbook se encuentra: \n",
    "\n",
    "    \n",
    "\n",
    "tf = pd.read_csv('../../data/events.csv',dtype=object)\n",
    "\n",
    "# Agregamos nuevas columnas para trabajar mejor con el tiempo. (mes, dia, dia del año)\n",
    "tf['timestamp_datetime'] = pd.to_datetime(tf['timestamp'])\n",
    "tf['timestamp_month'] = tf['timestamp_datetime'].dt.month\n",
    "tf['timestamp_day'] = tf['timestamp_datetime'].dt.day\n",
    "tf['timestamp_weekday'] = tf['timestamp_datetime'].dt.weekday_name\n",
    "tf['timestamp_dayofyear'] = tf['timestamp_datetime'].dt.dayofyear\n",
    "tf['timestamp_hour'] = tf['timestamp_datetime'].dt.hour\n",
    "tf['timestamp_minute'] = tf['timestamp_datetime'].dt.minute\n",
    "\n",
    "viewed_product = tf[tf['event'] == 'viewed product']\n",
    "brand_listing    = tf[tf['event'] == 'brand listing']\n",
    "visited_site =  tf[tf['event'] == 'visited site']\n",
    "ad_campaign_hit = tf[tf['event'] == 'ad campaign hit']\n",
    "generic_listing = tf[tf['event'] == 'generic listing']\n",
    "searched_products = tf[tf['event'] == 'searched products']\n",
    "search_engine_hit = tf[tf['event'] == 'search engine hit']\n",
    "checkout = tf[tf['event'] == 'checkout']\n",
    "staticpage = tf[tf['event'] == 'staticpage']\n",
    "conversion = tf[tf['event'] == 'conversion']\n",
    "lead = tf[tf['event'] == 'lead']"
   ]
  },
  {
   "cell_type": "code",
   "execution_count": 8,
   "metadata": {
    "scrolled": true
   },
   "outputs": [
    {
     "data": {
      "text/plain": [
       "Text(0.5,0,'Día del año')"
      ]
     },
     "execution_count": 8,
     "metadata": {},
     "output_type": "execute_result"
    },
    {
     "data": {
      "image/png": "[encoded data removed]",
      "text/plain": [
       "<Figure size 576x288 with 1 Axes>"
      ]
     },
     "metadata": {},
     "output_type": "display_data"
    }
   ],
   "source": [
    "# Visitas a productos segun dia del año\n",
    "visitas_segun_dia_año = visited_site.groupby('timestamp_dayofyear').count()['event'].plot(linewidth=2,figsize=(8,4))\n",
    "visitas_segun_dia_año.set_title(\"Visitas a la pagina segun dia del año\")\n",
    "visitas_segun_dia_año.set_ylabel('Cantidad de visitas')\n",
    "visitas_segun_dia_año.set_xlabel('Día del año')"
   ]
  },
  {
   "cell_type": "code",
   "execution_count": 12,
   "metadata": {
    "scrolled": true
   },
   "outputs": [
    {
     "data": {
      "text/html": [
       "<div>\n",
       "<style scoped>\n",
       "    .dataframe tbody tr th:only-of-type {\n",
       "        vertical-align: middle;\n",
       "    }\n",
       "\n",
       "    .dataframe tbody tr th {\n",
       "        vertical-align: top;\n",
       "    }\n",
       "\n",
       "    .dataframe thead th {\n",
       "        text-align: right;\n",
       "    }\n",
       "</style>\n",
       "<table border=\"1\" class=\"dataframe\">\n",
       "  <thead>\n",
       "    <tr style=\"text-align: right;\">\n",
       "      <th>timestamp_day</th>\n",
       "      <th>1</th>\n",
       "      <th>2</th>\n",
       "      <th>3</th>\n",
       "      <th>4</th>\n",
       "      <th>5</th>\n",
       "      <th>6</th>\n",
       "      <th>7</th>\n",
       "      <th>8</th>\n",
       "      <th>9</th>\n",
       "      <th>10</th>\n",
       "      <th>...</th>\n",
       "      <th>22</th>\n",
       "      <th>23</th>\n",
       "      <th>24</th>\n",
       "      <th>25</th>\n",
       "      <th>26</th>\n",
       "      <th>27</th>\n",
       "      <th>28</th>\n",
       "      <th>29</th>\n",
       "      <th>30</th>\n",
       "      <th>31</th>\n",
       "    </tr>\n",
       "    <tr>\n",
       "      <th>timestamp_month</th>\n",
       "      <th></th>\n",
       "      <th></th>\n",
       "      <th></th>\n",
       "      <th></th>\n",
       "      <th></th>\n",
       "      <th></th>\n",
       "      <th></th>\n",
       "      <th></th>\n",
       "      <th></th>\n",
       "      <th></th>\n",
       "      <th></th>\n",
       "      <th></th>\n",
       "      <th></th>\n",
       "      <th></th>\n",
       "      <th></th>\n",
       "      <th></th>\n",
       "      <th></th>\n",
       "      <th></th>\n",
       "      <th></th>\n",
       "      <th></th>\n",
       "      <th></th>\n",
       "    </tr>\n",
       "  </thead>\n",
       "  <tbody>\n",
       "    <tr>\n",
       "      <th>1</th>\n",
       "      <td>7.00</td>\n",
       "      <td>20.00</td>\n",
       "      <td>30.00</td>\n",
       "      <td>35.00</td>\n",
       "      <td>49.00</td>\n",
       "      <td>28.00</td>\n",
       "      <td>38.00</td>\n",
       "      <td>50.00</td>\n",
       "      <td>65.00</td>\n",
       "      <td>62.00</td>\n",
       "      <td>...</td>\n",
       "      <td>94.00</td>\n",
       "      <td>83.00</td>\n",
       "      <td>93.00</td>\n",
       "      <td>81.00</td>\n",
       "      <td>85.00</td>\n",
       "      <td>78.00</td>\n",
       "      <td>71.00</td>\n",
       "      <td>112.00</td>\n",
       "      <td>90.00</td>\n",
       "      <td>94.00</td>\n",
       "    </tr>\n",
       "    <tr>\n",
       "      <th>2</th>\n",
       "      <td>92.00</td>\n",
       "      <td>85.00</td>\n",
       "      <td>73.00</td>\n",
       "      <td>69.00</td>\n",
       "      <td>111.00</td>\n",
       "      <td>101.00</td>\n",
       "      <td>88.00</td>\n",
       "      <td>88.00</td>\n",
       "      <td>82.00</td>\n",
       "      <td>69.00</td>\n",
       "      <td>...</td>\n",
       "      <td>117.00</td>\n",
       "      <td>144.00</td>\n",
       "      <td>99.00</td>\n",
       "      <td>93.00</td>\n",
       "      <td>145.00</td>\n",
       "      <td>159.00</td>\n",
       "      <td>169.00</td>\n",
       "      <td>nan</td>\n",
       "      <td>nan</td>\n",
       "      <td>nan</td>\n",
       "    </tr>\n",
       "    <tr>\n",
       "      <th>3</th>\n",
       "      <td>151.00</td>\n",
       "      <td>143.00</td>\n",
       "      <td>147.00</td>\n",
       "      <td>140.00</td>\n",
       "      <td>202.00</td>\n",
       "      <td>237.00</td>\n",
       "      <td>173.00</td>\n",
       "      <td>195.00</td>\n",
       "      <td>185.00</td>\n",
       "      <td>191.00</td>\n",
       "      <td>...</td>\n",
       "      <td>305.00</td>\n",
       "      <td>272.00</td>\n",
       "      <td>234.00</td>\n",
       "      <td>225.00</td>\n",
       "      <td>321.00</td>\n",
       "      <td>363.00</td>\n",
       "      <td>306.00</td>\n",
       "      <td>324.00</td>\n",
       "      <td>263.00</td>\n",
       "      <td>225.00</td>\n",
       "    </tr>\n",
       "    <tr>\n",
       "      <th>4</th>\n",
       "      <td>234.00</td>\n",
       "      <td>380.00</td>\n",
       "      <td>410.00</td>\n",
       "      <td>382.00</td>\n",
       "      <td>411.00</td>\n",
       "      <td>401.00</td>\n",
       "      <td>318.00</td>\n",
       "      <td>282.00</td>\n",
       "      <td>384.00</td>\n",
       "      <td>410.00</td>\n",
       "      <td>...</td>\n",
       "      <td>324.00</td>\n",
       "      <td>488.00</td>\n",
       "      <td>495.00</td>\n",
       "      <td>504.00</td>\n",
       "      <td>570.00</td>\n",
       "      <td>559.00</td>\n",
       "      <td>442.00</td>\n",
       "      <td>402.00</td>\n",
       "      <td>550.00</td>\n",
       "      <td>nan</td>\n",
       "    </tr>\n",
       "    <tr>\n",
       "      <th>5</th>\n",
       "      <td>528.00</td>\n",
       "      <td>697.00</td>\n",
       "      <td>715.00</td>\n",
       "      <td>680.00</td>\n",
       "      <td>643.00</td>\n",
       "      <td>574.00</td>\n",
       "      <td>823.00</td>\n",
       "      <td>874.00</td>\n",
       "      <td>949.00</td>\n",
       "      <td>1,048.00</td>\n",
       "      <td>...</td>\n",
       "      <td>1,896.00</td>\n",
       "      <td>1,685.00</td>\n",
       "      <td>1,477.00</td>\n",
       "      <td>1,481.00</td>\n",
       "      <td>1,125.00</td>\n",
       "      <td>1,116.00</td>\n",
       "      <td>1,606.00</td>\n",
       "      <td>1,910.00</td>\n",
       "      <td>1,848.00</td>\n",
       "      <td>1,675.00</td>\n",
       "    </tr>\n",
       "    <tr>\n",
       "      <th>6</th>\n",
       "      <td>1,682.00</td>\n",
       "      <td>1,463.00</td>\n",
       "      <td>1,375.00</td>\n",
       "      <td>1,905.00</td>\n",
       "      <td>1,998.00</td>\n",
       "      <td>1,781.00</td>\n",
       "      <td>1,721.00</td>\n",
       "      <td>1,543.00</td>\n",
       "      <td>1,220.00</td>\n",
       "      <td>1,019.00</td>\n",
       "      <td>...</td>\n",
       "      <td>nan</td>\n",
       "      <td>nan</td>\n",
       "      <td>nan</td>\n",
       "      <td>nan</td>\n",
       "      <td>nan</td>\n",
       "      <td>nan</td>\n",
       "      <td>nan</td>\n",
       "      <td>nan</td>\n",
       "      <td>nan</td>\n",
       "      <td>nan</td>\n",
       "    </tr>\n",
       "  </tbody>\n",
       "</table>\n",
       "<p>6 rows × 31 columns</p>\n",
       "</div>"
      ],
      "text/plain": [
       "timestamp_day                     1                    2   \\\n",
       "timestamp_month                                             \n",
       "1                               7.00                20.00   \n",
       "2                              92.00                85.00   \n",
       "3                             151.00               143.00   \n",
       "4                             234.00               380.00   \n",
       "5                             528.00               697.00   \n",
       "6                           1,682.00             1,463.00   \n",
       "\n",
       "timestamp_day                     3                    4   \\\n",
       "timestamp_month                                             \n",
       "1                              30.00                35.00   \n",
       "2                              73.00                69.00   \n",
       "3                             147.00               140.00   \n",
       "4                             410.00               382.00   \n",
       "5                             715.00               680.00   \n",
       "6                           1,375.00             1,905.00   \n",
       "\n",
       "timestamp_day                     5                    6   \\\n",
       "timestamp_month                                             \n",
       "1                              49.00                28.00   \n",
       "2                             111.00               101.00   \n",
       "3                             202.00               237.00   \n",
       "4                             411.00               401.00   \n",
       "5                             643.00               574.00   \n",
       "6                           1,998.00             1,781.00   \n",
       "\n",
       "timestamp_day                     7                    8   \\\n",
       "timestamp_month                                             \n",
       "1                              38.00                50.00   \n",
       "2                              88.00                88.00   \n",
       "3                             173.00               195.00   \n",
       "4                             318.00               282.00   \n",
       "5                             823.00               874.00   \n",
       "6                           1,721.00             1,543.00   \n",
       "\n",
       "timestamp_day                     9                    10  \\\n",
       "timestamp_month                                             \n",
       "1                              65.00                62.00   \n",
       "2                              82.00                69.00   \n",
       "3                             185.00               191.00   \n",
       "4                             384.00               410.00   \n",
       "5                             949.00             1,048.00   \n",
       "6                           1,220.00             1,019.00   \n",
       "\n",
       "timestamp_day           ...                            22  \\\n",
       "timestamp_month         ...                                 \n",
       "1                       ...                         94.00   \n",
       "2                       ...                        117.00   \n",
       "3                       ...                        305.00   \n",
       "4                       ...                        324.00   \n",
       "5                       ...                      1,896.00   \n",
       "6                       ...                           nan   \n",
       "\n",
       "timestamp_day                     23                   24  \\\n",
       "timestamp_month                                             \n",
       "1                              83.00                93.00   \n",
       "2                             144.00                99.00   \n",
       "3                             272.00               234.00   \n",
       "4                             488.00               495.00   \n",
       "5                           1,685.00             1,477.00   \n",
       "6                                nan                  nan   \n",
       "\n",
       "timestamp_day                     25                   26  \\\n",
       "timestamp_month                                             \n",
       "1                              81.00                85.00   \n",
       "2                              93.00               145.00   \n",
       "3                             225.00               321.00   \n",
       "4                             504.00               570.00   \n",
       "5                           1,481.00             1,125.00   \n",
       "6                                nan                  nan   \n",
       "\n",
       "timestamp_day                     27                   28  \\\n",
       "timestamp_month                                             \n",
       "1                              78.00                71.00   \n",
       "2                             159.00               169.00   \n",
       "3                             363.00               306.00   \n",
       "4                             559.00               442.00   \n",
       "5                           1,116.00             1,606.00   \n",
       "6                                nan                  nan   \n",
       "\n",
       "timestamp_day                     29                   30                   31  \n",
       "timestamp_month                                                                 \n",
       "1                             112.00                90.00                94.00  \n",
       "2                                nan                  nan                  nan  \n",
       "3                             324.00               263.00               225.00  \n",
       "4                             402.00               550.00                  nan  \n",
       "5                           1,910.00             1,848.00             1,675.00  \n",
       "6                                nan                  nan                  nan  \n",
       "\n",
       "[6 rows x 31 columns]"
      ]
     },
     "execution_count": 12,
     "metadata": {},
     "output_type": "execute_result"
    }
   ],
   "source": [
    "visitas_prod_mes_dia = visited_site.groupby(['timestamp_month','timestamp_day']).agg({'event':'count'})\\\n",
    "                .pivot_table(index = 'timestamp_month',columns = 'timestamp_day',values = 'event')\n",
    "visitas_prod_mes_dia"
   ]
  },
  {
   "cell_type": "code",
   "execution_count": 13,
   "metadata": {
    "scrolled": true
   },
   "outputs": [
    {
     "data": {
      "text/plain": [
       "Text(33,0.5,'Mes de la visita')"
      ]
     },
     "execution_count": 13,
     "metadata": {},
     "output_type": "execute_result"
    },
    {
     "data": {
      "image/png": "[encoded data removed]",
      "text/plain": [
       "<Figure size 432x288 with 2 Axes>"
      ]
     },
     "metadata": {},
     "output_type": "display_data"
    }
   ],
   "source": [
    "visitas_prod_mes_dia = sns.heatmap(visitas_prod_mes_dia,  cmap=\"YlGnBu\")\n",
    "visitas_prod_mes_dia.set_title(\"Visitas a un producto según mes y día del mes\", fontsize=22)\n",
    "visitas_prod_mes_dia.set_xlabel(\"Día del mes de la visita\",fontsize=18)\n",
    "visitas_prod_mes_dia.set_ylabel(\"Mes de la visita\", fontsize=18)"
   ]
  },
  {
   "cell_type": "code",
   "execution_count": null,
   "metadata": {},
   "outputs": [],
   "source": [
    "# Vemos las visitas a un producto segun dia de la semana y mes.\n",
    "visitas_prod_mes_dia_semana = viewed_product.groupby(['timestamp_month','timestamp_weekday']).agg({'event':'count'})\\\n",
    "                .pivot_table(index = 'timestamp_weekday',columns = 'timestamp_month',values = 'event')\n",
    "visitas_prod_mes_dia_semana"
   ]
  },
  {
   "cell_type": "code",
   "execution_count": null,
   "metadata": {},
   "outputs": [],
   "source": [
    "visitas_prod_mes_dia_semana = sns.heatmap(visitas_prod_mes_dia_semana,  cmap=\"YlGnBu\")\n",
    "visitas_prod_mes_dia_semana.set_title(\"Visitas a un producto según mes y día de la semana\", fontsize=22)\n",
    "visitas_prod_mes_dia_semana.set_xlabel(\"Mes de la visita\",fontsize=18)\n",
    "visitas_prod_mes_dia_semana.set_ylabel(\"Día de la visita\", fontsize=18)"
   ]
  },
  {
   "cell_type": "code",
   "execution_count": 16,
   "metadata": {
    "scrolled": true
   },
   "outputs": [
    {
     "data": {
      "text/plain": [
       "Text(0.5,1,'CONVERSION')"
      ]
     },
     "execution_count": 16,
     "metadata": {},
     "output_type": "execute_result"
    },
    {
     "data": {
      "image/png": "[encoded data removed]",
      "text/plain": [
       "<Figure size 432x288 with 1 Axes>"
      ]
     },
     "metadata": {},
     "output_type": "display_data"
    }
   ],
   "source": [
    "conversion_color = conversion.color.value_counts().head(15).plot(kind = 'barh').set_title('CONVERSION')\n",
    "conversion_color"
   ]
  },
  {
   "cell_type": "code",
   "execution_count": 19,
   "metadata": {},
   "outputs": [
    {
     "data": {
      "text/plain": [
       "Preto              368\n",
       "Dourado            269\n",
       "Branco             216\n",
       "Cinza espacial      89\n",
       "Prateado            51\n",
       "Ouro Rosa           32\n",
       "Rosa                30\n",
       "Cinza               23\n",
       "Azul                22\n",
       "Preto Vermelho      11\n",
       "Prata                8\n",
       "Platinum             7\n",
       "Branco Vermelho      6\n",
       "Preto Matte          6\n",
       "Verde                5\n",
       "Ametista             4\n",
       "Titânio              4\n",
       "Ouro                 4\n",
       "Preto Brilhante      3\n",
       "Indigo               3\n",
       "Cabernet             2\n",
       "Bambu                2\n",
       "Vermelho             2\n",
       "Amarelo              2\n",
       "Azul Topázio         1\n",
       "Preto Azul           1\n",
       "Couro Vintage        1\n",
       "Name: color, dtype: int64"
      ]
     },
     "execution_count": 19,
     "metadata": {},
     "output_type": "execute_result"
    }
   ],
   "source": [
    "conversion.color.value_counts()"
   ]
  },
  {
   "cell_type": "code",
   "execution_count": 18,
   "metadata": {},
   "outputs": [
    {
     "data": {
      "text/plain": [
       "Preto                             0.31\n",
       "Dourado                           0.23\n",
       "Branco                            0.18\n",
       "Cinza espacial                    0.08\n",
       "Prateado                          0.04\n",
       "Ouro Rosa                         0.03\n",
       "Rosa                              0.03\n",
       "Cinza                             0.02\n",
       "Azul                              0.02\n",
       "Preto Vermelho                    0.01\n",
       "Prata                             0.01\n",
       "Platinum                          0.01\n",
       "Branco Vermelho                   0.01\n",
       "Preto Matte                       0.01\n",
       "Verde                             0.00\n",
       "Ametista                          0.00\n",
       "Titânio                           0.00\n",
       "Ouro                              0.00\n",
       "Preto Brilhante                   0.00\n",
       "Indigo                            0.00\n",
       "Cabernet                          0.00\n",
       "Bambu                             0.00\n",
       "Vermelho                          0.00\n",
       "Amarelo                           0.00\n",
       "Azul Topázio                      0.00\n",
       "Preto Azul                        0.00\n",
       "Couro Vintage                     0.00\n",
       "Name: color, dtype: float64"
      ]
     },
     "execution_count": 18,
     "metadata": {},
     "output_type": "execute_result"
    }
   ],
   "source": [
    "conversion.color.value_counts(normalize = True)"
   ]
  }
 ],
 "metadata": {
  "kernelspec": {
   "display_name": "Python 3",
   "language": "python",
   "name": "python3"
  },
  "language_info": {
   "codemirror_mode": {
    "name": "ipython",
    "version": 3
   },
   "file_extension": ".py",
   "mimetype": "text/x-python",
   "name": "python",
   "nbconvert_exporter": "python",
   "pygments_lexer": "ipython3",
   "version": "3.6.5"
  }
 },
 "nbformat": 4,
 "nbformat_minor": 2
}
