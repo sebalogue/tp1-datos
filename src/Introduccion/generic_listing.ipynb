{
 "cells": [
  {
   "cell_type": "code",
   "execution_count": 4,
   "metadata": {},
   "outputs": [],
   "source": [
    "import pandas as pd\n",
    "import matplotlib.pyplot as plt\n",
    "import numpy as np\n",
    "import seaborn as sns\n",
    "\n",
    "data = pd.read_csv('../../data/events.csv', low_memory=False)\n",
    "\n",
    "data['fecha'] = pd.to_datetime(data['timestamp'], errors='coerce')\n",
    "data['mes'] = data['fecha'].dt.month\n",
    "data['dayofyear'] = data['fecha'].dt.dayofyear\n",
    "\n",
    "sns.set(style=\"white\", context=\"talk\")"
   ]
  },
  {
   "cell_type": "markdown",
   "metadata": {},
   "source": [
    "### Quiero analizar el formato de los SKU porque me está volviendo loco"
   ]
  },
  {
   "cell_type": "code",
   "execution_count": 5,
   "metadata": {},
   "outputs": [],
   "source": [
    "data['sku_real'] = data.sku.apply(lambda x: str(x))\n",
    "data['caso'] = data.sku_real.apply(lambda x: len(x.split('.')))\n",
    "data['sku_category'] = data.sku_real.apply(lambda x: x.split('.')[0])"
   ]
  },
  {
   "cell_type": "code",
   "execution_count": 6,
   "metadata": {},
   "outputs": [
    {
     "data": {
      "text/plain": [
       "1    809052\n",
       "Name: caso, dtype: int64"
      ]
     },
     "execution_count": 6,
     "metadata": {},
     "output_type": "execute_result"
    }
   ],
   "source": [
    "generic_listing = data[data['event'] == 'generic listing']\n",
    "columna_pivote = 'person' # Elijo la columna por la cual voy a agrupar\n",
    "lista = generic_listing['skus'].str.split(',', expand = True) # Rompo la lista de Skus y genero una lista para cada sku\n",
    "lista[columna_pivote] = generic_listing[columna_pivote] # Guardo este resultado en el dataframe original\n",
    "\n",
    "lista = lista.set_index(columna_pivote).stack().to_frame() # Convierno cada elemento de la lista de Skus en una unica fila\n",
    "lista = lista.reset_index() \n",
    "lista.columns = [columna_pivote, 't', 'sku'] # Renombro las columnas\n",
    "lista['caso'] = lista.sku.apply(lambda x: len(x.split('.')))\n",
    "lista.caso.value_counts()\n"
   ]
  },
  {
   "cell_type": "markdown",
   "metadata": {},
   "source": [
    "Los elementos del campo 'SKUS' vienen SIN el punto divisor, por lo que tendré que trabajar los skus individuales quitándole el punto."
   ]
  },
  {
   "cell_type": "markdown",
   "metadata": {},
   "source": [
    "### Diccionario de SKU => NOMBRE DE PRODUCTO"
   ]
  },
  {
   "cell_type": "code",
   "execution_count": 7,
   "metadata": {},
   "outputs": [],
   "source": [
    "lista_productos = data[['sku_category', 'model']]\n",
    "lista_productos = lista_productos.drop_duplicates('sku_category')\n",
    "dict = lista_productos.set_index('sku_category').to_dict()"
   ]
  },
  {
   "cell_type": "markdown",
   "metadata": {},
   "source": [
    "### Ya con todas estas consideraciones, intento encontrar una correlación entre los elementos visitados en la página principal y las conversiones POR USUARIO"
   ]
  },
  {
   "cell_type": "code",
   "execution_count": 9,
   "metadata": {},
   "outputs": [
    {
     "data": {
      "text/html": [
       "<div>\n",
       "<style scoped>\n",
       "    .dataframe tbody tr th:only-of-type {\n",
       "        vertical-align: middle;\n",
       "    }\n",
       "\n",
       "    .dataframe tbody tr th {\n",
       "        vertical-align: top;\n",
       "    }\n",
       "\n",
       "    .dataframe thead th {\n",
       "        text-align: right;\n",
       "    }\n",
       "</style>\n",
       "<table border=\"1\" class=\"dataframe\">\n",
       "  <thead>\n",
       "    <tr style=\"text-align: right;\">\n",
       "      <th></th>\n",
       "      <th>vistas</th>\n",
       "    </tr>\n",
       "    <tr>\n",
       "      <th>sku_category</th>\n",
       "      <th></th>\n",
       "    </tr>\n",
       "  </thead>\n",
       "  <tbody>\n",
       "    <tr>\n",
       "      <th>10001</th>\n",
       "      <td>113</td>\n",
       "    </tr>\n",
       "    <tr>\n",
       "      <th>10002</th>\n",
       "      <td>52</td>\n",
       "    </tr>\n",
       "    <tr>\n",
       "      <th>10014</th>\n",
       "      <td>117</td>\n",
       "    </tr>\n",
       "    <tr>\n",
       "      <th>10015</th>\n",
       "      <td>223</td>\n",
       "    </tr>\n",
       "    <tr>\n",
       "      <th>10016</th>\n",
       "      <td>337</td>\n",
       "    </tr>\n",
       "  </tbody>\n",
       "</table>\n",
       "</div>"
      ],
      "text/plain": [
       "              vistas\n",
       "sku_category        \n",
       "10001            113\n",
       "10002             52\n",
       "10014            117\n",
       "10015            223\n",
       "10016            337"
      ]
     },
     "execution_count": 9,
     "metadata": {},
     "output_type": "execute_result"
    }
   ],
   "source": [
    "generic_listing = data[data['event'] == 'generic listing']\n",
    "columna_pivote = 'person' # Elijo la columna por la cual voy a agrupar\n",
    "lista = generic_listing['skus'].str.split(',', expand = True) # Rompo la lista de Skus y genero una lista para cada sku\n",
    "lista[columna_pivote] = generic_listing[columna_pivote] # Guardo este resultado en el dataframe original\n",
    "\n",
    "lista = lista.set_index(columna_pivote).stack().to_frame() # Convierno cada elemento de la lista de Skus en una unica fila\n",
    "lista = lista.reset_index() \n",
    "lista.columns = [columna_pivote, 't', 'sku_category'] # Renombro las columnas\n",
    "lista = lista.dropna(subset = ['sku_category']) #Elimino los skus que son nulos\n",
    "lista = lista.groupby(['sku_category']).size().to_frame('vistas')\n",
    "\n",
    "lista.head()"
   ]
  },
  {
   "cell_type": "code",
   "execution_count": 11,
   "metadata": {},
   "outputs": [],
   "source": [
    "checkout = data[data['event'] == 'checkout']\n",
    "checkout = checkout.groupby(['sku_category']).size().to_frame('cantidad')\n",
    "\n",
    "conversiones = data[data['event'] == 'conversion']\n",
    "conversiones = conversiones.groupby(['sku_category']).size().to_frame('cantidad')\n"
   ]
  },
  {
   "cell_type": "code",
   "execution_count": 274,
   "metadata": {},
   "outputs": [
    {
     "data": {
      "text/plain": [
       "<matplotlib.axes._subplots.AxesSubplot at 0x27bbeb469b0>"
      ]
     },
     "execution_count": 274,
     "metadata": {},
     "output_type": "execute_result"
    },
    {
     "data": {
      "text/plain": [
       "<Figure size 1440x720 with 0 Axes>"
      ]
     },
     "metadata": {},
     "output_type": "display_data"
    },
    {
     "data": {
      "image/png": "[encoded data removed]",
      "text/plain": [
       "<Figure size 936x720 with 1 Axes>"
      ]
     },
     "metadata": {},
     "output_type": "display_data"
    }
   ],
   "source": [
    "lista['log_vistas'] = np.log10(lista['vistas'])\n",
    "plt.figure(figsize = (20, 10))\n",
    "lista['conversiones'] = conversiones['cantidad']\n",
    "lista['checkout'] = checkout['cantidad']\n",
    "lista['conversiones'] = lista.conversiones.apply(lambda x: 0 if np.isnan(x) else x)\n",
    "lista['checkout'] = lista.checkout.apply(lambda x: 0 if np.isnan(x) else x)\n",
    "\n",
    "\n",
    "lista.plot.scatter(y = 'conversiones', x = 'log_vistas', figsize = (13, 10))"
   ]
  },
  {
   "cell_type": "code",
   "execution_count": 275,
   "metadata": {},
   "outputs": [
    {
     "data": {
      "text/plain": [
       "<matplotlib.axes._subplots.AxesSubplot at 0x27ba63cf748>"
      ]
     },
     "execution_count": 275,
     "metadata": {},
     "output_type": "execute_result"
    },
    {
     "data": {
      "image/png": "[encoded data removed]",
      "text/plain": [
       "<Figure size 936x720 with 1 Axes>"
      ]
     },
     "metadata": {},
     "output_type": "display_data"
    }
   ],
   "source": [
    "lista.plot.scatter(y = 'checkout', x = 'log_vistas', figsize = (13, 10))"
   ]
  },
  {
   "cell_type": "markdown",
   "metadata": {},
   "source": [
    "### No parece haber ninguna correlación entre la cantidade de visitas a los productos en la página principal y su checkout/conversion"
   ]
  },
  {
   "cell_type": "markdown",
   "metadata": {},
   "source": [
    "# Quiero ver si hay una relación entre los productos más convertidos y los más buscados"
   ]
  },
  {
   "cell_type": "code",
   "execution_count": 276,
   "metadata": {},
   "outputs": [
    {
     "data": {
      "text/html": [
       "<div>\n",
       "<style scoped>\n",
       "    .dataframe tbody tr th:only-of-type {\n",
       "        vertical-align: middle;\n",
       "    }\n",
       "\n",
       "    .dataframe tbody tr th {\n",
       "        vertical-align: top;\n",
       "    }\n",
       "\n",
       "    .dataframe thead th {\n",
       "        text-align: right;\n",
       "    }\n",
       "</style>\n",
       "<table border=\"1\" class=\"dataframe\">\n",
       "  <thead>\n",
       "    <tr style=\"text-align: right;\">\n",
       "      <th></th>\n",
       "      <th>vistas</th>\n",
       "    </tr>\n",
       "    <tr>\n",
       "      <th>sku_category</th>\n",
       "      <th></th>\n",
       "    </tr>\n",
       "  </thead>\n",
       "  <tbody>\n",
       "    <tr>\n",
       "      <th>10001</th>\n",
       "      <td>36</td>\n",
       "    </tr>\n",
       "    <tr>\n",
       "      <th>10002</th>\n",
       "      <td>338</td>\n",
       "    </tr>\n",
       "    <tr>\n",
       "      <th>10014</th>\n",
       "      <td>108</td>\n",
       "    </tr>\n",
       "    <tr>\n",
       "      <th>10015</th>\n",
       "      <td>189</td>\n",
       "    </tr>\n",
       "    <tr>\n",
       "      <th>10016</th>\n",
       "      <td>628</td>\n",
       "    </tr>\n",
       "  </tbody>\n",
       "</table>\n",
       "</div>"
      ],
      "text/plain": [
       "              vistas\n",
       "sku_category        \n",
       "10001             36\n",
       "10002            338\n",
       "10014            108\n",
       "10015            189\n",
       "10016            628"
      ]
     },
     "execution_count": 276,
     "metadata": {},
     "output_type": "execute_result"
    }
   ],
   "source": [
    "searched_products = data[data['event'] == 'searched products']\n",
    "columna_pivote = 'person' # Elijo la columna por la cual voy a agrupar\n",
    "lista = searched_products ['skus'].str.split(',', expand = True) # Rompo la lista de Skus y genero una lista para cada sku\n",
    "lista[columna_pivote] = searched_products [columna_pivote] # Guardo este resultado en el dataframe original\n",
    "\n",
    "lista = lista.set_index(columna_pivote).stack().to_frame() # Convierno cada elemento de la lista de Skus en una unica fila\n",
    "lista = lista.reset_index() \n",
    "lista.columns = [columna_pivote, 't', 'sku_category'] # Renombro las columnas\n",
    "lista = lista.dropna(subset = ['sku_category']) #Elimino los skus que son nulos\n",
    "lista = lista.groupby(['sku_category']).size().to_frame('vistas')\n",
    "\n",
    "lista.head()"
   ]
  },
  {
   "cell_type": "code",
   "execution_count": 17,
   "metadata": {},
   "outputs": [
    {
     "data": {
      "text/plain": [
       "Text(0,0.5,'Conversiones')"
      ]
     },
     "execution_count": 17,
     "metadata": {},
     "output_type": "execute_result"
    },
    {
     "data": {
      "text/plain": [
       "<Figure size 1440x720 with 0 Axes>"
      ]
     },
     "metadata": {},
     "output_type": "display_data"
    },
    {
     "data": {
      "image/png": "[encoded data removed]",
      "text/plain": [
       "<Figure size 936x720 with 1 Axes>"
      ]
     },
     "metadata": {},
     "output_type": "display_data"
    }
   ],
   "source": [
    "lista['log_vistas'] = np.log10(lista['vistas'])\n",
    "lista['conversiones'] = conversiones['cantidad']\n",
    "lista['checkout'] = checkout['cantidad']\n",
    "lista['conversiones'] = lista.conversiones.apply(lambda x: 0 if np.isnan(x) else x)\n",
    "lista['checkout'] = lista.checkout.apply(lambda x: 0 if np.isnan(x) else x)\n",
    "\n",
    "plt.figure(figsize = (20, 10))\n",
    "# graf = sns.regplot(data = lista, y = 'conversiones', x = 'log_vistas')\n",
    "graf = lista.plot.scatter(y = 'conversiones', x = 'log_vistas', figsize = (13, 10))\n",
    "graf.set_xlabel(\"Cantidad de búsquedas (log)\")\n",
    "graf.set_ylabel(\"Conversiones\")"
   ]
  },
  {
   "cell_type": "code",
   "execution_count": 278,
   "metadata": {},
   "outputs": [
    {
     "data": {
      "text/plain": [
       "Text(0,0.5,'Checkout')"
      ]
     },
     "execution_count": 278,
     "metadata": {},
     "output_type": "execute_result"
    },
    {
     "data": {
      "image/png": "[encoded data removed]",
      "text/plain": [
       "<Figure size 936x720 with 1 Axes>"
      ]
     },
     "metadata": {},
     "output_type": "display_data"
    }
   ],
   "source": [
    "graf = lista.plot.scatter(y = 'checkout', x = 'log_vistas', figsize = (13, 10))\n",
    "graf.set_xlabel(\"Cantidad de búsquedas (log)\")\n",
    "graf.set_ylabel(\"Checkout\")"
   ]
  },
  {
   "cell_type": "markdown",
   "metadata": {},
   "source": [
    "### ¿Podriamos afirmar que la cantidad de converisones y checkout crece proporcionalmente a la cantidad de busquedas?"
   ]
  },
  {
   "cell_type": "markdown",
   "metadata": {},
   "source": [
    "# BRAND LISTING"
   ]
  },
  {
   "cell_type": "code",
   "execution_count": 279,
   "metadata": {},
   "outputs": [
    {
     "data": {
      "text/html": [
       "<div>\n",
       "<style scoped>\n",
       "    .dataframe tbody tr th:only-of-type {\n",
       "        vertical-align: middle;\n",
       "    }\n",
       "\n",
       "    .dataframe tbody tr th {\n",
       "        vertical-align: top;\n",
       "    }\n",
       "\n",
       "    .dataframe thead th {\n",
       "        text-align: right;\n",
       "    }\n",
       "</style>\n",
       "<table border=\"1\" class=\"dataframe\">\n",
       "  <thead>\n",
       "    <tr style=\"text-align: right;\">\n",
       "      <th></th>\n",
       "      <th>vistas</th>\n",
       "    </tr>\n",
       "    <tr>\n",
       "      <th>sku_category</th>\n",
       "      <th></th>\n",
       "    </tr>\n",
       "  </thead>\n",
       "  <tbody>\n",
       "    <tr>\n",
       "      <th>10001</th>\n",
       "      <td>27</td>\n",
       "    </tr>\n",
       "    <tr>\n",
       "      <th>10002</th>\n",
       "      <td>116</td>\n",
       "    </tr>\n",
       "    <tr>\n",
       "      <th>10014</th>\n",
       "      <td>187</td>\n",
       "    </tr>\n",
       "    <tr>\n",
       "      <th>10015</th>\n",
       "      <td>65</td>\n",
       "    </tr>\n",
       "    <tr>\n",
       "      <th>10016</th>\n",
       "      <td>535</td>\n",
       "    </tr>\n",
       "    <tr>\n",
       "      <th>10028</th>\n",
       "      <td>1262</td>\n",
       "    </tr>\n",
       "    <tr>\n",
       "      <th>10029</th>\n",
       "      <td>265</td>\n",
       "    </tr>\n",
       "    <tr>\n",
       "      <th>10030</th>\n",
       "      <td>361</td>\n",
       "    </tr>\n",
       "    <tr>\n",
       "      <th>10044</th>\n",
       "      <td>194</td>\n",
       "    </tr>\n",
       "    <tr>\n",
       "      <th>10084</th>\n",
       "      <td>1166</td>\n",
       "    </tr>\n",
       "    <tr>\n",
       "      <th>10085</th>\n",
       "      <td>1982</td>\n",
       "    </tr>\n",
       "    <tr>\n",
       "      <th>10086</th>\n",
       "      <td>516</td>\n",
       "    </tr>\n",
       "    <tr>\n",
       "      <th>10098</th>\n",
       "      <td>1</td>\n",
       "    </tr>\n",
       "    <tr>\n",
       "      <th>10099</th>\n",
       "      <td>59</td>\n",
       "    </tr>\n",
       "    <tr>\n",
       "      <th>101</th>\n",
       "      <td>717</td>\n",
       "    </tr>\n",
       "    <tr>\n",
       "      <th>10100</th>\n",
       "      <td>576</td>\n",
       "    </tr>\n",
       "    <tr>\n",
       "      <th>10112</th>\n",
       "      <td>168</td>\n",
       "    </tr>\n",
       "    <tr>\n",
       "      <th>10113</th>\n",
       "      <td>2459</td>\n",
       "    </tr>\n",
       "    <tr>\n",
       "      <th>10114</th>\n",
       "      <td>550</td>\n",
       "    </tr>\n",
       "    <tr>\n",
       "      <th>10126</th>\n",
       "      <td>539</td>\n",
       "    </tr>\n",
       "    <tr>\n",
       "      <th>10127</th>\n",
       "      <td>364</td>\n",
       "    </tr>\n",
       "    <tr>\n",
       "      <th>10128</th>\n",
       "      <td>139</td>\n",
       "    </tr>\n",
       "    <tr>\n",
       "      <th>10140</th>\n",
       "      <td>608</td>\n",
       "    </tr>\n",
       "    <tr>\n",
       "      <th>10141</th>\n",
       "      <td>70</td>\n",
       "    </tr>\n",
       "    <tr>\n",
       "      <th>10142</th>\n",
       "      <td>566</td>\n",
       "    </tr>\n",
       "    <tr>\n",
       "      <th>10154</th>\n",
       "      <td>666</td>\n",
       "    </tr>\n",
       "    <tr>\n",
       "      <th>10155</th>\n",
       "      <td>516</td>\n",
       "    </tr>\n",
       "    <tr>\n",
       "      <th>10156</th>\n",
       "      <td>2029</td>\n",
       "    </tr>\n",
       "    <tr>\n",
       "      <th>10168</th>\n",
       "      <td>145</td>\n",
       "    </tr>\n",
       "    <tr>\n",
       "      <th>10169</th>\n",
       "      <td>352</td>\n",
       "    </tr>\n",
       "    <tr>\n",
       "      <th>...</th>\n",
       "      <td>...</td>\n",
       "    </tr>\n",
       "    <tr>\n",
       "      <th>9791</th>\n",
       "      <td>7</td>\n",
       "    </tr>\n",
       "    <tr>\n",
       "      <th>9806</th>\n",
       "      <td>6</td>\n",
       "    </tr>\n",
       "    <tr>\n",
       "      <th>9819</th>\n",
       "      <td>1</td>\n",
       "    </tr>\n",
       "    <tr>\n",
       "      <th>9820</th>\n",
       "      <td>2</td>\n",
       "    </tr>\n",
       "    <tr>\n",
       "      <th>9832</th>\n",
       "      <td>2</td>\n",
       "    </tr>\n",
       "    <tr>\n",
       "      <th>9834</th>\n",
       "      <td>4</td>\n",
       "    </tr>\n",
       "    <tr>\n",
       "      <th>9862</th>\n",
       "      <td>36</td>\n",
       "    </tr>\n",
       "    <tr>\n",
       "      <th>9888</th>\n",
       "      <td>2</td>\n",
       "    </tr>\n",
       "    <tr>\n",
       "      <th>9889</th>\n",
       "      <td>3</td>\n",
       "    </tr>\n",
       "    <tr>\n",
       "      <th>9890</th>\n",
       "      <td>3</td>\n",
       "    </tr>\n",
       "    <tr>\n",
       "      <th>9902</th>\n",
       "      <td>3681</td>\n",
       "    </tr>\n",
       "    <tr>\n",
       "      <th>9903</th>\n",
       "      <td>419</td>\n",
       "    </tr>\n",
       "    <tr>\n",
       "      <th>9904</th>\n",
       "      <td>146</td>\n",
       "    </tr>\n",
       "    <tr>\n",
       "      <th>9916</th>\n",
       "      <td>1895</td>\n",
       "    </tr>\n",
       "    <tr>\n",
       "      <th>9917</th>\n",
       "      <td>153</td>\n",
       "    </tr>\n",
       "    <tr>\n",
       "      <th>9918</th>\n",
       "      <td>38</td>\n",
       "    </tr>\n",
       "    <tr>\n",
       "      <th>9930</th>\n",
       "      <td>931</td>\n",
       "    </tr>\n",
       "    <tr>\n",
       "      <th>9931</th>\n",
       "      <td>983</td>\n",
       "    </tr>\n",
       "    <tr>\n",
       "      <th>9932</th>\n",
       "      <td>863</td>\n",
       "    </tr>\n",
       "    <tr>\n",
       "      <th>9944</th>\n",
       "      <td>1751</td>\n",
       "    </tr>\n",
       "    <tr>\n",
       "      <th>9945</th>\n",
       "      <td>359</td>\n",
       "    </tr>\n",
       "    <tr>\n",
       "      <th>9946</th>\n",
       "      <td>716</td>\n",
       "    </tr>\n",
       "    <tr>\n",
       "      <th>9959</th>\n",
       "      <td>1154</td>\n",
       "    </tr>\n",
       "    <tr>\n",
       "      <th>9960</th>\n",
       "      <td>276</td>\n",
       "    </tr>\n",
       "    <tr>\n",
       "      <th>9972</th>\n",
       "      <td>374</td>\n",
       "    </tr>\n",
       "    <tr>\n",
       "      <th>9973</th>\n",
       "      <td>537</td>\n",
       "    </tr>\n",
       "    <tr>\n",
       "      <th>9974</th>\n",
       "      <td>1238</td>\n",
       "    </tr>\n",
       "    <tr>\n",
       "      <th>9986</th>\n",
       "      <td>106</td>\n",
       "    </tr>\n",
       "    <tr>\n",
       "      <th>9987</th>\n",
       "      <td>659</td>\n",
       "    </tr>\n",
       "    <tr>\n",
       "      <th>9988</th>\n",
       "      <td>2121</td>\n",
       "    </tr>\n",
       "  </tbody>\n",
       "</table>\n",
       "<p>1769 rows × 1 columns</p>\n",
       "</div>"
      ],
      "text/plain": [
       "              vistas\n",
       "sku_category        \n",
       "10001             27\n",
       "10002            116\n",
       "10014            187\n",
       "10015             65\n",
       "10016            535\n",
       "10028           1262\n",
       "10029            265\n",
       "10030            361\n",
       "10044            194\n",
       "10084           1166\n",
       "10085           1982\n",
       "10086            516\n",
       "10098              1\n",
       "10099             59\n",
       "101              717\n",
       "10100            576\n",
       "10112            168\n",
       "10113           2459\n",
       "10114            550\n",
       "10126            539\n",
       "10127            364\n",
       "10128            139\n",
       "10140            608\n",
       "10141             70\n",
       "10142            566\n",
       "10154            666\n",
       "10155            516\n",
       "10156           2029\n",
       "10168            145\n",
       "10169            352\n",
       "...              ...\n",
       "9791               7\n",
       "9806               6\n",
       "9819               1\n",
       "9820               2\n",
       "9832               2\n",
       "9834               4\n",
       "9862              36\n",
       "9888               2\n",
       "9889               3\n",
       "9890               3\n",
       "9902            3681\n",
       "9903             419\n",
       "9904             146\n",
       "9916            1895\n",
       "9917             153\n",
       "9918              38\n",
       "9930             931\n",
       "9931             983\n",
       "9932             863\n",
       "9944            1751\n",
       "9945             359\n",
       "9946             716\n",
       "9959            1154\n",
       "9960             276\n",
       "9972             374\n",
       "9973             537\n",
       "9974            1238\n",
       "9986             106\n",
       "9987             659\n",
       "9988            2121\n",
       "\n",
       "[1769 rows x 1 columns]"
      ]
     },
     "execution_count": 279,
     "metadata": {},
     "output_type": "execute_result"
    }
   ],
   "source": [
    "brand_listing = data[data['event'] == 'brand listing']\n",
    "columna_pivote = 'person' # Elijo la columna por la cual voy a agrupar\n",
    "lista3 = brand_listing['skus'].str.split(',', expand = True) # Rompo la lista de Skus y genero una lista para cada sku\n",
    "lista3[columna_pivote] = brand_listing[columna_pivote] # Guardo este resultado en el dataframe original\n",
    "\n",
    "lista3 = lista3.set_index(columna_pivote).stack().to_frame() # Convierno cada elemento de la lista de Skus en una unica fila\n",
    "lista3 = lista3.reset_index() \n",
    "lista3.columns = [columna_pivote, 't', 'sku_category'] # Renombro las columnas\n",
    "lista3 = lista3.dropna(subset = ['sku_category']) #Elimino los skus que son nulos\n",
    "lista3 = lista3.groupby(['sku_category']).size().to_frame('vistas')\n",
    "\n",
    "lista3"
   ]
  },
  {
   "cell_type": "code",
   "execution_count": 280,
   "metadata": {},
   "outputs": [
    {
     "data": {
      "text/plain": [
       "Text(0,0.5,'Conversiones')"
      ]
     },
     "execution_count": 280,
     "metadata": {},
     "output_type": "execute_result"
    },
    {
     "data": {
      "image/png": "[encoded data removed]",
      "text/plain": [
       "<Figure size 936x720 with 1 Axes>"
      ]
     },
     "metadata": {},
     "output_type": "display_data"
    }
   ],
   "source": [
    "lista3['log_vistas'] = np.log10(lista3['vistas'])\n",
    "lista3['conversiones'] = conversiones['cantidad']\n",
    "lista3['conversiones'] = lista3.conversiones.apply(lambda x: 0 if np.isnan(x) else x)\n",
    "graf = lista3.plot.scatter(y = 'conversiones', x = 'log_vistas', figsize = (13, 10))\n",
    "graf.set_xlabel(\"Clicks por Brand Listing\")\n",
    "graf.set_ylabel(\"Conversiones\")"
   ]
  },
  {
   "cell_type": "code",
   "execution_count": null,
   "metadata": {},
   "outputs": [],
   "source": []
  }
 ],
 "metadata": {
  "kernelspec": {
   "display_name": "Python 3",
   "language": "python",
   "name": "python3"
  },
  "language_info": {
   "codemirror_mode": {
    "name": "ipython",
    "version": 3
   },
   "file_extension": ".py",
   "mimetype": "text/x-python",
   "name": "python",
   "nbconvert_exporter": "python",
   "pygments_lexer": "ipython3",
   "version": "3.6.5"
  }
 },
 "nbformat": 4,
 "nbformat_minor": 2
}
