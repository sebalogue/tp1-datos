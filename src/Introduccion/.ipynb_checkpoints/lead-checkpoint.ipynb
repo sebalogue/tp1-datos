{
 "cells": [
  {
   "cell_type": "code",
   "execution_count": 1,
   "metadata": {},
   "outputs": [],
   "source": [
    "import pandas as pd\n",
    "import matplotlib.pyplot as plt\n",
    "import numpy as np\n",
    "import seaborn as sns\n",
    "\n",
    "data = pd.read_csv('../../data/events.csv', low_memory=False)\n",
    "\n",
    "data['fecha'] = pd.to_datetime(data['timestamp'], errors='coerce')\n",
    "data['mes'] = data['fecha'].dt.month\n",
    "data['dayofyear'] = data['fecha'].dt.dayofyear\n",
    "\n",
    "sns.set(style=\"white\", context=\"talk\")"
   ]
  },
  {
   "cell_type": "code",
   "execution_count": 35,
   "metadata": {},
   "outputs": [
    {
     "data": {
      "text/plain": [
       "<matplotlib.axes._subplots.AxesSubplot at 0x261818b25f8>"
      ]
     },
     "execution_count": 35,
     "metadata": {},
     "output_type": "execute_result"
    },
    {
     "data": {
      "image/png": "[encoded data removed]",
      "text/plain": [
       "<Figure size 432x288 with 1 Axes>"
      ]
     },
     "metadata": {},
     "output_type": "display_data"
    }
   ],
   "source": [
    "productos = data[(data['event'] == 'conversion') | (data['event'] == 'lead')]\n",
    "productos = productos.groupby('model')['event'].value_counts().to_frame('cantidad')\n",
    "productos = productos.unstack().reset_index()\n",
    "productos.columns = ['model', 'conversion', 'lead']\n",
    "productos = productos.fillna(0)\n",
    "\n",
    "productos.plot.scatter(y = 'conversion', x = 'lead')"
   ]
  },
  {
   "cell_type": "code",
   "execution_count": 36,
   "metadata": {},
   "outputs": [
    {
     "data": {
      "text/plain": [
       "<matplotlib.axes._subplots.AxesSubplot at 0x261818fec18>"
      ]
     },
     "execution_count": 36,
     "metadata": {},
     "output_type": "execute_result"
    },
    {
     "data": {
      "image/png": "[encoded data removed]",
      "text/plain": [
       "<Figure size 432x288 with 1 Axes>"
      ]
     },
     "metadata": {},
     "output_type": "display_data"
    }
   ],
   "source": [
    "productos = data[(data['event'] == 'conversion') | (data['event'] == 'lead')]\n",
    "productos = productos.groupby('person')['event'].value_counts().to_frame('cantidad')\n",
    "productos = productos.unstack().reset_index()\n",
    "productos.columns = ['person', 'conversion', 'lead']\n",
    "productos = productos.fillna(0)\n",
    "productos.shape\n",
    "productos.plot.scatter(y = 'conversion', x = 'lead')"
   ]
  },
  {
   "cell_type": "markdown",
   "metadata": {},
   "source": [
    "### No pareciese que el Lead influya en los productos comprados"
   ]
  },
  {
   "cell_type": "code",
   "execution_count": 60,
   "metadata": {},
   "outputs": [
    {
     "data": {
      "text/plain": [
       "person        0113991901bca04301db2fe603767f8e03bdcd8103d11a...\n",
       "model         Samsung Galaxy On 7iPhone 6 PlusSamsung Galaxy...\n",
       "conversion                                                   36\n",
       "lead                                                        448\n",
       "dtype: object"
      ]
     },
     "execution_count": 60,
     "metadata": {},
     "output_type": "execute_result"
    }
   ],
   "source": [
    "filtro = data[(data.event == 'conversion') | (data.event == 'lead')]\n",
    "filtro = filtro.groupby(['person', 'model']).event.value_counts().to_frame('cantidad')\n",
    "\n",
    "filtro = filtro.unstack().fillna(0)\n",
    "\n",
    "filtro = filtro.reset_index()\n",
    "filtro.columns = ['person', 'model', 'conversion', 'lead']\n",
    "filtro = filtro[filtro.lead > 0]\n",
    "filtro.sum()\n",
    "# filtro[['conversion', 'lead']].sum().to_frame('magnitudes').plot.pie(y = 'magnitudes', figsize = (8, 8), colors = ['#EE4266', '#FFD23F'])"
   ]
  },
  {
   "cell_type": "markdown",
   "metadata": {},
   "source": [
    "El 8% de las veces que un producto es agregado a **Lead** termina siendo comprado (ya sea por causa del Lead o por causa externa, no podemos determinarlo)"
   ]
  },
  {
   "cell_type": "code",
   "execution_count": null,
   "metadata": {},
   "outputs": [],
   "source": []
  }
 ],
 "metadata": {
  "kernelspec": {
   "display_name": "Python 3",
   "language": "python",
   "name": "python3"
  },
  "language_info": {
   "codemirror_mode": {
    "name": "ipython",
    "version": 3
   },
   "file_extension": ".py",
   "mimetype": "text/x-python",
   "name": "python",
   "nbconvert_exporter": "python",
   "pygments_lexer": "ipython3",
   "version": "3.6.5"
  }
 },
 "nbformat": 4,
 "nbformat_minor": 2
}
