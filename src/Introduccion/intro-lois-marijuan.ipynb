{
 "cells": [
  {
   "cell_type": "code",
   "execution_count": 53,
   "metadata": {},
   "outputs": [],
   "source": [
    "import pandas as pd\n",
    "import matplotlib.pyplot as plt\n",
    "import numpy as npy\n",
    "import seaborn as sb\n",
    "\n",
    "data = pd.read_csv('../../data/events.csv', low_memory=False)\n",
    "\n",
    "data['fecha'] = pd.to_datetime(data['timestamp'], errors='coerce')\n",
    "data['mes'] = data['fecha'].dt.month"
   ]
  },
  {
   "cell_type": "markdown",
   "metadata": {},
   "source": [
    "# Pantallazo general a los eventos\n",
    "Aquí intentaré sacar conclusiones generales de cómo se comportan los eventos. Cuáles son los más frecuentes, los menos y y por qué."
   ]
  },
  {
   "cell_type": "code",
   "execution_count": 3,
   "metadata": {},
   "outputs": [
    {
     "data": {
      "text/html": [
       "<div>\n",
       "<style scoped>\n",
       "    .dataframe tbody tr th:only-of-type {\n",
       "        vertical-align: middle;\n",
       "    }\n",
       "\n",
       "    .dataframe tbody tr th {\n",
       "        vertical-align: top;\n",
       "    }\n",
       "\n",
       "    .dataframe thead th {\n",
       "        text-align: right;\n",
       "    }\n",
       "</style>\n",
       "<table border=\"1\" class=\"dataframe\">\n",
       "  <thead>\n",
       "    <tr style=\"text-align: right;\">\n",
       "      <th></th>\n",
       "      <th>timestamp</th>\n",
       "      <th>event</th>\n",
       "      <th>person</th>\n",
       "      <th>url</th>\n",
       "      <th>sku</th>\n",
       "      <th>model</th>\n",
       "      <th>condition</th>\n",
       "      <th>storage</th>\n",
       "      <th>color</th>\n",
       "      <th>skus</th>\n",
       "      <th>...</th>\n",
       "      <th>search_engine</th>\n",
       "      <th>channel</th>\n",
       "      <th>new_vs_returning</th>\n",
       "      <th>city</th>\n",
       "      <th>region</th>\n",
       "      <th>country</th>\n",
       "      <th>device_type</th>\n",
       "      <th>screen_resolution</th>\n",
       "      <th>operating_system_version</th>\n",
       "      <th>browser_version</th>\n",
       "    </tr>\n",
       "  </thead>\n",
       "  <tbody>\n",
       "    <tr>\n",
       "      <th>0</th>\n",
       "      <td>2018-05-31 23:38:05</td>\n",
       "      <td>ad campaign hit</td>\n",
       "      <td>0004b0a2</td>\n",
       "      <td>/comprar/iphone/iphone-5s</td>\n",
       "      <td>NaN</td>\n",
       "      <td>NaN</td>\n",
       "      <td>NaN</td>\n",
       "      <td>NaN</td>\n",
       "      <td>NaN</td>\n",
       "      <td>NaN</td>\n",
       "      <td>...</td>\n",
       "      <td>NaN</td>\n",
       "      <td>NaN</td>\n",
       "      <td>NaN</td>\n",
       "      <td>NaN</td>\n",
       "      <td>NaN</td>\n",
       "      <td>NaN</td>\n",
       "      <td>NaN</td>\n",
       "      <td>NaN</td>\n",
       "      <td>NaN</td>\n",
       "      <td>NaN</td>\n",
       "    </tr>\n",
       "    <tr>\n",
       "      <th>1</th>\n",
       "      <td>2018-05-31 23:38:05</td>\n",
       "      <td>visited site</td>\n",
       "      <td>0004b0a2</td>\n",
       "      <td>NaN</td>\n",
       "      <td>NaN</td>\n",
       "      <td>NaN</td>\n",
       "      <td>NaN</td>\n",
       "      <td>NaN</td>\n",
       "      <td>NaN</td>\n",
       "      <td>NaN</td>\n",
       "      <td>...</td>\n",
       "      <td>NaN</td>\n",
       "      <td>Paid</td>\n",
       "      <td>New</td>\n",
       "      <td>Camaragibe</td>\n",
       "      <td>Pernambuco</td>\n",
       "      <td>Brazil</td>\n",
       "      <td>Smartphone</td>\n",
       "      <td>360x640</td>\n",
       "      <td>Android 6</td>\n",
       "      <td>Chrome Mobile 39</td>\n",
       "    </tr>\n",
       "    <tr>\n",
       "      <th>2</th>\n",
       "      <td>2018-05-31 23:38:09</td>\n",
       "      <td>viewed product</td>\n",
       "      <td>0004b0a2</td>\n",
       "      <td>NaN</td>\n",
       "      <td>2694.0</td>\n",
       "      <td>iPhone 5s</td>\n",
       "      <td>Bom</td>\n",
       "      <td>32GB</td>\n",
       "      <td>Cinza espacial</td>\n",
       "      <td>NaN</td>\n",
       "      <td>...</td>\n",
       "      <td>NaN</td>\n",
       "      <td>NaN</td>\n",
       "      <td>NaN</td>\n",
       "      <td>NaN</td>\n",
       "      <td>NaN</td>\n",
       "      <td>NaN</td>\n",
       "      <td>NaN</td>\n",
       "      <td>NaN</td>\n",
       "      <td>NaN</td>\n",
       "      <td>NaN</td>\n",
       "    </tr>\n",
       "    <tr>\n",
       "      <th>3</th>\n",
       "      <td>2018-05-31 23:38:40</td>\n",
       "      <td>checkout</td>\n",
       "      <td>0004b0a2</td>\n",
       "      <td>NaN</td>\n",
       "      <td>2694.0</td>\n",
       "      <td>iPhone 5s</td>\n",
       "      <td>Bom</td>\n",
       "      <td>32GB</td>\n",
       "      <td>Cinza espacial</td>\n",
       "      <td>NaN</td>\n",
       "      <td>...</td>\n",
       "      <td>NaN</td>\n",
       "      <td>NaN</td>\n",
       "      <td>NaN</td>\n",
       "      <td>NaN</td>\n",
       "      <td>NaN</td>\n",
       "      <td>NaN</td>\n",
       "      <td>NaN</td>\n",
       "      <td>NaN</td>\n",
       "      <td>NaN</td>\n",
       "      <td>NaN</td>\n",
       "    </tr>\n",
       "    <tr>\n",
       "      <th>4</th>\n",
       "      <td>2018-05-29 13:29:25</td>\n",
       "      <td>viewed product</td>\n",
       "      <td>0006a21a</td>\n",
       "      <td>NaN</td>\n",
       "      <td>15338.0</td>\n",
       "      <td>Samsung Galaxy S8</td>\n",
       "      <td>Bom</td>\n",
       "      <td>64GB</td>\n",
       "      <td>Dourado</td>\n",
       "      <td>NaN</td>\n",
       "      <td>...</td>\n",
       "      <td>NaN</td>\n",
       "      <td>NaN</td>\n",
       "      <td>NaN</td>\n",
       "      <td>NaN</td>\n",
       "      <td>NaN</td>\n",
       "      <td>NaN</td>\n",
       "      <td>NaN</td>\n",
       "      <td>NaN</td>\n",
       "      <td>NaN</td>\n",
       "      <td>NaN</td>\n",
       "    </tr>\n",
       "  </tbody>\n",
       "</table>\n",
       "<p>5 rows × 23 columns</p>\n",
       "</div>"
      ],
      "text/plain": [
       "             timestamp            event    person                        url  \\\n",
       "0  2018-05-31 23:38:05  ad campaign hit  0004b0a2  /comprar/iphone/iphone-5s   \n",
       "1  2018-05-31 23:38:05     visited site  0004b0a2                        NaN   \n",
       "2  2018-05-31 23:38:09   viewed product  0004b0a2                        NaN   \n",
       "3  2018-05-31 23:38:40         checkout  0004b0a2                        NaN   \n",
       "4  2018-05-29 13:29:25   viewed product  0006a21a                        NaN   \n",
       "\n",
       "       sku              model condition storage           color skus  \\\n",
       "0      NaN                NaN       NaN     NaN             NaN  NaN   \n",
       "1      NaN                NaN       NaN     NaN             NaN  NaN   \n",
       "2   2694.0          iPhone 5s       Bom    32GB  Cinza espacial  NaN   \n",
       "3   2694.0          iPhone 5s       Bom    32GB  Cinza espacial  NaN   \n",
       "4  15338.0  Samsung Galaxy S8       Bom    64GB         Dourado  NaN   \n",
       "\n",
       "         ...        search_engine channel new_vs_returning        city  \\\n",
       "0        ...                  NaN     NaN              NaN         NaN   \n",
       "1        ...                  NaN    Paid              New  Camaragibe   \n",
       "2        ...                  NaN     NaN              NaN         NaN   \n",
       "3        ...                  NaN     NaN              NaN         NaN   \n",
       "4        ...                  NaN     NaN              NaN         NaN   \n",
       "\n",
       "       region country device_type screen_resolution operating_system_version  \\\n",
       "0         NaN     NaN         NaN               NaN                      NaN   \n",
       "1  Pernambuco  Brazil  Smartphone           360x640                Android 6   \n",
       "2         NaN     NaN         NaN               NaN                      NaN   \n",
       "3         NaN     NaN         NaN               NaN                      NaN   \n",
       "4         NaN     NaN         NaN               NaN                      NaN   \n",
       "\n",
       "    browser_version  \n",
       "0               NaN  \n",
       "1  Chrome Mobile 39  \n",
       "2               NaN  \n",
       "3               NaN  \n",
       "4               NaN  \n",
       "\n",
       "[5 rows x 23 columns]"
      ]
     },
     "execution_count": 3,
     "metadata": {},
     "output_type": "execute_result"
    }
   ],
   "source": [
    "data.head()"
   ]
  },
  {
   "cell_type": "code",
   "execution_count": 9,
   "metadata": {},
   "outputs": [
    {
     "data": {
      "text/plain": [
       "viewed product       528931\n",
       "brand listing         98635\n",
       "visited site          87378\n",
       "ad campaign hit       82827\n",
       "generic listing       67534\n",
       "searched products     56073\n",
       "search engine hit     50957\n",
       "checkout              33735\n",
       "staticpage             3598\n",
       "conversion             1172\n",
       "lead                    448\n",
       "Name: event, dtype: int64"
      ]
     },
     "execution_count": 9,
     "metadata": {},
     "output_type": "execute_result"
    }
   ],
   "source": [
    "eventos_mas_populares = data.event.value_counts()\n",
    "eventos_mas_populares"
   ]
  },
  {
   "cell_type": "code",
   "execution_count": 8,
   "metadata": {},
   "outputs": [
    {
     "data": {
      "text/plain": [
       "<matplotlib.axes._subplots.AxesSubplot at 0x1e6800edd30>"
      ]
     },
     "execution_count": 8,
     "metadata": {},
     "output_type": "execute_result"
    },
    {
     "data": {
      "image/png": "[encoded data removed]",
      "text/plain": [
       "<Figure size 432x288 with 1 Axes>"
      ]
     },
     "metadata": {},
     "output_type": "display_data"
    }
   ],
   "source": [
    "eventos_mas_populares.plot(kind = 'bar')"
   ]
  },
  {
   "cell_type": "markdown",
   "metadata": {},
   "source": [
    "## Quiero saber los eventos más frecuentes segun pais/region/ciudad"
   ]
  },
  {
   "cell_type": "code",
   "execution_count": 23,
   "metadata": {},
   "outputs": [
    {
     "data": {
      "text/plain": [
       "country             event       \n",
       "Algeria             visited site        1\n",
       "Angola              visited site        2\n",
       "Argentina           visited site       94\n",
       "Bangladesh          visited site        4\n",
       "Belize              visited site        1\n",
       "Brazil              visited site    84308\n",
       "Canada              visited site       35\n",
       "Cape Verde          visited site        1\n",
       "China               visited site        1\n",
       "Colombia            visited site        4\n",
       "Denmark             visited site        1\n",
       "Dominican Republic  visited site        6\n",
       "France              visited site       13\n",
       "French Guiana       visited site        8\n",
       "Germany             visited site        5\n",
       "Guadeloupe          visited site        6\n",
       "India               visited site        2\n",
       "Ireland             visited site        1\n",
       "Israel              visited site        1\n",
       "Italy               visited site        7\n",
       "Japan               visited site       11\n",
       "Mexico              visited site        1\n",
       "Morocco             visited site        2\n",
       "Mozambique          visited site       12\n",
       "Netherlands         visited site       13\n",
       "Paraguay            visited site        4\n",
       "Peru                visited site        1\n",
       "Philippines         visited site        1\n",
       "Poland              visited site        9\n",
       "Portugal            visited site        7\n",
       "Romania             visited site        7\n",
       "Russia              visited site        6\n",
       "Rwanda              visited site        1\n",
       "Saudi Arabia        visited site        1\n",
       "South Africa        visited site        1\n",
       "Spain               visited site        1\n",
       "Sri Lanka           visited site        1\n",
       "Switzerland         visited site        3\n",
       "Turkey              visited site        1\n",
       "United Kingdom      visited site       12\n",
       "United States       visited site      465\n",
       "Unknown             visited site     2313\n",
       "Uruguay             visited site        1\n",
       "Uzbekistan          visited site        1\n",
       "Venezuela           visited site        1\n",
       "Zimbabwe            visited site        1\n",
       "Name: event, dtype: int64"
      ]
     },
     "execution_count": 23,
     "metadata": {},
     "output_type": "execute_result"
    }
   ],
   "source": [
    "eventos_mas_populares_por_pais = data.groupby('country')['event'].value_counts()\n",
    "eventos_mas_populares_por_pais"
   ]
  },
  {
   "cell_type": "markdown",
   "metadata": {},
   "source": [
    "El único evento en dónde se involucra el campo 'country' es 'visited site', por lo que sólo conozco el pais mediante el cual las personas visitan el sitio.\n",
    "\n",
    "Quiero saber si ocurre lo mismo con el campo 'city' y con el campo 'region'"
   ]
  },
  {
   "cell_type": "code",
   "execution_count": 25,
   "metadata": {},
   "outputs": [
    {
     "data": {
      "text/plain": [
       "city                    event       \n",
       "Abadiania               visited site      2\n",
       "Abaete                  visited site      5\n",
       "Abaetetuba              visited site      4\n",
       "Abrantes                visited site      2\n",
       "Abreu e Lima            visited site     35\n",
       "Acailandia              visited site     42\n",
       "Acajutiba               visited site      1\n",
       "Acarau                  visited site     20\n",
       "Acegua                  visited site      1\n",
       "Acu                     visited site      2\n",
       "Adamantina              visited site      6\n",
       "Adolfo                  visited site      1\n",
       "Afogados da Ingazeira   visited site     46\n",
       "Afonso Claudio          visited site      6\n",
       "Agrestina               visited site      3\n",
       "Agronomica              visited site      1\n",
       "Agua Boa                visited site      4\n",
       "Agua Branca             visited site      4\n",
       "Agua Doce               visited site      1\n",
       "Aguai                   visited site      7\n",
       "Aguas Belas             visited site     10\n",
       "Aguas Lindas            visited site      2\n",
       "Aguas da Prata          visited site      9\n",
       "Aguas de Chapeco        visited site     39\n",
       "Agudos                  visited site      4\n",
       "Aguiar                  visited site      5\n",
       "Aiuaba                  visited site      2\n",
       "Alagoa Grande           visited site      5\n",
       "Alagoinha               visited site      1\n",
       "Alagoinhas              visited site     53\n",
       "                                       ... \n",
       "Vicentina               visited site      1\n",
       "Vicosa                  visited site     18\n",
       "Victoria                visited site      1\n",
       "Videira                 visited site      6\n",
       "Vila Muriqui            visited site      1\n",
       "Vila Pereira            visited site      1\n",
       "Vila Propicio           visited site      1\n",
       "Vila Real               visited site      1\n",
       "Vila Velha              visited site    234\n",
       "Vilhena                 visited site     21\n",
       "Vinhedo                 visited site     31\n",
       "Virgem da Lapa          visited site      3\n",
       "Virginia                visited site      3\n",
       "Visconde do Rio Branco  visited site      7\n",
       "Vitoria de Santo Antao  visited site     55\n",
       "Vitória                 visited site    187\n",
       "Vitória da Conquista    visited site    254\n",
       "Volta Redonda           visited site    102\n",
       "Votorantim              visited site     32\n",
       "Votuporanga             visited site     10\n",
       "Várzea Grande           visited site     79\n",
       "Wagner                  visited site      4\n",
       "Wanderley               visited site      4\n",
       "Wrexham                 visited site      5\n",
       "Xambioa                 visited site     23\n",
       "Xanxere                 visited site     16\n",
       "Xavantina               visited site      2\n",
       "Xexeu                   visited site      1\n",
       "Zdunska Wola            visited site      9\n",
       "Ze Doca                 visited site      2\n",
       "Name: event, Length: 1939, dtype: int64"
      ]
     },
     "execution_count": 25,
     "metadata": {},
     "output_type": "execute_result"
    }
   ],
   "source": [
    "eventos_mas_populares_por_city = data.groupby('city')['event'].value_counts()\n",
    "eventos_mas_populares_por_city"
   ]
  },
  {
   "cell_type": "code",
   "execution_count": 27,
   "metadata": {},
   "outputs": [
    {
     "data": {
      "text/plain": [
       "region                      event       \n",
       "Acre                        visited site       96\n",
       "Aichi                       visited site       11\n",
       "Alagoas                     visited site      751\n",
       "Amapa                       visited site      148\n",
       "Amazonas                    visited site      600\n",
       "Arkansas                    visited site        1\n",
       "Asuncion                    visited site        2\n",
       "Bahia                       visited site     5737\n",
       "Basel-City                  visited site        3\n",
       "British Columbia            visited site        6\n",
       "Buenos Aires                visited site        5\n",
       "Buenos Aires F.D.           visited site       76\n",
       "California                  visited site      199\n",
       "Castelo Branco              visited site        1\n",
       "Ceara                       visited site     2829\n",
       "Cidade de Maputo            visited site        8\n",
       "Colorado                    visited site       10\n",
       "Connecticut                 visited site       11\n",
       "Cordoba                     visited site        2\n",
       "Delaware                    visited site        1\n",
       "Departamento de Montevideo  visited site        1\n",
       "Dhaka                       visited site        1\n",
       "England                     visited site        5\n",
       "Espirito Santo              visited site     1257\n",
       "Essonne                     visited site        1\n",
       "Federal District            visited site     1739\n",
       "Florida                     visited site        5\n",
       "Gauteng                     visited site        1\n",
       "Georgia                     visited site        1\n",
       "Goias                       visited site     1564\n",
       "                                            ...  \n",
       "Paraíba                     visited site      875\n",
       "Paris                       visited site        1\n",
       "Pennsylvania                visited site        4\n",
       "Pernambuco                  visited site     2962\n",
       "Piaui                       visited site      824\n",
       "Porto                       visited site        3\n",
       "Province of Arezzo          visited site        3\n",
       "Quebec                      visited site       16\n",
       "Rio Grande do Norte         visited site     1064\n",
       "Rio Grande do Sul           visited site     2576\n",
       "Rio de Janeiro              visited site     6913\n",
       "Rondonia                    visited site      273\n",
       "Roraima                     visited site       67\n",
       "Santa Catarina              visited site     1511\n",
       "Santa Fe                    visited site        1\n",
       "Santarém                    visited site        1\n",
       "Sao Paulo                   visited site    24996\n",
       "Sergipe                     visited site      405\n",
       "Setúbal                     visited site        1\n",
       "Tennessee                   visited site       11\n",
       "Texas                       visited site       16\n",
       "Tocantins                   visited site      596\n",
       "Unknown                     visited site    14772\n",
       "Vaslui                      visited site        6\n",
       "Vila Real                   visited site        1\n",
       "Vologodskaya Oblast'        visited site        1\n",
       "Washington                  visited site        7\n",
       "Western Province            visited site        1\n",
       "Wrexham                     visited site        5\n",
       "Łódź Voivodeship            visited site        9\n",
       "Name: event, Length: 93, dtype: int64"
      ]
     },
     "execution_count": 27,
     "metadata": {},
     "output_type": "execute_result"
    }
   ],
   "source": [
    "eventos_mas_populares_por_region = data.groupby('region')['event'].value_counts()\n",
    "eventos_mas_populares_por_region"
   ]
  },
  {
   "cell_type": "markdown",
   "metadata": {},
   "source": [
    "### Conclusiones\n",
    "Los campos 'country', 'region' y 'city' solo están activos cuando el evento es 'visited site'.\n",
    "Intentaré determinar qué ciudades, regiones y países son las que generan más visitas.\n",
    "\n",
    "Las visitas más relevantes provienen de brasil, estados unidos y 'unknown'. Despreciaré el resto de los países ya que no aportan información sustancial al análisis."
   ]
  },
  {
   "cell_type": "markdown",
   "metadata": {},
   "source": [
    "### Cantidad de visitas por ciudad de Brasil"
   ]
  },
  {
   "cell_type": "code",
   "execution_count": 57,
   "metadata": {},
   "outputs": [
    {
     "data": {
      "text/plain": [
       "<matplotlib.axes._subplots.AxesSubplot at 0x1e69a245320>"
      ]
     },
     "execution_count": 57,
     "metadata": {},
     "output_type": "execute_result"
    },
    {
     "data": {
      "image/png": "[encoded data removed]",
      "text/plain": [
       "<Figure size 432x288 with 1 Axes>"
      ]
     },
     "metadata": {},
     "output_type": "display_data"
    }
   ],
   "source": [
    "eventos_mas_visitados_en_brasil = data[data['country'] == 'Brazil']\n",
    "ciudades = eventos_mas_visitados_en_brasil['city'].value_counts()\n",
    "ciudades.head(20).plot(kind = 'bar')"
   ]
  },
  {
   "cell_type": "markdown",
   "metadata": {},
   "source": [
    "### Cantidad de visitas por mes del 2018"
   ]
  },
  {
   "cell_type": "code",
   "execution_count": 66,
   "metadata": {},
   "outputs": [
    {
     "data": {
      "text/plain": [
       "<matplotlib.axes._subplots.AxesSubplot at 0x1e68c1ae198>"
      ]
     },
     "execution_count": 66,
     "metadata": {},
     "output_type": "execute_result"
    },
    {
     "data": {
      "image/png": "[encoded data removed]",
      "text/plain": [
       "<Figure size 432x288 with 1 Axes>"
      ]
     },
     "metadata": {},
     "output_type": "display_data"
    }
   ],
   "source": [
    "eventos_mas_populares_por_mes = eventos_mas_visitados_en_brasil['mes'].value_counts()\n",
    "eventos_mas_populares_por_mes.sort_values().plot(kind = 'bar')"
   ]
  },
  {
   "cell_type": "markdown",
   "metadata": {},
   "source": [
    "La mayor cantidad de datos proviene de localizaciones desconocidas, sin embargo tenemos una fuerte presencia en **Sao Paulo** seguido de **Rio de Janeiro**"
   ]
  },
  {
   "cell_type": "code",
   "execution_count": null,
   "metadata": {},
   "outputs": [],
   "source": []
  }
 ],
 "metadata": {
  "kernelspec": {
   "display_name": "Python 3",
   "language": "python",
   "name": "python3"
  },
  "language_info": {
   "codemirror_mode": {
    "name": "ipython",
    "version": 3
   },
   "file_extension": ".py",
   "mimetype": "text/x-python",
   "name": "python",
   "nbconvert_exporter": "python",
   "pygments_lexer": "ipython3",
   "version": "3.6.5"
  }
 },
 "nbformat": 4,
 "nbformat_minor": 2
}
